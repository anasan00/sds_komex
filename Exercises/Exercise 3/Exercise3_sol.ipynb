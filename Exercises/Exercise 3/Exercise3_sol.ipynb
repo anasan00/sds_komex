{
 "cells": [
  {
   "cell_type": "markdown",
   "metadata": {},
   "source": [
    "<div style=\"text-align: center;\" >\n",
    "<h1 style=\"margin-top: 0.2em; margin-bottom: 0.1em;\">Assignment 3</h1>\n",
    "</div>\n",
    "<br>"
   ]
  },
  {
   "cell_type": "markdown",
   "metadata": {},
   "source": [
    "### Install requirements. \n",
    "\n",
    "The following cell contains all the necessary dependencies needed for this task. If you run the cell everything will be installed. \n",
    "\n",
    "* [`transformers`](https://huggingface.co/) is a Python package for creating and working with transformers. [Here](https://huggingface.co/docs) is the documentation of `transformers`.\n",
    "* [`pandas`](https://pandas.pydata.org/docs/index.html) is a Python package for creating and working with tabular data. [Here](https://pandas.pydata.org/docs/reference/index.html) is the documentation of `pandas`.\n",
    "* [`torch`](https://pytorch.org/) is a Python machine learning framework. We need this here for `transformers` since this package uses internally `torch`. [Here](https://pytorch.org/docs/stable/index.html) is the documentation of `torch`."
   ]
  },
  {
   "cell_type": "code",
   "execution_count": 1,
   "metadata": {
    "scrolled": true
   },
   "outputs": [
    {
     "name": "stdout",
     "output_type": "stream",
     "text": [
      "Requirement already satisfied: transformers in c:\\users\\anasa\\anaconda3\\lib\\site-packages (4.31.0)\n",
      "Requirement already satisfied: filelock in c:\\users\\anasa\\anaconda3\\lib\\site-packages (from transformers) (3.9.0)\n",
      "Requirement already satisfied: huggingface-hub<1.0,>=0.14.1 in c:\\users\\anasa\\anaconda3\\lib\\site-packages (from transformers) (0.17.3)\n",
      "Requirement already satisfied: numpy>=1.17 in c:\\users\\anasa\\anaconda3\\lib\\site-packages (from transformers) (1.24.3)\n",
      "Requirement already satisfied: packaging>=20.0 in c:\\users\\anasa\\anaconda3\\lib\\site-packages (from transformers) (23.0)\n",
      "Requirement already satisfied: pyyaml>=5.1 in c:\\users\\anasa\\anaconda3\\lib\\site-packages (from transformers) (6.0)\n",
      "Requirement already satisfied: regex!=2019.12.17 in c:\\users\\anasa\\anaconda3\\lib\\site-packages (from transformers) (2022.7.9)\n",
      "Requirement already satisfied: requests in c:\\users\\anasa\\anaconda3\\lib\\site-packages (from transformers) (2.31.0)\n",
      "Requirement already satisfied: tokenizers!=0.11.3,<0.14,>=0.11.1 in c:\\users\\anasa\\anaconda3\\lib\\site-packages (from transformers) (0.13.3)\n",
      "Requirement already satisfied: safetensors>=0.3.1 in c:\\users\\anasa\\anaconda3\\lib\\site-packages (from transformers) (0.4.0)\n",
      "Requirement already satisfied: tqdm>=4.27 in c:\\users\\anasa\\anaconda3\\lib\\site-packages (from transformers) (4.65.0)\n",
      "Requirement already satisfied: fsspec in c:\\users\\anasa\\anaconda3\\lib\\site-packages (from huggingface-hub<1.0,>=0.14.1->transformers) (2023.3.0)\n",
      "Requirement already satisfied: typing-extensions>=3.7.4.3 in c:\\users\\anasa\\anaconda3\\lib\\site-packages (from huggingface-hub<1.0,>=0.14.1->transformers) (4.9.0)\n",
      "Requirement already satisfied: colorama in c:\\users\\anasa\\anaconda3\\lib\\site-packages (from tqdm>=4.27->transformers) (0.4.6)\n",
      "Requirement already satisfied: charset-normalizer<4,>=2 in c:\\users\\anasa\\anaconda3\\lib\\site-packages (from requests->transformers) (2.0.4)\n",
      "Requirement already satisfied: idna<4,>=2.5 in c:\\users\\anasa\\anaconda3\\lib\\site-packages (from requests->transformers) (3.4)\n",
      "Requirement already satisfied: urllib3<3,>=1.21.1 in c:\\users\\anasa\\anaconda3\\lib\\site-packages (from requests->transformers) (1.26.16)\n",
      "Requirement already satisfied: certifi>=2017.4.17 in c:\\users\\anasa\\anaconda3\\lib\\site-packages (from requests->transformers) (2024.2.2)\n",
      "Requirement already satisfied: pandas in c:\\users\\anasa\\anaconda3\\lib\\site-packages (1.5.3)\n",
      "Requirement already satisfied: python-dateutil>=2.8.1 in c:\\users\\anasa\\anaconda3\\lib\\site-packages (from pandas) (2.8.2)\n",
      "Requirement already satisfied: pytz>=2020.1 in c:\\users\\anasa\\anaconda3\\lib\\site-packages (from pandas) (2022.7)\n",
      "Requirement already satisfied: numpy>=1.21.0 in c:\\users\\anasa\\anaconda3\\lib\\site-packages (from pandas) (1.24.3)\n",
      "Requirement already satisfied: six>=1.5 in c:\\users\\anasa\\anaconda3\\lib\\site-packages (from python-dateutil>=2.8.1->pandas) (1.16.0)\n"
     ]
    }
   ],
   "source": [
    "! pip install transformers\n",
    "! pip install pandas\n",
    "! pip install torch"
   ]
  },
  {
   "cell_type": "markdown",
   "metadata": {},
   "source": [
    "You may need to restart the Kernel after installing the dependencies!"
   ]
  },
  {
   "cell_type": "markdown",
   "metadata": {},
   "source": [
    "### Import requirements\n",
    "The cell below imports all necessary dependancies. Make sure they are installed (see cell above)."
   ]
  },
  {
   "cell_type": "code",
   "execution_count": 1,
   "metadata": {},
   "outputs": [],
   "source": [
    "import pandas as pd\n",
    "from transformers import pipeline\n",
    "import numpy as np\n",
    "import matplotlib.pyplot as plt"
   ]
  },
  {
   "cell_type": "markdown",
   "metadata": {},
   "source": [
    "### Exercise 1"
   ]
  },
  {
   "cell_type": "markdown",
   "metadata": {},
   "source": [
    "In the following exercise you will use the emotion classification model [LEIA](https://huggingface.co/LEIA/LEIA-base) to classify the emotion of the sentences in the [enISEAR dataset](https://www.romanklinger.de/data-sets/). You read more about the `LEIA-base` in the [documentation](https://huggingface.co/LEIA/LEIA-base) and learn about the implementation details from this [paper](https://arxiv.org/abs/2304.10973)."
   ]
  },
  {
   "cell_type": "markdown",
   "metadata": {},
   "source": [
    "#### 1.1 LEIA introduction\n",
    "* Load the `LEIA-base` model and tokenize either as a [pipeline](https://huggingface.co/docs/transformers/main_classes/pipelines), or you can load the model and the tokenizer [directly](https://huggingface.co/docs/transformers/autoclass_tutorial) and implement the classification steps by yourself. LEIA only accepts sentences with up to 128 tokens. Make sure that your tokenizer [truncates](https://huggingface.co/docs/transformers/pad_truncation) longer sentences to this lenght to avoid errors.\n",
    "* What are the possible labels the model can predict?\n",
    "* Input the sentence `Today is a great day.` to the model, and predict the emotion of the sentence."
   ]
  },
  {
   "cell_type": "code",
   "execution_count": 2,
   "metadata": {},
   "outputs": [
    {
     "name": "stderr",
     "output_type": "stream",
     "text": [
      "emoji is not installed, thus not converting emoticons or emojis into text. Install emoji: pip3 install emoji==0.6.0\n",
      "Xformers is not installed correctly. If you want to use memory_efficient_attention to accelerate training use the following command to install Xformers\n",
      "pip install xformers.\n"
     ]
    }
   ],
   "source": [
    "\n",
    "# import pipeline\n",
    "pipe_leia = pipeline('text-classification', model='LEIA/LEIA-base', \n",
    "                     tokenizer='LEIA/LEIA-base', truncation=True, max_length=128)"
   ]
  },
  {
   "cell_type": "code",
   "execution_count": 6,
   "metadata": {},
   "outputs": [
    {
     "data": {
      "text/plain": [
       "{0: 'Sadness', 1: 'Affection', 2: 'Fear', 3: 'Happiness', 4: 'Anger'}"
      ]
     },
     "execution_count": 6,
     "metadata": {},
     "output_type": "execute_result"
    }
   ],
   "source": [
    "# print labels\n",
    "pipe_leia.model.config.id2label"
   ]
  },
  {
   "cell_type": "code",
   "execution_count": 7,
   "metadata": {},
   "outputs": [
    {
     "data": {
      "text/plain": [
       "[{'label': 'Happiness', 'score': 0.7999403476715088}]"
      ]
     },
     "execution_count": 7,
     "metadata": {},
     "output_type": "execute_result"
    }
   ],
   "source": [
    "# predict emotion of example sentence\n",
    "sentence = 'Today is a great day.'\n",
    "pipe_leia(sentence)"
   ]
  },
  {
   "cell_type": "markdown",
   "metadata": {},
   "source": [
    "#### 1.2 enISEAR dataset\n",
    "* Load the enISEAR dataset.\n",
    "* What are the possible labels in the dataset? (the `Prior_Emotion` column stores the actual label)\n",
    "* The last 7 columns store the labels given by the annotators. Create a new column `Annotator_Majority_Label`, which stores the emotion with the highest annotator score (i.e. the emotion the highest number of annotators chose for the given sentence).\n",
    "* What percent of the sentences were correctly classified by the (majority vote of the) annotators?"
   ]
  },
  {
   "cell_type": "code",
   "execution_count": 8,
   "metadata": {},
   "outputs": [],
   "source": [
    "df = pd.read_csv('enISEAR.tsv', sep='\\t')"
   ]
  },
  {
   "cell_type": "code",
   "execution_count": 9,
   "metadata": {},
   "outputs": [
    {
     "data": {
      "text/html": [
       "<div>\n",
       "<style scoped>\n",
       "    .dataframe tbody tr th:only-of-type {\n",
       "        vertical-align: middle;\n",
       "    }\n",
       "\n",
       "    .dataframe tbody tr th {\n",
       "        vertical-align: top;\n",
       "    }\n",
       "\n",
       "    .dataframe thead th {\n",
       "        text-align: right;\n",
       "    }\n",
       "</style>\n",
       "<table border=\"1\" class=\"dataframe\">\n",
       "  <thead>\n",
       "    <tr style=\"text-align: right;\">\n",
       "      <th></th>\n",
       "      <th>Sentence_id</th>\n",
       "      <th>Prior_Emotion</th>\n",
       "      <th>Sentence</th>\n",
       "      <th>Temporal_Distance</th>\n",
       "      <th>Intensity</th>\n",
       "      <th>Duration</th>\n",
       "      <th>Gender</th>\n",
       "      <th>City</th>\n",
       "      <th>Country</th>\n",
       "      <th>Worker_id</th>\n",
       "      <th>Time</th>\n",
       "      <th>Anger</th>\n",
       "      <th>Disgust</th>\n",
       "      <th>Fear</th>\n",
       "      <th>Guilt</th>\n",
       "      <th>Joy</th>\n",
       "      <th>Sadness</th>\n",
       "      <th>Shame</th>\n",
       "    </tr>\n",
       "  </thead>\n",
       "  <tbody>\n",
       "    <tr>\n",
       "      <th>0</th>\n",
       "      <td>271</td>\n",
       "      <td>Fear</td>\n",
       "      <td>I felt ... when my 2 year old broke her leg, a...</td>\n",
       "      <td>Y</td>\n",
       "      <td>Vi</td>\n",
       "      <td>Dom</td>\n",
       "      <td>Ml</td>\n",
       "      <td>Bristol</td>\n",
       "      <td>GBR</td>\n",
       "      <td>87</td>\n",
       "      <td>11/28/2018 00:58:52</td>\n",
       "      <td>0</td>\n",
       "      <td>0</td>\n",
       "      <td>0</td>\n",
       "      <td>1</td>\n",
       "      <td>0</td>\n",
       "      <td>3</td>\n",
       "      <td>1</td>\n",
       "    </tr>\n",
       "    <tr>\n",
       "      <th>1</th>\n",
       "      <td>597</td>\n",
       "      <td>Shame</td>\n",
       "      <td>I felt ... one Christmas as one of our patient...</td>\n",
       "      <td>Y</td>\n",
       "      <td>I</td>\n",
       "      <td>Dom</td>\n",
       "      <td>Fl</td>\n",
       "      <td>Dulwich</td>\n",
       "      <td>GBR</td>\n",
       "      <td>86</td>\n",
       "      <td>11/26/2018 06:52:02</td>\n",
       "      <td>1</td>\n",
       "      <td>0</td>\n",
       "      <td>0</td>\n",
       "      <td>4</td>\n",
       "      <td>0</td>\n",
       "      <td>0</td>\n",
       "      <td>0</td>\n",
       "    </tr>\n",
       "  </tbody>\n",
       "</table>\n",
       "</div>"
      ],
      "text/plain": [
       "   Sentence_id Prior_Emotion  \\\n",
       "0          271          Fear   \n",
       "1          597         Shame   \n",
       "\n",
       "                                            Sentence Temporal_Distance  \\\n",
       "0  I felt ... when my 2 year old broke her leg, a...                 Y   \n",
       "1  I felt ... one Christmas as one of our patient...                 Y   \n",
       "\n",
       "  Intensity Duration Gender     City Country  Worker_id                 Time  \\\n",
       "0        Vi      Dom     Ml  Bristol     GBR         87  11/28/2018 00:58:52   \n",
       "1         I      Dom     Fl  Dulwich     GBR         86  11/26/2018 06:52:02   \n",
       "\n",
       "   Anger  Disgust  Fear  Guilt  Joy  Sadness  Shame  \n",
       "0      0        0     0      1    0        3      1  \n",
       "1      1        0     0      4    0        0      0  "
      ]
     },
     "execution_count": 9,
     "metadata": {},
     "output_type": "execute_result"
    }
   ],
   "source": [
    "df.head(2)"
   ]
  },
  {
   "cell_type": "code",
   "execution_count": 10,
   "metadata": {},
   "outputs": [
    {
     "data": {
      "text/plain": [
       "['Fear', 'Shame', 'Guilt', 'Disgust', 'Sadness', 'Anger', 'Joy']"
      ]
     },
     "execution_count": 10,
     "metadata": {},
     "output_type": "execute_result"
    }
   ],
   "source": [
    "# possible labels\n",
    "df['Prior_Emotion'].unique().tolist()"
   ]
  },
  {
   "cell_type": "code",
   "execution_count": 11,
   "metadata": {},
   "outputs": [
    {
     "data": {
      "text/html": [
       "<div>\n",
       "<style scoped>\n",
       "    .dataframe tbody tr th:only-of-type {\n",
       "        vertical-align: middle;\n",
       "    }\n",
       "\n",
       "    .dataframe tbody tr th {\n",
       "        vertical-align: top;\n",
       "    }\n",
       "\n",
       "    .dataframe thead th {\n",
       "        text-align: right;\n",
       "    }\n",
       "</style>\n",
       "<table border=\"1\" class=\"dataframe\">\n",
       "  <thead>\n",
       "    <tr style=\"text-align: right;\">\n",
       "      <th></th>\n",
       "      <th>Sentence_id</th>\n",
       "      <th>Prior_Emotion</th>\n",
       "      <th>Sentence</th>\n",
       "      <th>Temporal_Distance</th>\n",
       "      <th>Intensity</th>\n",
       "      <th>Duration</th>\n",
       "      <th>Gender</th>\n",
       "      <th>City</th>\n",
       "      <th>Country</th>\n",
       "      <th>Worker_id</th>\n",
       "      <th>Time</th>\n",
       "      <th>Anger</th>\n",
       "      <th>Disgust</th>\n",
       "      <th>Fear</th>\n",
       "      <th>Guilt</th>\n",
       "      <th>Joy</th>\n",
       "      <th>Sadness</th>\n",
       "      <th>Shame</th>\n",
       "      <th>Annotator_Majority_Label</th>\n",
       "    </tr>\n",
       "  </thead>\n",
       "  <tbody>\n",
       "    <tr>\n",
       "      <th>0</th>\n",
       "      <td>271</td>\n",
       "      <td>Fear</td>\n",
       "      <td>I felt ... when my 2 year old broke her leg, a...</td>\n",
       "      <td>Y</td>\n",
       "      <td>Vi</td>\n",
       "      <td>Dom</td>\n",
       "      <td>Ml</td>\n",
       "      <td>Bristol</td>\n",
       "      <td>GBR</td>\n",
       "      <td>87</td>\n",
       "      <td>11/28/2018 00:58:52</td>\n",
       "      <td>0</td>\n",
       "      <td>0</td>\n",
       "      <td>0</td>\n",
       "      <td>1</td>\n",
       "      <td>0</td>\n",
       "      <td>3</td>\n",
       "      <td>1</td>\n",
       "      <td>Sadness</td>\n",
       "    </tr>\n",
       "    <tr>\n",
       "      <th>1</th>\n",
       "      <td>597</td>\n",
       "      <td>Shame</td>\n",
       "      <td>I felt ... one Christmas as one of our patient...</td>\n",
       "      <td>Y</td>\n",
       "      <td>I</td>\n",
       "      <td>Dom</td>\n",
       "      <td>Fl</td>\n",
       "      <td>Dulwich</td>\n",
       "      <td>GBR</td>\n",
       "      <td>86</td>\n",
       "      <td>11/26/2018 06:52:02</td>\n",
       "      <td>1</td>\n",
       "      <td>0</td>\n",
       "      <td>0</td>\n",
       "      <td>4</td>\n",
       "      <td>0</td>\n",
       "      <td>0</td>\n",
       "      <td>0</td>\n",
       "      <td>Guilt</td>\n",
       "    </tr>\n",
       "  </tbody>\n",
       "</table>\n",
       "</div>"
      ],
      "text/plain": [
       "   Sentence_id Prior_Emotion  \\\n",
       "0          271          Fear   \n",
       "1          597         Shame   \n",
       "\n",
       "                                            Sentence Temporal_Distance  \\\n",
       "0  I felt ... when my 2 year old broke her leg, a...                 Y   \n",
       "1  I felt ... one Christmas as one of our patient...                 Y   \n",
       "\n",
       "  Intensity Duration Gender     City Country  Worker_id                 Time  \\\n",
       "0        Vi      Dom     Ml  Bristol     GBR         87  11/28/2018 00:58:52   \n",
       "1         I      Dom     Fl  Dulwich     GBR         86  11/26/2018 06:52:02   \n",
       "\n",
       "   Anger  Disgust  Fear  Guilt  Joy  Sadness  Shame Annotator_Majority_Label  \n",
       "0      0        0     0      1    0        3      1                  Sadness  \n",
       "1      1        0     0      4    0        0      0                    Guilt  "
      ]
     },
     "execution_count": 11,
     "metadata": {},
     "output_type": "execute_result"
    }
   ],
   "source": [
    "label_cols = df['Prior_Emotion'].unique().tolist()\n",
    "df['Annotator_Majority_Label'] = df[label_cols].idxmax(axis=1)\n",
    "df.head(2)"
   ]
  },
  {
   "cell_type": "code",
   "execution_count": 12,
   "metadata": {},
   "outputs": [
    {
     "data": {
      "text/plain": [
       "['Sadness', 'Guilt', 'Anger', 'Disgust', 'Fear', 'Joy', 'Shame']"
      ]
     },
     "execution_count": 12,
     "metadata": {},
     "output_type": "execute_result"
    }
   ],
   "source": [
    "df['Annotator_Majority_Label'].unique().tolist()"
   ]
  },
  {
   "cell_type": "code",
   "execution_count": 13,
   "metadata": {},
   "outputs": [
    {
     "name": "stdout",
     "output_type": "stream",
     "text": [
      "Percent of correctly classified sentences: \u001b[1m79.52%\u001b[0m\n"
     ]
    }
   ],
   "source": [
    "# calculate the share of correctly specified sentences\n",
    "annot_accuracy = (df['Annotator_Majority_Label'] == df['Prior_Emotion']).sum() / len(df)\n",
    "print('Percent of correctly classified sentences: \\033[1m{:.2%}\\033[0m'.format(annot_accuracy))"
   ]
  },
  {
   "cell_type": "markdown",
   "metadata": {},
   "source": [
    "#### 1.3 Classification\n",
    "* Drop the rows from the enISEAR dataset, where the `Prior_Emotion` is not one of `Fear`, `Sadness`, `Anger` or `Joy`\n",
    "* Use `Leia` to classify the emotion of each remaining sentence in the dataset, and add a column `Leia_Label` to store the predicted classes\n",
    "* Now remove `I felt ... ` from the beginning of each sentence, and rerun the classfication. Store your results in a column named `Leia_Label_Clean`\n",
    "* Where the model predicted `Happiness` or `Affection`, change the prediction to `Joy` to match the dataset's labels (for both columns -> `Leia_Label` and `Leia_Label_Clean`)"
   ]
  },
  {
   "cell_type": "code",
   "execution_count": 14,
   "metadata": {},
   "outputs": [],
   "source": [
    "from tqdm.notebook import tqdm\n",
    "tqdm.pandas()"
   ]
  },
  {
   "cell_type": "code",
   "execution_count": 15,
   "metadata": {
    "scrolled": true
   },
   "outputs": [
    {
     "data": {
      "text/html": [
       "<div>\n",
       "<style scoped>\n",
       "    .dataframe tbody tr th:only-of-type {\n",
       "        vertical-align: middle;\n",
       "    }\n",
       "\n",
       "    .dataframe tbody tr th {\n",
       "        vertical-align: top;\n",
       "    }\n",
       "\n",
       "    .dataframe thead th {\n",
       "        text-align: right;\n",
       "    }\n",
       "</style>\n",
       "<table border=\"1\" class=\"dataframe\">\n",
       "  <thead>\n",
       "    <tr style=\"text-align: right;\">\n",
       "      <th></th>\n",
       "      <th>Sentence_id</th>\n",
       "      <th>Prior_Emotion</th>\n",
       "      <th>Sentence</th>\n",
       "      <th>Temporal_Distance</th>\n",
       "      <th>Intensity</th>\n",
       "      <th>Duration</th>\n",
       "      <th>Gender</th>\n",
       "      <th>City</th>\n",
       "      <th>Country</th>\n",
       "      <th>Worker_id</th>\n",
       "      <th>Time</th>\n",
       "      <th>Anger</th>\n",
       "      <th>Fear</th>\n",
       "      <th>Joy</th>\n",
       "      <th>Sadness</th>\n",
       "      <th>Annotator_Majority_Label</th>\n",
       "    </tr>\n",
       "  </thead>\n",
       "  <tbody>\n",
       "    <tr>\n",
       "      <th>0</th>\n",
       "      <td>271</td>\n",
       "      <td>Fear</td>\n",
       "      <td>I felt ... when my 2 year old broke her leg, a...</td>\n",
       "      <td>Y</td>\n",
       "      <td>Vi</td>\n",
       "      <td>Dom</td>\n",
       "      <td>Ml</td>\n",
       "      <td>Bristol</td>\n",
       "      <td>GBR</td>\n",
       "      <td>87</td>\n",
       "      <td>11/28/2018 00:58:52</td>\n",
       "      <td>0</td>\n",
       "      <td>0</td>\n",
       "      <td>0</td>\n",
       "      <td>3</td>\n",
       "      <td>Sadness</td>\n",
       "    </tr>\n",
       "    <tr>\n",
       "      <th>1</th>\n",
       "      <td>509</td>\n",
       "      <td>Sadness</td>\n",
       "      <td>I felt ... when my Gran passed away.</td>\n",
       "      <td>Y</td>\n",
       "      <td>Vi</td>\n",
       "      <td>Dom</td>\n",
       "      <td>Fl</td>\n",
       "      <td>Stoke-on-trent</td>\n",
       "      <td>GBR</td>\n",
       "      <td>92</td>\n",
       "      <td>11/26/2018 09:23:38</td>\n",
       "      <td>0</td>\n",
       "      <td>0</td>\n",
       "      <td>0</td>\n",
       "      <td>5</td>\n",
       "      <td>Sadness</td>\n",
       "    </tr>\n",
       "    <tr>\n",
       "      <th>2</th>\n",
       "      <td>218</td>\n",
       "      <td>Fear</td>\n",
       "      <td>I felt ... when an aeroplane I was on hit a he...</td>\n",
       "      <td>Y</td>\n",
       "      <td>Vi</td>\n",
       "      <td>Sh</td>\n",
       "      <td>Ml</td>\n",
       "      <td>Prescot</td>\n",
       "      <td>GBR</td>\n",
       "      <td>63</td>\n",
       "      <td>11/24/2018 09:14:44</td>\n",
       "      <td>0</td>\n",
       "      <td>5</td>\n",
       "      <td>0</td>\n",
       "      <td>0</td>\n",
       "      <td>Fear</td>\n",
       "    </tr>\n",
       "    <tr>\n",
       "      <th>3</th>\n",
       "      <td>553</td>\n",
       "      <td>Sadness</td>\n",
       "      <td>I felt ... when my lover Pierre-Guillaume left...</td>\n",
       "      <td>M</td>\n",
       "      <td>Vi</td>\n",
       "      <td>Dom</td>\n",
       "      <td>Fl</td>\n",
       "      <td>NaN</td>\n",
       "      <td>GBR</td>\n",
       "      <td>105</td>\n",
       "      <td>11/28/2018 09:31:20</td>\n",
       "      <td>4</td>\n",
       "      <td>0</td>\n",
       "      <td>0</td>\n",
       "      <td>1</td>\n",
       "      <td>Anger</td>\n",
       "    </tr>\n",
       "    <tr>\n",
       "      <th>4</th>\n",
       "      <td>58</td>\n",
       "      <td>Anger</td>\n",
       "      <td>I felt ... when someone hit my wife's car and ...</td>\n",
       "      <td>W</td>\n",
       "      <td>Mi</td>\n",
       "      <td>H</td>\n",
       "      <td>Ml</td>\n",
       "      <td>Bristol</td>\n",
       "      <td>GBR</td>\n",
       "      <td>87</td>\n",
       "      <td>11/28/2018 00:53:03</td>\n",
       "      <td>5</td>\n",
       "      <td>0</td>\n",
       "      <td>0</td>\n",
       "      <td>0</td>\n",
       "      <td>Anger</td>\n",
       "    </tr>\n",
       "    <tr>\n",
       "      <th>...</th>\n",
       "      <td>...</td>\n",
       "      <td>...</td>\n",
       "      <td>...</td>\n",
       "      <td>...</td>\n",
       "      <td>...</td>\n",
       "      <td>...</td>\n",
       "      <td>...</td>\n",
       "      <td>...</td>\n",
       "      <td>...</td>\n",
       "      <td>...</td>\n",
       "      <td>...</td>\n",
       "      <td>...</td>\n",
       "      <td>...</td>\n",
       "      <td>...</td>\n",
       "      <td>...</td>\n",
       "      <td>...</td>\n",
       "    </tr>\n",
       "    <tr>\n",
       "      <th>567</th>\n",
       "      <td>536</td>\n",
       "      <td>Sadness</td>\n",
       "      <td>I felt ... when an impoverished family we know...</td>\n",
       "      <td>D</td>\n",
       "      <td>I</td>\n",
       "      <td>Dom</td>\n",
       "      <td>Fl</td>\n",
       "      <td>Ely</td>\n",
       "      <td>GBR</td>\n",
       "      <td>62</td>\n",
       "      <td>11/27/2018 19:10:33</td>\n",
       "      <td>1</td>\n",
       "      <td>0</td>\n",
       "      <td>0</td>\n",
       "      <td>3</td>\n",
       "      <td>Sadness</td>\n",
       "    </tr>\n",
       "    <tr>\n",
       "      <th>568</th>\n",
       "      <td>546</td>\n",
       "      <td>Sadness</td>\n",
       "      <td>I felt ... when a horse was killed in the Gran...</td>\n",
       "      <td>Y</td>\n",
       "      <td>Mi</td>\n",
       "      <td>Fm</td>\n",
       "      <td>Ml</td>\n",
       "      <td>Chelmsford</td>\n",
       "      <td>GBR</td>\n",
       "      <td>91</td>\n",
       "      <td>11/26/2018 23:37:16</td>\n",
       "      <td>0</td>\n",
       "      <td>0</td>\n",
       "      <td>0</td>\n",
       "      <td>4</td>\n",
       "      <td>Sadness</td>\n",
       "    </tr>\n",
       "    <tr>\n",
       "      <th>569</th>\n",
       "      <td>548</td>\n",
       "      <td>Sadness</td>\n",
       "      <td>I felt ... when my college course finished as ...</td>\n",
       "      <td>M</td>\n",
       "      <td>Mi</td>\n",
       "      <td>Dom</td>\n",
       "      <td>Ml</td>\n",
       "      <td>Prescot</td>\n",
       "      <td>GBR</td>\n",
       "      <td>63</td>\n",
       "      <td>11/27/2018 18:52:36</td>\n",
       "      <td>0</td>\n",
       "      <td>0</td>\n",
       "      <td>0</td>\n",
       "      <td>5</td>\n",
       "      <td>Sadness</td>\n",
       "    </tr>\n",
       "    <tr>\n",
       "      <th>570</th>\n",
       "      <td>555</td>\n",
       "      <td>Sadness</td>\n",
       "      <td>I felt ... when I saw an old man waiting alone...</td>\n",
       "      <td>M</td>\n",
       "      <td>Mi</td>\n",
       "      <td>H</td>\n",
       "      <td>Ml</td>\n",
       "      <td>NaN</td>\n",
       "      <td>GBR</td>\n",
       "      <td>68</td>\n",
       "      <td>11/28/2018 09:53:25</td>\n",
       "      <td>0</td>\n",
       "      <td>0</td>\n",
       "      <td>0</td>\n",
       "      <td>5</td>\n",
       "      <td>Sadness</td>\n",
       "    </tr>\n",
       "    <tr>\n",
       "      <th>571</th>\n",
       "      <td>556</td>\n",
       "      <td>Sadness</td>\n",
       "      <td>I felt ... when I saw a recent wildlife docume...</td>\n",
       "      <td>W</td>\n",
       "      <td>I</td>\n",
       "      <td>Sh</td>\n",
       "      <td>Ml</td>\n",
       "      <td>Prescot</td>\n",
       "      <td>GBR</td>\n",
       "      <td>63</td>\n",
       "      <td>11/28/2018 10:14:01</td>\n",
       "      <td>0</td>\n",
       "      <td>0</td>\n",
       "      <td>0</td>\n",
       "      <td>5</td>\n",
       "      <td>Sadness</td>\n",
       "    </tr>\n",
       "  </tbody>\n",
       "</table>\n",
       "<p>572 rows × 16 columns</p>\n",
       "</div>"
      ],
      "text/plain": [
       "     Sentence_id Prior_Emotion  \\\n",
       "0            271          Fear   \n",
       "1            509       Sadness   \n",
       "2            218          Fear   \n",
       "3            553       Sadness   \n",
       "4             58         Anger   \n",
       "..           ...           ...   \n",
       "567          536       Sadness   \n",
       "568          546       Sadness   \n",
       "569          548       Sadness   \n",
       "570          555       Sadness   \n",
       "571          556       Sadness   \n",
       "\n",
       "                                              Sentence Temporal_Distance  \\\n",
       "0    I felt ... when my 2 year old broke her leg, a...                 Y   \n",
       "1                 I felt ... when my Gran passed away.                 Y   \n",
       "2    I felt ... when an aeroplane I was on hit a he...                 Y   \n",
       "3    I felt ... when my lover Pierre-Guillaume left...                 M   \n",
       "4    I felt ... when someone hit my wife's car and ...                 W   \n",
       "..                                                 ...               ...   \n",
       "567  I felt ... when an impoverished family we know...                 D   \n",
       "568  I felt ... when a horse was killed in the Gran...                 Y   \n",
       "569  I felt ... when my college course finished as ...                 M   \n",
       "570  I felt ... when I saw an old man waiting alone...                 M   \n",
       "571  I felt ... when I saw a recent wildlife docume...                 W   \n",
       "\n",
       "    Intensity Duration Gender            City Country  Worker_id  \\\n",
       "0          Vi      Dom     Ml         Bristol     GBR         87   \n",
       "1          Vi      Dom     Fl  Stoke-on-trent     GBR         92   \n",
       "2          Vi       Sh     Ml         Prescot     GBR         63   \n",
       "3          Vi      Dom     Fl             NaN     GBR        105   \n",
       "4          Mi        H     Ml         Bristol     GBR         87   \n",
       "..        ...      ...    ...             ...     ...        ...   \n",
       "567         I      Dom     Fl             Ely     GBR         62   \n",
       "568        Mi       Fm     Ml      Chelmsford     GBR         91   \n",
       "569        Mi      Dom     Ml         Prescot     GBR         63   \n",
       "570        Mi        H     Ml             NaN     GBR         68   \n",
       "571         I       Sh     Ml         Prescot     GBR         63   \n",
       "\n",
       "                    Time  Anger  Fear  Joy  Sadness Annotator_Majority_Label  \n",
       "0    11/28/2018 00:58:52      0     0    0        3                  Sadness  \n",
       "1    11/26/2018 09:23:38      0     0    0        5                  Sadness  \n",
       "2    11/24/2018 09:14:44      0     5    0        0                     Fear  \n",
       "3    11/28/2018 09:31:20      4     0    0        1                    Anger  \n",
       "4    11/28/2018 00:53:03      5     0    0        0                    Anger  \n",
       "..                   ...    ...   ...  ...      ...                      ...  \n",
       "567  11/27/2018 19:10:33      1     0    0        3                  Sadness  \n",
       "568  11/26/2018 23:37:16      0     0    0        4                  Sadness  \n",
       "569  11/27/2018 18:52:36      0     0    0        5                  Sadness  \n",
       "570  11/28/2018 09:53:25      0     0    0        5                  Sadness  \n",
       "571  11/28/2018 10:14:01      0     0    0        5                  Sadness  \n",
       "\n",
       "[572 rows x 16 columns]"
      ]
     },
     "execution_count": 15,
     "metadata": {},
     "output_type": "execute_result"
    }
   ],
   "source": [
    "# preprocessing\n",
    "cols_to_drop = ['Disgust', 'Guilt', 'Shame']\n",
    "df = df[[i for i in df.columns if i not in cols_to_drop]]\n",
    "df = df.loc[~df['Prior_Emotion'].isin(cols_to_drop)]\n",
    "df = df.reset_index(drop=True)\n",
    "df"
   ]
  },
  {
   "cell_type": "code",
   "execution_count": 16,
   "metadata": {},
   "outputs": [
    {
     "data": {
      "application/vnd.jupyter.widget-view+json": {
       "model_id": "41c268efc3c649c186642a05df7168a4",
       "version_major": 2,
       "version_minor": 0
      },
      "text/plain": [
       "  0%|          | 0/572 [00:00<?, ?it/s]"
      ]
     },
     "metadata": {},
     "output_type": "display_data"
    }
   ],
   "source": [
    "# create leia label\n",
    "df['Leia_Label'] = df['Sentence'].progress_apply(lambda x: pipe_leia(x)[0]['label'])"
   ]
  },
  {
   "cell_type": "code",
   "execution_count": 17,
   "metadata": {},
   "outputs": [
    {
     "data": {
      "application/vnd.jupyter.widget-view+json": {
       "model_id": "601e00aff2044207b4e78c9a5f988969",
       "version_major": 2,
       "version_minor": 0
      },
      "text/plain": [
       "  0%|          | 0/572 [00:00<?, ?it/s]"
      ]
     },
     "metadata": {},
     "output_type": "display_data"
    }
   ],
   "source": [
    "# drop beginning\n",
    "df['Sentence_Clean'] = df['Sentence'].str.lstrip('I felt ... ')\n",
    "df['Leia_Label_Clean'] = df['Sentence_Clean'].progress_apply(lambda x: pipe_leia(x)[0]['label'])"
   ]
  },
  {
   "cell_type": "code",
   "execution_count": 18,
   "metadata": {},
   "outputs": [
    {
     "data": {
      "text/plain": [
       "Series([], Name: Sentence_Clean, dtype: object)"
      ]
     },
     "execution_count": 18,
     "metadata": {},
     "output_type": "execute_result"
    }
   ],
   "source": [
    "df.loc[df['Sentence_Clean'].str.startswith('I'), 'Sentence_Clean']"
   ]
  },
  {
   "cell_type": "code",
   "execution_count": 19,
   "metadata": {},
   "outputs": [
    {
     "data": {
      "text/plain": [
       "0      when my 2 year old broke her leg, and we felt ...\n",
       "1                              when my Gran passed away.\n",
       "2      when an aeroplane I was on hit a heavy turbule...\n",
       "3      when my lover Pierre-Guillaume left me for ano...\n",
       "4         when someone hit my wife's car and drove away.\n",
       "                             ...                        \n",
       "567    when an impoverished family we know well hid t...\n",
       "568       when a horse was killed in the Grand National.\n",
       "569    when my college course finished as I was unsur...\n",
       "570    when I saw an old man waiting alone at the bus...\n",
       "571    when I saw a recent wildlife documentary where...\n",
       "Name: Sentence_Clean, Length: 572, dtype: object"
      ]
     },
     "execution_count": 19,
     "metadata": {},
     "output_type": "execute_result"
    }
   ],
   "source": [
    "df['Sentence_Clean']"
   ]
  },
  {
   "cell_type": "code",
   "execution_count": 20,
   "metadata": {},
   "outputs": [
    {
     "data": {
      "application/vnd.jupyter.widget-view+json": {
       "model_id": "0b03bacbd5744b1f8681efc21791553e",
       "version_major": 2,
       "version_minor": 0
      },
      "text/plain": [
       "  0%|          | 0/572 [00:00<?, ?it/s]"
      ]
     },
     "metadata": {},
     "output_type": "display_data"
    }
   ],
   "source": [
    "#mask would be an additional way of improve the performance \n",
    "df['Sentence_Masked'] = df['Sentence'].str.replace('...', '<mask>', regex=False)\n",
    "df['Leia_Label_Masked'] = df['Sentence_Masked'].progress_apply(lambda x: pipe_leia(x)[0]['label'])"
   ]
  },
  {
   "cell_type": "code",
   "execution_count": 21,
   "metadata": {},
   "outputs": [
    {
     "data": {
      "text/plain": [
       "Sadness      210\n",
       "Fear         135\n",
       "Happiness     87\n",
       "Anger         80\n",
       "Affection     60\n",
       "Name: Leia_Label_Masked, dtype: int64"
      ]
     },
     "execution_count": 21,
     "metadata": {},
     "output_type": "execute_result"
    }
   ],
   "source": [
    "df['Leia_Label_Masked'].value_counts()"
   ]
  },
  {
   "cell_type": "code",
   "execution_count": 22,
   "metadata": {},
   "outputs": [],
   "source": [
    "update_dict = {'Happiness': 'Joy', 'Affection': 'Joy'}\n",
    "df['Leia_Label'] = df['Leia_Label'].replace(update_dict)\n",
    "df['Leia_Label_Clean'] = df['Leia_Label_Clean'].replace(update_dict)\n",
    "df['Leia_Label_Masked'] = df['Leia_Label_Masked'].replace(update_dict)"
   ]
  },
  {
   "cell_type": "code",
   "execution_count": 23,
   "metadata": {},
   "outputs": [
    {
     "data": {
      "text/html": [
       "<div>\n",
       "<style scoped>\n",
       "    .dataframe tbody tr th:only-of-type {\n",
       "        vertical-align: middle;\n",
       "    }\n",
       "\n",
       "    .dataframe tbody tr th {\n",
       "        vertical-align: top;\n",
       "    }\n",
       "\n",
       "    .dataframe thead th {\n",
       "        text-align: right;\n",
       "    }\n",
       "</style>\n",
       "<table border=\"1\" class=\"dataframe\">\n",
       "  <thead>\n",
       "    <tr style=\"text-align: right;\">\n",
       "      <th></th>\n",
       "      <th>Sentence_id</th>\n",
       "      <th>Prior_Emotion</th>\n",
       "      <th>Sentence</th>\n",
       "      <th>Temporal_Distance</th>\n",
       "      <th>Intensity</th>\n",
       "      <th>Duration</th>\n",
       "      <th>Gender</th>\n",
       "      <th>City</th>\n",
       "      <th>Country</th>\n",
       "      <th>Worker_id</th>\n",
       "      <th>...</th>\n",
       "      <th>Anger</th>\n",
       "      <th>Fear</th>\n",
       "      <th>Joy</th>\n",
       "      <th>Sadness</th>\n",
       "      <th>Annotator_Majority_Label</th>\n",
       "      <th>Leia_Label</th>\n",
       "      <th>Sentence_Clean</th>\n",
       "      <th>Leia_Label_Clean</th>\n",
       "      <th>Sentence_Masked</th>\n",
       "      <th>Leia_Label_Masked</th>\n",
       "    </tr>\n",
       "  </thead>\n",
       "  <tbody>\n",
       "    <tr>\n",
       "      <th>0</th>\n",
       "      <td>271</td>\n",
       "      <td>Fear</td>\n",
       "      <td>I felt ... when my 2 year old broke her leg, a...</td>\n",
       "      <td>Y</td>\n",
       "      <td>Vi</td>\n",
       "      <td>Dom</td>\n",
       "      <td>Ml</td>\n",
       "      <td>Bristol</td>\n",
       "      <td>GBR</td>\n",
       "      <td>87</td>\n",
       "      <td>...</td>\n",
       "      <td>0</td>\n",
       "      <td>0</td>\n",
       "      <td>0</td>\n",
       "      <td>3</td>\n",
       "      <td>Sadness</td>\n",
       "      <td>Fear</td>\n",
       "      <td>when my 2 year old broke her leg, and we felt ...</td>\n",
       "      <td>Anger</td>\n",
       "      <td>I felt &lt;mask&gt; when my 2 year old broke her leg...</td>\n",
       "      <td>Fear</td>\n",
       "    </tr>\n",
       "    <tr>\n",
       "      <th>1</th>\n",
       "      <td>509</td>\n",
       "      <td>Sadness</td>\n",
       "      <td>I felt ... when my Gran passed away.</td>\n",
       "      <td>Y</td>\n",
       "      <td>Vi</td>\n",
       "      <td>Dom</td>\n",
       "      <td>Fl</td>\n",
       "      <td>Stoke-on-trent</td>\n",
       "      <td>GBR</td>\n",
       "      <td>92</td>\n",
       "      <td>...</td>\n",
       "      <td>0</td>\n",
       "      <td>0</td>\n",
       "      <td>0</td>\n",
       "      <td>5</td>\n",
       "      <td>Sadness</td>\n",
       "      <td>Sadness</td>\n",
       "      <td>when my Gran passed away.</td>\n",
       "      <td>Sadness</td>\n",
       "      <td>I felt &lt;mask&gt; when my Gran passed away.</td>\n",
       "      <td>Sadness</td>\n",
       "    </tr>\n",
       "    <tr>\n",
       "      <th>2</th>\n",
       "      <td>218</td>\n",
       "      <td>Fear</td>\n",
       "      <td>I felt ... when an aeroplane I was on hit a he...</td>\n",
       "      <td>Y</td>\n",
       "      <td>Vi</td>\n",
       "      <td>Sh</td>\n",
       "      <td>Ml</td>\n",
       "      <td>Prescot</td>\n",
       "      <td>GBR</td>\n",
       "      <td>63</td>\n",
       "      <td>...</td>\n",
       "      <td>0</td>\n",
       "      <td>5</td>\n",
       "      <td>0</td>\n",
       "      <td>0</td>\n",
       "      <td>Fear</td>\n",
       "      <td>Fear</td>\n",
       "      <td>when an aeroplane I was on hit a heavy turbule...</td>\n",
       "      <td>Fear</td>\n",
       "      <td>I felt &lt;mask&gt; when an aeroplane I was on hit a...</td>\n",
       "      <td>Fear</td>\n",
       "    </tr>\n",
       "    <tr>\n",
       "      <th>3</th>\n",
       "      <td>553</td>\n",
       "      <td>Sadness</td>\n",
       "      <td>I felt ... when my lover Pierre-Guillaume left...</td>\n",
       "      <td>M</td>\n",
       "      <td>Vi</td>\n",
       "      <td>Dom</td>\n",
       "      <td>Fl</td>\n",
       "      <td>NaN</td>\n",
       "      <td>GBR</td>\n",
       "      <td>105</td>\n",
       "      <td>...</td>\n",
       "      <td>4</td>\n",
       "      <td>0</td>\n",
       "      <td>0</td>\n",
       "      <td>1</td>\n",
       "      <td>Anger</td>\n",
       "      <td>Sadness</td>\n",
       "      <td>when my lover Pierre-Guillaume left me for ano...</td>\n",
       "      <td>Sadness</td>\n",
       "      <td>I felt &lt;mask&gt; when my lover Pierre-Guillaume l...</td>\n",
       "      <td>Sadness</td>\n",
       "    </tr>\n",
       "    <tr>\n",
       "      <th>4</th>\n",
       "      <td>58</td>\n",
       "      <td>Anger</td>\n",
       "      <td>I felt ... when someone hit my wife's car and ...</td>\n",
       "      <td>W</td>\n",
       "      <td>Mi</td>\n",
       "      <td>H</td>\n",
       "      <td>Ml</td>\n",
       "      <td>Bristol</td>\n",
       "      <td>GBR</td>\n",
       "      <td>87</td>\n",
       "      <td>...</td>\n",
       "      <td>5</td>\n",
       "      <td>0</td>\n",
       "      <td>0</td>\n",
       "      <td>0</td>\n",
       "      <td>Anger</td>\n",
       "      <td>Sadness</td>\n",
       "      <td>when someone hit my wife's car and drove away.</td>\n",
       "      <td>Anger</td>\n",
       "      <td>I felt &lt;mask&gt; when someone hit my wife's car a...</td>\n",
       "      <td>Sadness</td>\n",
       "    </tr>\n",
       "    <tr>\n",
       "      <th>...</th>\n",
       "      <td>...</td>\n",
       "      <td>...</td>\n",
       "      <td>...</td>\n",
       "      <td>...</td>\n",
       "      <td>...</td>\n",
       "      <td>...</td>\n",
       "      <td>...</td>\n",
       "      <td>...</td>\n",
       "      <td>...</td>\n",
       "      <td>...</td>\n",
       "      <td>...</td>\n",
       "      <td>...</td>\n",
       "      <td>...</td>\n",
       "      <td>...</td>\n",
       "      <td>...</td>\n",
       "      <td>...</td>\n",
       "      <td>...</td>\n",
       "      <td>...</td>\n",
       "      <td>...</td>\n",
       "      <td>...</td>\n",
       "      <td>...</td>\n",
       "    </tr>\n",
       "    <tr>\n",
       "      <th>567</th>\n",
       "      <td>536</td>\n",
       "      <td>Sadness</td>\n",
       "      <td>I felt ... when an impoverished family we know...</td>\n",
       "      <td>D</td>\n",
       "      <td>I</td>\n",
       "      <td>Dom</td>\n",
       "      <td>Fl</td>\n",
       "      <td>Ely</td>\n",
       "      <td>GBR</td>\n",
       "      <td>62</td>\n",
       "      <td>...</td>\n",
       "      <td>1</td>\n",
       "      <td>0</td>\n",
       "      <td>0</td>\n",
       "      <td>3</td>\n",
       "      <td>Sadness</td>\n",
       "      <td>Sadness</td>\n",
       "      <td>when an impoverished family we know well hid t...</td>\n",
       "      <td>Anger</td>\n",
       "      <td>I felt &lt;mask&gt; when an impoverished family we k...</td>\n",
       "      <td>Anger</td>\n",
       "    </tr>\n",
       "    <tr>\n",
       "      <th>568</th>\n",
       "      <td>546</td>\n",
       "      <td>Sadness</td>\n",
       "      <td>I felt ... when a horse was killed in the Gran...</td>\n",
       "      <td>Y</td>\n",
       "      <td>Mi</td>\n",
       "      <td>Fm</td>\n",
       "      <td>Ml</td>\n",
       "      <td>Chelmsford</td>\n",
       "      <td>GBR</td>\n",
       "      <td>91</td>\n",
       "      <td>...</td>\n",
       "      <td>0</td>\n",
       "      <td>0</td>\n",
       "      <td>0</td>\n",
       "      <td>4</td>\n",
       "      <td>Sadness</td>\n",
       "      <td>Sadness</td>\n",
       "      <td>when a horse was killed in the Grand National.</td>\n",
       "      <td>Sadness</td>\n",
       "      <td>I felt &lt;mask&gt; when a horse was killed in the G...</td>\n",
       "      <td>Sadness</td>\n",
       "    </tr>\n",
       "    <tr>\n",
       "      <th>569</th>\n",
       "      <td>548</td>\n",
       "      <td>Sadness</td>\n",
       "      <td>I felt ... when my college course finished as ...</td>\n",
       "      <td>M</td>\n",
       "      <td>Mi</td>\n",
       "      <td>Dom</td>\n",
       "      <td>Ml</td>\n",
       "      <td>Prescot</td>\n",
       "      <td>GBR</td>\n",
       "      <td>63</td>\n",
       "      <td>...</td>\n",
       "      <td>0</td>\n",
       "      <td>0</td>\n",
       "      <td>0</td>\n",
       "      <td>5</td>\n",
       "      <td>Sadness</td>\n",
       "      <td>Sadness</td>\n",
       "      <td>when my college course finished as I was unsur...</td>\n",
       "      <td>Sadness</td>\n",
       "      <td>I felt &lt;mask&gt; when my college course finished ...</td>\n",
       "      <td>Sadness</td>\n",
       "    </tr>\n",
       "    <tr>\n",
       "      <th>570</th>\n",
       "      <td>555</td>\n",
       "      <td>Sadness</td>\n",
       "      <td>I felt ... when I saw an old man waiting alone...</td>\n",
       "      <td>M</td>\n",
       "      <td>Mi</td>\n",
       "      <td>H</td>\n",
       "      <td>Ml</td>\n",
       "      <td>NaN</td>\n",
       "      <td>GBR</td>\n",
       "      <td>68</td>\n",
       "      <td>...</td>\n",
       "      <td>0</td>\n",
       "      <td>0</td>\n",
       "      <td>0</td>\n",
       "      <td>5</td>\n",
       "      <td>Sadness</td>\n",
       "      <td>Joy</td>\n",
       "      <td>when I saw an old man waiting alone at the bus...</td>\n",
       "      <td>Joy</td>\n",
       "      <td>I felt &lt;mask&gt; when I saw an old man waiting al...</td>\n",
       "      <td>Joy</td>\n",
       "    </tr>\n",
       "    <tr>\n",
       "      <th>571</th>\n",
       "      <td>556</td>\n",
       "      <td>Sadness</td>\n",
       "      <td>I felt ... when I saw a recent wildlife docume...</td>\n",
       "      <td>W</td>\n",
       "      <td>I</td>\n",
       "      <td>Sh</td>\n",
       "      <td>Ml</td>\n",
       "      <td>Prescot</td>\n",
       "      <td>GBR</td>\n",
       "      <td>63</td>\n",
       "      <td>...</td>\n",
       "      <td>0</td>\n",
       "      <td>0</td>\n",
       "      <td>0</td>\n",
       "      <td>5</td>\n",
       "      <td>Sadness</td>\n",
       "      <td>Sadness</td>\n",
       "      <td>when I saw a recent wildlife documentary where...</td>\n",
       "      <td>Sadness</td>\n",
       "      <td>I felt &lt;mask&gt; when I saw a recent wildlife doc...</td>\n",
       "      <td>Sadness</td>\n",
       "    </tr>\n",
       "  </tbody>\n",
       "</table>\n",
       "<p>572 rows × 21 columns</p>\n",
       "</div>"
      ],
      "text/plain": [
       "     Sentence_id Prior_Emotion  \\\n",
       "0            271          Fear   \n",
       "1            509       Sadness   \n",
       "2            218          Fear   \n",
       "3            553       Sadness   \n",
       "4             58         Anger   \n",
       "..           ...           ...   \n",
       "567          536       Sadness   \n",
       "568          546       Sadness   \n",
       "569          548       Sadness   \n",
       "570          555       Sadness   \n",
       "571          556       Sadness   \n",
       "\n",
       "                                              Sentence Temporal_Distance  \\\n",
       "0    I felt ... when my 2 year old broke her leg, a...                 Y   \n",
       "1                 I felt ... when my Gran passed away.                 Y   \n",
       "2    I felt ... when an aeroplane I was on hit a he...                 Y   \n",
       "3    I felt ... when my lover Pierre-Guillaume left...                 M   \n",
       "4    I felt ... when someone hit my wife's car and ...                 W   \n",
       "..                                                 ...               ...   \n",
       "567  I felt ... when an impoverished family we know...                 D   \n",
       "568  I felt ... when a horse was killed in the Gran...                 Y   \n",
       "569  I felt ... when my college course finished as ...                 M   \n",
       "570  I felt ... when I saw an old man waiting alone...                 M   \n",
       "571  I felt ... when I saw a recent wildlife docume...                 W   \n",
       "\n",
       "    Intensity Duration Gender            City Country  Worker_id  ... Anger  \\\n",
       "0          Vi      Dom     Ml         Bristol     GBR         87  ...     0   \n",
       "1          Vi      Dom     Fl  Stoke-on-trent     GBR         92  ...     0   \n",
       "2          Vi       Sh     Ml         Prescot     GBR         63  ...     0   \n",
       "3          Vi      Dom     Fl             NaN     GBR        105  ...     4   \n",
       "4          Mi        H     Ml         Bristol     GBR         87  ...     5   \n",
       "..        ...      ...    ...             ...     ...        ...  ...   ...   \n",
       "567         I      Dom     Fl             Ely     GBR         62  ...     1   \n",
       "568        Mi       Fm     Ml      Chelmsford     GBR         91  ...     0   \n",
       "569        Mi      Dom     Ml         Prescot     GBR         63  ...     0   \n",
       "570        Mi        H     Ml             NaN     GBR         68  ...     0   \n",
       "571         I       Sh     Ml         Prescot     GBR         63  ...     0   \n",
       "\n",
       "     Fear  Joy  Sadness  Annotator_Majority_Label Leia_Label  \\\n",
       "0       0    0        3                   Sadness       Fear   \n",
       "1       0    0        5                   Sadness    Sadness   \n",
       "2       5    0        0                      Fear       Fear   \n",
       "3       0    0        1                     Anger    Sadness   \n",
       "4       0    0        0                     Anger    Sadness   \n",
       "..    ...  ...      ...                       ...        ...   \n",
       "567     0    0        3                   Sadness    Sadness   \n",
       "568     0    0        4                   Sadness    Sadness   \n",
       "569     0    0        5                   Sadness    Sadness   \n",
       "570     0    0        5                   Sadness        Joy   \n",
       "571     0    0        5                   Sadness    Sadness   \n",
       "\n",
       "                                        Sentence_Clean Leia_Label_Clean  \\\n",
       "0    when my 2 year old broke her leg, and we felt ...            Anger   \n",
       "1                            when my Gran passed away.          Sadness   \n",
       "2    when an aeroplane I was on hit a heavy turbule...             Fear   \n",
       "3    when my lover Pierre-Guillaume left me for ano...          Sadness   \n",
       "4       when someone hit my wife's car and drove away.            Anger   \n",
       "..                                                 ...              ...   \n",
       "567  when an impoverished family we know well hid t...            Anger   \n",
       "568     when a horse was killed in the Grand National.          Sadness   \n",
       "569  when my college course finished as I was unsur...          Sadness   \n",
       "570  when I saw an old man waiting alone at the bus...              Joy   \n",
       "571  when I saw a recent wildlife documentary where...          Sadness   \n",
       "\n",
       "                                       Sentence_Masked Leia_Label_Masked  \n",
       "0    I felt <mask> when my 2 year old broke her leg...              Fear  \n",
       "1              I felt <mask> when my Gran passed away.           Sadness  \n",
       "2    I felt <mask> when an aeroplane I was on hit a...              Fear  \n",
       "3    I felt <mask> when my lover Pierre-Guillaume l...           Sadness  \n",
       "4    I felt <mask> when someone hit my wife's car a...           Sadness  \n",
       "..                                                 ...               ...  \n",
       "567  I felt <mask> when an impoverished family we k...             Anger  \n",
       "568  I felt <mask> when a horse was killed in the G...           Sadness  \n",
       "569  I felt <mask> when my college course finished ...           Sadness  \n",
       "570  I felt <mask> when I saw an old man waiting al...               Joy  \n",
       "571  I felt <mask> when I saw a recent wildlife doc...           Sadness  \n",
       "\n",
       "[572 rows x 21 columns]"
      ]
     },
     "execution_count": 23,
     "metadata": {},
     "output_type": "execute_result"
    }
   ],
   "source": [
    "df"
   ]
  },
  {
   "cell_type": "markdown",
   "metadata": {},
   "source": [
    "#### 1.4 Evaluate Performance\n",
    "\n",
    "First, let's calculate the accuracy for the two classifiers, print the results."
   ]
  },
  {
   "cell_type": "code",
   "execution_count": 24,
   "metadata": {},
   "outputs": [],
   "source": [
    "def accuracy(df, col_prediction, col_label='label'):\n",
    "    return (df[col_prediction] == df[col_label]).sum() / len(df)"
   ]
  },
  {
   "cell_type": "code",
   "execution_count": 27,
   "metadata": {},
   "outputs": [
    {
     "data": {
      "image/png": "[encoded data removed]",
      "text/plain": [
       "<Figure size 640x480 with 1 Axes>"
      ]
     },
     "metadata": {},
     "output_type": "display_data"
    }
   ],
   "source": [
    "color_scheme = ['green', 'royalblue','orange']\n",
    "\n",
    "annotator = accuracy(df, col_prediction='Annotator_Majority_Label', col_label='Prior_Emotion')\n",
    "leia= accuracy(df, col_prediction='Leia_Label', col_label='Prior_Emotion')\n",
    "leia_clean = accuracy(df, col_prediction='Leia_Label_Clean', col_label='Prior_Emotion')\n",
    "\n",
    "labels = ['annotator', 'LEIA', 'LEIA (clean)']\n",
    "\n",
    "plt.bar(labels, [annotator, leia, leia_clean], color=color_scheme)\n",
    "plt.suptitle('Accuracy of Sentiment Analysis Methods - enISEAR');"
   ]
  },
  {
   "cell_type": "markdown",
   "metadata": {},
   "source": [
    "Next calculate the precision of the `\"Joy\"` class for the data.\n",
    "This is calculated as follows:\n",
    "$\n",
    "\\begin{align}\n",
    "    precision = \\frac{TP}{TP + FP}\n",
    "\\end{align}\n",
    "$\n",
    "*Note: Here the Positive samples are the one with the the class `\"Joy\"`*"
   ]
  },
  {
   "cell_type": "code",
   "execution_count": 28,
   "metadata": {},
   "outputs": [],
   "source": [
    "def precision(df, col_prediction, label, col_label='label'):\n",
    "    df_selected = df[df[col_prediction] == label].reset_index(drop=True)\n",
    "    tp = (df_selected[col_prediction] == df_selected[col_label]).sum()\n",
    "    fp = len(df_selected) - tp\n",
    "    return tp / (tp + fp)"
   ]
  },
  {
   "cell_type": "code",
   "execution_count": 29,
   "metadata": {},
   "outputs": [
    {
     "data": {
      "image/png": "[encoded data removed]",
      "text/plain": [
       "<Figure size 640x480 with 1 Axes>"
      ]
     },
     "metadata": {},
     "output_type": "display_data"
    }
   ],
   "source": [
    "# calculate the precision for each model\n",
    "annot_joy = precision(df, col_prediction='Annotator_Majority_Label',label='Joy', col_label='Prior_Emotion')\n",
    "leia_joy = precision(df, col_prediction='Leia_Label',label='Joy', col_label='Prior_Emotion')\n",
    "leia_clean_joy = precision(df, col_prediction='Leia_Label_Clean',label='Joy', col_label='Prior_Emotion')\n",
    "\n",
    "# plot the results\n",
    "plt.bar(labels, [annot_joy, leia_joy, leia_clean_joy], color=color_scheme)\n",
    "plt.suptitle('Precision of Sentiment Analysis Methods (Joy class)');"
   ]
  },
  {
   "cell_type": "markdown",
   "metadata": {},
   "source": [
    "Now calculate the recall score. This is done by:\n",
    "$\n",
    "\\begin{align}\n",
    "    recall = \\frac{TP}{TP + FN}\n",
    "\\end{align}\n",
    "$\n",
    "*Note: Here the Positive samples are the one with the the class `\"Joy\"`*"
   ]
  },
  {
   "cell_type": "code",
   "execution_count": 30,
   "metadata": {},
   "outputs": [],
   "source": [
    "# recall\n",
    "def recall(df, col_prediction, label, col_label='label'):\n",
    "    df_selected = df[df[col_label] == label].reset_index(drop=True)\n",
    "    tp = (df_selected[col_prediction] == df_selected[col_label]).sum()\n",
    "    fn = len(df_selected) - tp\n",
    "    return tp / (tp + fn)"
   ]
  },
  {
   "cell_type": "code",
   "execution_count": 31,
   "metadata": {},
   "outputs": [
    {
     "data": {
      "image/png": "[encoded data removed]",
      "text/plain": [
       "<Figure size 640x480 with 1 Axes>"
      ]
     },
     "metadata": {},
     "output_type": "display_data"
    }
   ],
   "source": [
    "# tweet dataset\n",
    "annot_joy = recall(df, col_prediction='Annotator_Majority_Label',label='Joy', col_label='Prior_Emotion')\n",
    "leia_joy = recall(df, col_prediction='Leia_Label',label='Joy', col_label='Prior_Emotion')\n",
    "leia_clean_joy = recall(df, col_prediction='Leia_Label_Clean',label='Joy', col_label='Prior_Emotion')\n",
    "\n",
    "# plot the results\n",
    "plt.bar(labels, [annot_joy, leia_joy, leia_clean_joy], color=color_scheme)\n",
    "plt.suptitle('Recall of Sentiment Analysis Methods (Joy class)');"
   ]
  },
  {
   "cell_type": "markdown",
   "metadata": {},
   "source": [
    "Last, calculate the [F1 score](https://towardsdatascience.com/the-f1-score-bec2bbc38aa6) of the joy class. The F1 score is calculated as:\n",
    "\n",
    "$\n",
    "\\begin{align}\n",
    "    F_1 = 2 * \\frac{precision * recall}{precision + recall}\n",
    "\\end{align}\n",
    "$"
   ]
  },
  {
   "cell_type": "code",
   "execution_count": 32,
   "metadata": {},
   "outputs": [],
   "source": [
    "def f1_score(df, col_prediction, label, col_label='label'):\n",
    "    prec = precision(df, col_prediction, label, col_label)\n",
    "    rec = recall(df, col_prediction, label, col_label)\n",
    "    \n",
    "    return 2 * (prec * rec) / (prec + rec)"
   ]
  },
  {
   "cell_type": "code",
   "execution_count": 33,
   "metadata": {},
   "outputs": [
    {
     "data": {
      "image/png": "[encoded data removed]",
      "text/plain": [
       "<Figure size 640x480 with 1 Axes>"
      ]
     },
     "metadata": {},
     "output_type": "display_data"
    }
   ],
   "source": [
    "# calculate the F1 score of the joy class of each classifier \n",
    "\n",
    "\n",
    "# positive class\n",
    "annot_joy = f1_score(df, col_prediction='Annotator_Majority_Label',label='Joy', col_label='Prior_Emotion')\n",
    "leia_joy = f1_score(df, col_prediction='Leia_Label',label='Joy', col_label='Prior_Emotion')\n",
    "leia_clean_joy = f1_score(df, col_prediction='Leia_Label_Clean',label='Joy', col_label='Prior_Emotion')\n",
    "\n",
    "plt.bar(labels, [annot_joy, leia_joy, leia_clean_joy], color=color_scheme)\n",
    "plt.suptitle('F1 Score of Sentiment Analysis Methods (Joy class)');\n",
    "\n"
   ]
  },
  {
   "cell_type": "markdown",
   "metadata": {},
   "source": [
    "This can also be done for the other classes `'Sadness', 'Guilt', 'Anger', 'Disgust', 'Fear', 'Joy', 'Shame'`."
   ]
  },
  {
   "cell_type": "markdown",
   "metadata": {},
   "source": [
    "Now, try to calculate the mean f1 score over all classes for each of the classifiers."
   ]
  },
  {
   "cell_type": "code",
   "execution_count": 34,
   "metadata": {},
   "outputs": [
    {
     "name": "stdout",
     "output_type": "stream",
     "text": [
      "Human majority f1: \u001b[1m91.17%\u001b[0m\n",
      "Leia f1: \u001b[1m76.56%\u001b[0m\n",
      "Leia Clean f1: \u001b[1m80.25%\u001b[0m\n"
     ]
    }
   ],
   "source": [
    "#get all labels \n",
    "emots = df['Prior_Emotion'].unique()\n",
    "\n",
    "\n",
    "annot_f1 = np.mean([f1_score(df, label=emot, col_prediction='Annotator_Majority_Label', col_label='Prior_Emotion')\n",
    "                   for emot in emots])\n",
    "\n",
    "print('Human majority f1: \\033[1m{:.2%}\\033[0m'.format(annot_f1))\n",
    "\n",
    "leia_f1 = np.mean([f1_score(df, label=emot, col_prediction='Leia_Label', col_label='Prior_Emotion')\n",
    "                   for emot in emots])\n",
    "print('Leia f1: \\033[1m{:.2%}\\033[0m'.format(leia_f1))\n",
    "\n",
    "leia_clean_f1 = np.mean([f1_score(df, label=emot, col_prediction='Leia_Label_Clean', col_label='Prior_Emotion')\n",
    "                   for emot in emots])\n",
    "print('Leia Clean f1: \\033[1m{:.2%}\\033[0m'.format(leia_clean_f1))\n",
    "\n",
    "leia_masked_f1 = np.mean([f1_score(df, label=emot, col_prediction='Leia_Label_Masked', col_label='Prior_Emotion')\n",
    "                   for emot in emots])"
   ]
  },
  {
   "cell_type": "markdown",
   "metadata": {},
   "source": [
    "#### 1.5 Interpretation\n",
    "\n",
    "* Discuss your results. \n",
    "* Are the models accurately predicting human emotions?\n",
    "* Which approach seems to work better? Why?\n",
    "* What kind of additional preprocessing could we perform to improve the model's predictions?"
   ]
  },
  {
   "cell_type": "markdown",
   "metadata": {},
   "source": [
    "### Exercise 2"
   ]
  },
  {
   "cell_type": "markdown",
   "metadata": {},
   "source": [
    "#### 2.1 Data annotation\n",
    "* In the following exercise you will need to test emotion detection methods on data from [Vent](https://www.vent.co/), a website where users talk about their feelings. \n",
    "* On GitHub, in your `a03` folder you can find 3 files. First open `sample_for_labeling.csv`, and label each row according the emotion the sentence expresses. The possible classes are: 0 (Sadness), 1 (Affection), 2 (Fear), 3 (Happiness), 4 (Anger). ***Important: Make sure to upload the labeled data with your submission.***\n",
    "* After you finished labeling the data load it as a pandas dataframe. Also load `sample_with_labels.csv` as a dataframe, which contains the actual labels of the data.\n",
    "* Merge the two dataframes, and rename the column containing your labels as `label_human`.\n",
    "* Rename the class ids (0, 1, 2, ...) stored in the `label`, and `label_human` columns to the class names (Sadness, Affection, ...)."
   ]
  },
  {
   "cell_type": "code",
   "execution_count": 35,
   "metadata": {},
   "outputs": [],
   "source": [
    "# changes label to text\n",
    "df = pd.read_csv('vent_random_split_20_per_label_revised_1.csv')\n",
    "df['label'] = df['label'].replace(pipe_leia.model.config.id2label)"
   ]
  },
  {
   "cell_type": "markdown",
   "metadata": {},
   "source": [
    "#### 2.2 LEIA\n",
    "* Use the [LEIA](https://huggingface.co/LEIA/LEIA-base) model introduced in the previous exercise to classify the sentences and store the results in a column named `label_leia`."
   ]
  },
  {
   "cell_type": "code",
   "execution_count": 36,
   "metadata": {},
   "outputs": [
    {
     "data": {
      "application/vnd.jupyter.widget-view+json": {
       "model_id": "627b7aabdc924c0886ba391aea7f62e8",
       "version_major": 2,
       "version_minor": 0
      },
      "text/plain": [
       "  0%|          | 0/100 [00:00<?, ?it/s]"
      ]
     },
     "metadata": {},
     "output_type": "display_data"
    }
   ],
   "source": [
    "\n",
    "df['LEIA_label'] = df['text'].progress_apply(lambda x: pipe_leia(x)[0]['label'])"
   ]
  },
  {
   "cell_type": "markdown",
   "metadata": {},
   "source": [
    "#### 2.3 Analysis\n",
    "* Look at the performance of the the model, as well as the quality of your annotation using the metrics introduced in part 1 (accuracy, precision, recall) or other metrics you find interesting. Create informative visualizations to aid the comparison.\n",
    "* Discuss your results. \n",
    "* Are the models accurately predicting human emotions?\n",
    "* Which approach seems to work better? Why?"
   ]
  },
  {
   "cell_type": "code",
   "execution_count": 37,
   "metadata": {},
   "outputs": [
    {
     "name": "stdout",
     "output_type": "stream",
     "text": [
      "LEIA accuracy 73.00%\n"
     ]
    }
   ],
   "source": [
    "\n",
    "print('LEIA accuracy {:.2%}'.format(accuracy(df, col_prediction='LEIA_label', col_label='label')))"
   ]
  },
  {
   "cell_type": "code",
   "execution_count": 38,
   "metadata": {},
   "outputs": [],
   "source": [
    "from sklearn.metrics import confusion_matrix, ConfusionMatrixDisplay"
   ]
  },
  {
   "cell_type": "code",
   "execution_count": 39,
   "metadata": {},
   "outputs": [
    {
     "data": {
      "image/png": "[encoded data removed]",
      "text/plain": [
       "<Figure size 1500x800 with 1 Axes>"
      ]
     },
     "metadata": {},
     "output_type": "display_data"
    }
   ],
   "source": [
    "\n",
    "labels = df['label'].unique()\n",
    "\n",
    "\n",
    "fig, ax = plt.subplots(nrows=1, ncols=1, figsize=(15, 8))\n",
    "\n",
    "\n",
    "ax.xaxis.labelpad = 15\n",
    "ax.yaxis.labelpad = 15\n",
    "ax.set_title('Classification performance on VENT data', y=1.05, size=14, weight='bold')\n",
    "\n",
    "\n",
    "\n",
    "\n",
    "cm_leia = confusion_matrix(y_true=df['label'], y_pred=df['LEIA_label'], normalize='true', labels=labels)\n",
    "disp_leia = ConfusionMatrixDisplay(cm_leia, display_labels=labels)\n",
    "disp_leia.plot(ax=ax, cmap='Blues')\n",
    "ax.get_yaxis().set_visible(False)\n",
    "disp_leia.im_.set_clim(0, 1)\n",
    "disp_leia.im_.colorbar.remove();"
   ]
  }
 ],
 "metadata": {
  "kernelspec": {
   "display_name": "Python 3 (ipykernel)",
   "language": "python",
   "name": "python3"
  },
  "language_info": {
   "codemirror_mode": {
    "name": "ipython",
    "version": 3
   },
   "file_extension": ".py",
   "mimetype": "text/x-python",
   "name": "python",
   "nbconvert_exporter": "python",
   "pygments_lexer": "ipython3",
   "version": "3.11.4"
  },
  "vscode": {
   "interpreter": {
    "hash": "46e2835a142a16ae115bce5fddf19f27ce13b17a4ab8ded638c88ab5ce5171d2"
   }
  }
 },
 "nbformat": 4,
 "nbformat_minor": 2
}
