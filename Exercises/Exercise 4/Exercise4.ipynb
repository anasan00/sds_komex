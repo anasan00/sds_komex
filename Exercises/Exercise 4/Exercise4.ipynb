{
 "cells": [
  {
   "cell_type": "markdown",
   "id": "1004d8b9",
   "metadata": {},
   "source": [
    "<div style=\"text-align: center;\" >\n",
    "<h1 style=\"margin-top: 0.2em; margin-bottom: 0.1em;\">Assignment 4</h1>\n",
    "\n",
    "</div>\n",
    "<br>"
   ]
  },
  {
   "cell_type": "markdown",
   "id": "01196ea9-5dff-4279-b0a7-d9ea286e0c19",
   "metadata": {},
   "source": [
    "\n",
    "## Social Network of Swiss Politicians on Twitter Data\n",
    "In this assignment you will do the following tasks:\n",
    "1. Read a json of retweets\n",
    "2. Build a graph with this data\n",
    "3. Visualize the graph"
   ]
  },
  {
   "cell_type": "markdown",
   "id": "60aac7b3",
   "metadata": {},
   "source": [
    "### Install requirements. \n",
    "\n",
    "The following cell contains all the necessary dependencies needed for this task. If you run the cell everything will be installed.  \n",
    "\n",
    "* [`pandas`](https://pandas.pydata.org/docs/index.html) is a Python package for creating and working with tabular data. [Here](https://pandas.pydata.org/docs/reference/index.html) is the documentation of `pandas`.\n",
    "* [`numpy`](https://numpy.org/) is a Python package for mathematical functions. [Here](https://numpy.org/doc/stable/reference/index.html) is the documentation of `numpy`.\n",
    "* [`matplotlib`](https://matplotlib.org/) is a Python package for creating plots. [Here](https://matplotlib.org/stable/api/index.html) is the documentation of `matplotlib`.\n",
    "* [`networkx`](https://networkx.org/) is a Python package for the creation, manipulation, and study of the structure, dynamics, and functions of complex networks. [Here](https://networkx.org/documentation/stable/reference/index.html) is the documentation of `networkx`."
   ]
  },
  {
   "cell_type": "code",
   "execution_count": 1,
   "id": "234eb790-6def-45a2-b436-406eb1be62ff",
   "metadata": {},
   "outputs": [
    {
     "name": "stdout",
     "output_type": "stream",
     "text": [
      "Requirement already satisfied: pandas in c:\\users\\anasa\\anaconda3\\lib\\site-packages (1.5.3)\n",
      "Requirement already satisfied: python-dateutil>=2.8.1 in c:\\users\\anasa\\anaconda3\\lib\\site-packages (from pandas) (2.8.2)\n",
      "Requirement already satisfied: pytz>=2020.1 in c:\\users\\anasa\\anaconda3\\lib\\site-packages (from pandas) (2022.7)\n",
      "Requirement already satisfied: numpy>=1.21.0 in c:\\users\\anasa\\anaconda3\\lib\\site-packages (from pandas) (1.24.3)\n",
      "Requirement already satisfied: six>=1.5 in c:\\users\\anasa\\anaconda3\\lib\\site-packages (from python-dateutil>=2.8.1->pandas) (1.16.0)\n",
      "Requirement already satisfied: numpy in c:\\users\\anasa\\anaconda3\\lib\\site-packages (1.24.3)\n",
      "Requirement already satisfied: matplotlib in c:\\users\\anasa\\anaconda3\\lib\\site-packages (3.7.1)\n",
      "Requirement already satisfied: contourpy>=1.0.1 in c:\\users\\anasa\\anaconda3\\lib\\site-packages (from matplotlib) (1.0.5)\n",
      "Requirement already satisfied: cycler>=0.10 in c:\\users\\anasa\\anaconda3\\lib\\site-packages (from matplotlib) (0.11.0)\n",
      "Requirement already satisfied: fonttools>=4.22.0 in c:\\users\\anasa\\anaconda3\\lib\\site-packages (from matplotlib) (4.25.0)\n",
      "Requirement already satisfied: kiwisolver>=1.0.1 in c:\\users\\anasa\\anaconda3\\lib\\site-packages (from matplotlib) (1.4.4)\n",
      "Requirement already satisfied: numpy>=1.20 in c:\\users\\anasa\\anaconda3\\lib\\site-packages (from matplotlib) (1.24.3)\n",
      "Requirement already satisfied: packaging>=20.0 in c:\\users\\anasa\\anaconda3\\lib\\site-packages (from matplotlib) (23.0)\n",
      "Requirement already satisfied: pillow>=6.2.0 in c:\\users\\anasa\\anaconda3\\lib\\site-packages (from matplotlib) (9.4.0)\n",
      "Requirement already satisfied: pyparsing>=2.3.1 in c:\\users\\anasa\\anaconda3\\lib\\site-packages (from matplotlib) (3.0.9)\n",
      "Requirement already satisfied: python-dateutil>=2.7 in c:\\users\\anasa\\anaconda3\\lib\\site-packages (from matplotlib) (2.8.2)\n",
      "Requirement already satisfied: six>=1.5 in c:\\users\\anasa\\anaconda3\\lib\\site-packages (from python-dateutil>=2.7->matplotlib) (1.16.0)\n",
      "Requirement already satisfied: networkx in c:\\users\\anasa\\anaconda3\\lib\\site-packages (3.1)\n"
     ]
    }
   ],
   "source": [
    "! pip install pandas\n",
    "! pip install numpy\n",
    "! pip install matplotlib\n",
    "! pip install networkx"
   ]
  },
  {
   "cell_type": "markdown",
   "id": "eebb2e59",
   "metadata": {},
   "source": [
    "### Import requirements\n",
    "The cell below imports all necessary dependancies. Make sure they are installed (see cell above)."
   ]
  },
  {
   "cell_type": "code",
   "execution_count": 34,
   "id": "6e909d35-ff4c-45fc-8642-c2be8d3850c6",
   "metadata": {},
   "outputs": [],
   "source": [
    "import pandas as pd\n",
    "import networkx as nx\n",
    "import matplotlib.pyplot as plt\n",
    "import json"
   ]
  },
  {
   "cell_type": "markdown",
   "id": "660c2bf5-29c6-451e-af54-893849528056",
   "metadata": {},
   "source": [
    "### Exercise 1: Load social networks of retweets"
   ]
  },
  {
   "cell_type": "markdown",
   "id": "9fa340f4",
   "metadata": {},
   "source": [
    "The attached `json` file contains tweet information about Swiss politicians. Since this is a very big dataset it is compressed so you should extract it first.\n",
    "First, load the json file using `json.loads()`. Note that you have to load each line separtly. \n",
    "\n"
   ]
  },
  {
   "cell_type": "markdown",
   "id": "fcc30002",
   "metadata": {},
   "source": [
    "Hint: You might want to do the following:\n",
    "* intialize a list to store the results\n",
    "* use `with open('file_name.json', 'r') as file:` to read the file \n",
    "* and then loop over every line in `file` loading the line with `json.loads()` and appending it to your list"
   ]
  },
  {
   "cell_type": "code",
   "execution_count": null,
   "id": "83751ff5",
   "metadata": {},
   "outputs": [],
   "source": []
  },
  {
   "cell_type": "markdown",
   "id": "98aba511",
   "metadata": {},
   "source": [
    "### Exercise 2: Build a Graph"
   ]
  },
  {
   "cell_type": "markdown",
   "id": "bdf60540",
   "metadata": {},
   "source": [
    "Now we need to extract the information we need from the json object. Each node in the network should represent a politician, and stores their Twitter user id, username, and party affiliation. An edge exists between a pair of politicians that exchanged at least one retweet with each other (regardless of the direction).\n"
   ]
  },
  {
   "cell_type": "markdown",
   "id": "70918939",
   "metadata": {},
   "source": [
    "#### 2.1 Extract the necessary information from the data (for the edges)"
   ]
  },
  {
   "cell_type": "markdown",
   "id": "fbe0c92a",
   "metadata": {},
   "source": [
    "First, get the user id (from`['user']['id_str']`) and the ids of the retweets (from`['retweeted_status']['user']['id_str']`) in a new json. Note that some tweets are not retweets and wont have information under `['retweeted_status']`, so you might want to use `try:...   except:...`"
   ]
  },
  {
   "cell_type": "code",
   "execution_count": null,
   "id": "1b851c41",
   "metadata": {},
   "outputs": [],
   "source": []
  },
  {
   "cell_type": "markdown",
   "id": "9dc3af56",
   "metadata": {},
   "source": [
    "Turn the json into a pandas dataframe so it is easier to manipulated the data."
   ]
  },
  {
   "cell_type": "code",
   "execution_count": 4,
   "id": "050ef8ef",
   "metadata": {},
   "outputs": [],
   "source": []
  },
  {
   "cell_type": "markdown",
   "id": "fca92d97",
   "metadata": {},
   "source": [
    "#### 2.2 Create a list with the nodes\n",
    "For building the nodes we need the username, id and party of each user. Since, we cannot get the party of the users from the json, we will get it from a `users.csv`. This file also contains the user id, and user name of each user."
   ]
  },
  {
   "cell_type": "markdown",
   "id": "79f9b381",
   "metadata": {},
   "source": [
    "First, you will need to load the `users.csv` data. It will be useful to store it as a pandas dataframe, so you can merge it later. \n",
    "Hint: You can use `pd.read_csv()`to load a .csv as a pandas dataframe."
   ]
  },
  {
   "cell_type": "code",
   "execution_count": null,
   "id": "b510dc18",
   "metadata": {},
   "outputs": [],
   "source": []
  },
  {
   "cell_type": "markdown",
   "id": "5234c9da",
   "metadata": {},
   "source": [
    "For the nodes to be build you will need to store the information in a list of tuples of the form `(user_id,{'username':user.screenName,'party':user.party})`. The first element will identify the node and the second element is a dictionary which stores the attributes of the node. \n",
    "Hint: You can use the methos `.itertuples()` to iterate over the rows of a pandas dataframe"
   ]
  },
  {
   "cell_type": "code",
   "execution_count": null,
   "id": "6670eb9a",
   "metadata": {},
   "outputs": [],
   "source": []
  },
  {
   "cell_type": "markdown",
   "id": "148a1725",
   "metadata": {},
   "source": [
    "#### 2.3 Create a list with the edges"
   ]
  },
  {
   "cell_type": "markdown",
   "id": "351915ff",
   "metadata": {},
   "source": [
    "For the edges we are interested in the tweets where the retweet_user_id corresponds to the user_id of one of the politicians (nodes). So we will first filter out irrelevant tweets from our previously created dataframe.\n",
    "Hint: You can get all the user ids as a list and then check if a given `retweet_user_id` is in the list using the method `.isin() ` on the column of the dataframe. Note that the id in the users.csv is loaded as an integer and not a string\n",
    "\n"
   ]
  },
  {
   "cell_type": "code",
   "execution_count": null,
   "id": "92112142",
   "metadata": {},
   "outputs": [],
   "source": []
  },
  {
   "cell_type": "markdown",
   "id": "b3cf0038",
   "metadata": {},
   "source": [
    "Now we can create a list of the edges as tuples `(user_id,retweet_id)` \n",
    "Hint: Here you might want to iterate over the rows of your filtered dataframe"
   ]
  },
  {
   "cell_type": "code",
   "execution_count": null,
   "id": "a3c43c03",
   "metadata": {},
   "outputs": [],
   "source": []
  },
  {
   "cell_type": "markdown",
   "id": "94ce6d2d",
   "metadata": {},
   "source": [
    "There are probably some repeated edges, e.g if a user retweeted another user multiple times. Since we are only interested in wheter they interacted or not, we can get rid of repeated edges."
   ]
  },
  {
   "cell_type": "code",
   "execution_count": null,
   "id": "ec5c26d1",
   "metadata": {},
   "outputs": [],
   "source": []
  },
  {
   "cell_type": "markdown",
   "id": "aa7d2aaf",
   "metadata": {},
   "source": [
    "You might want to get rid of edges where an user retweeted himself. For this filter out tuples where both elements are the same"
   ]
  },
  {
   "cell_type": "code",
   "execution_count": null,
   "id": "e1619933",
   "metadata": {},
   "outputs": [],
   "source": []
  },
  {
   "cell_type": "markdown",
   "id": "f51f54f8",
   "metadata": {},
   "source": [
    "#### 2.4 Build the graph\n",
    "\n",
    "For this part use the modul [`networkx`](https://networkx.org/). \n",
    "* Create an empty graph object\n",
    "* Add the nodes using the method ` add_nodes_from(your_list) `\n",
    "* Add the edges using the method ` add_edges_from(your_list) `"
   ]
  },
  {
   "cell_type": "code",
   "execution_count": null,
   "id": "b6f54b3e",
   "metadata": {},
   "outputs": [],
   "source": []
  },
  {
   "cell_type": "markdown",
   "id": "72f73590",
   "metadata": {},
   "source": [
    "You can store the graph using [`nx.write_gexf()`](https://networkx.org/documentation/stable/reference/readwrite/generated/networkx.readwrite.gexf.write_gexf.html#networkx.readwrite.gexf.write_gexf)"
   ]
  },
  {
   "cell_type": "code",
   "execution_count": null,
   "id": "c40cd6e1",
   "metadata": {},
   "outputs": [],
   "source": []
  },
  {
   "cell_type": "markdown",
   "id": "9a1679cc",
   "metadata": {},
   "source": [
    "### Exercise 3: Visualize the graph\n",
    "\n",
    "Yor can use [`nx.draw()`](https://networkx.org/documentation/stable/reference/drawing.html) for visualizing your graph. You can play around with diffrent parameters that can be found in the [documentation](https://networkx.org/documentation/stable/reference/drawing.html), for example the graph layout can be given trough the `pos=` argument."
   ]
  },
  {
   "cell_type": "code",
   "execution_count": null,
   "id": "a137eea2",
   "metadata": {},
   "outputs": [],
   "source": []
  },
  {
   "cell_type": "markdown",
   "id": "0d48e2db",
   "metadata": {},
   "source": [
    "### To learn more:\n",
    "Try to color each node according to the party affiliation.\n",
    "* Get the party using ` nx.get_node_attributes() `\n",
    "* You can use a dictionary to assign a color based on the party\n",
    "* Pass the list of associated colors to the option ` node_color` from draw_networkx()"
   ]
  }
 ],
 "metadata": {
  "kernelspec": {
   "display_name": "Python 3 (ipykernel)",
   "language": "python",
   "name": "python3"
  },
  "language_info": {
   "codemirror_mode": {
    "name": "ipython",
    "version": 3
   },
   "file_extension": ".py",
   "mimetype": "text/x-python",
   "name": "python",
   "nbconvert_exporter": "python",
   "pygments_lexer": "ipython3",
   "version": "3.11.4"
  },
  "vscode": {
   "interpreter": {
    "hash": "46e2835a142a16ae115bce5fddf19f27ce13b17a4ab8ded638c88ab5ce5171d2"
   }
  }
 },
 "nbformat": 4,
 "nbformat_minor": 5
}
