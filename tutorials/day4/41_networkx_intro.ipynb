{
 "cells": [
  {
   "cell_type": "markdown",
   "id": "ea971e51",
   "metadata": {},
   "source": [
    "# Introduction to Networkx and Graph Data\n",
    "\n",
    "You can use NetworkX to construct and draw graphs that are undirected or directed, with weighted or unweighted edges. An array of functions to analyze graphs is available. This tutorial takes you through a few basic examples and exercises.\n",
    "\n",
    "\n",
    "## Official documentation for version used in this tutorial\n",
    "\n",
    "https://networkx.github.io/documentation/networkx-2.2/\n",
    "\n",
    "## Official tutorial for version used in this tutorial\n",
    "\n",
    "https://networkx.github.io/documentation/networkx-2.2/tutorial.html\n",
    "\n",
    "Parts of this tutorial were adapted from the material associated with the textbook \"A First Course in Network Science\" by Filippo Menczer, Santo Fortunato & Clayton A. Davis. You can find the materials for a deeper dive here: https://github.com/CambridgeUniversityPress/FirstCourseNetworkScience and the book here: https://www.cambridge.org/us/universitypress/subjects/physics/statistical-physics/first-course-network-science"
   ]
  },
  {
   "cell_type": "code",
   "execution_count": 1,
   "id": "ea1c4947",
   "metadata": {},
   "outputs": [],
   "source": [
    "# ! pip install networkx"
   ]
  },
  {
   "cell_type": "code",
   "execution_count": 1,
   "id": "680f0199",
   "metadata": {},
   "outputs": [],
   "source": [
    "import networkx as nx\n",
    "%matplotlib inline"
   ]
  },
  {
   "cell_type": "markdown",
   "id": "47909c7e",
   "metadata": {},
   "source": [
    "# Creating and drawing undirected graphs"
   ]
  },
  {
   "cell_type": "code",
   "execution_count": null,
   "id": "48218057",
   "metadata": {},
   "outputs": [],
   "source": [
    "# G = G.add_nodes_from(nodes_to_add)"
   ]
  },
  {
   "cell_type": "code",
   "execution_count": 38,
   "id": "606711e5",
   "metadata": {},
   "outputs": [
    {
     "data": {
      "image/png": "[encoded data removed]",
      "text/plain": [
       "<Figure size 640x480 with 1 Axes>"
      ]
     },
     "metadata": {},
     "output_type": "display_data"
    }
   ],
   "source": [
    "# a \"plain\" graph is undirected\n",
    "G = nx.Graph()\n",
    "\n",
    "# give each a node a 'name', which is a letter in this case.\n",
    "G.add_node('a')\n",
    "\n",
    "# the add_nodes_from method allows adding nodes from a sequence, in this case a list\n",
    "nodes_to_add = ['b', 'c', 'd']\n",
    "G.add_nodes_from(nodes_to_add)\n",
    "\n",
    "\n",
    "# add edge from 'a' to 'b'\n",
    "# since this graph is undirected, the order doesn't matter here\n",
    "# G.add_edge('a', 'b')\n",
    "\n",
    "# just like add_nodes_from, we can add edges from a sequence\n",
    "# edges should be specified as 2-tuples\n",
    "edges_to_add = [('a', 'c'), ('c', 'd')]\n",
    "\n",
    "G.add_edges_from(edges_to_add)\n",
    "\n",
    "# draw the graph\n",
    "nx.draw(G, with_labels=True)"
   ]
  },
  {
   "cell_type": "markdown",
   "id": "b8f2d967",
   "metadata": {},
   "source": [
    "There are many optional arguments to the draw function to customize the appearance."
   ]
  },
  {
   "cell_type": "code",
   "execution_count": 39,
   "id": "70142e55",
   "metadata": {},
   "outputs": [
    {
     "data": {
      "image/png": "[encoded data removed]",
      "text/plain": [
       "<Figure size 640x480 with 1 Axes>"
      ]
     },
     "metadata": {},
     "output_type": "display_data"
    }
   ],
   "source": [
    "nx.draw(G,\n",
    "        with_labels=True,\n",
    "        node_color='red',\n",
    "        node_size=1600,\n",
    "        font_color='white',\n",
    "        font_size=16,\n",
    "        )"
   ]
  },
  {
   "cell_type": "markdown",
   "id": "055e4915",
   "metadata": {},
   "source": [
    "# Graph methods\n",
    "\n",
    "The graph object has some properties and methods giving data about the whole graph."
   ]
  },
  {
   "cell_type": "code",
   "execution_count": 40,
   "id": "5a831296",
   "metadata": {},
   "outputs": [
    {
     "data": {
      "text/plain": [
       "NodeView(('a', 'b', 'c', 'd'))"
      ]
     },
     "execution_count": 40,
     "metadata": {},
     "output_type": "execute_result"
    }
   ],
   "source": [
    "# List all of the nodes\n",
    "G.nodes()"
   ]
  },
  {
   "cell_type": "code",
   "execution_count": 41,
   "id": "af540ba1",
   "metadata": {},
   "outputs": [
    {
     "data": {
      "text/plain": [
       "('a', 'c')"
      ]
     },
     "execution_count": 41,
     "metadata": {},
     "output_type": "execute_result"
    }
   ],
   "source": [
    "# List all of the edges\n",
    "list(G.edges())[0]"
   ]
  },
  {
   "cell_type": "markdown",
   "id": "cd9de133",
   "metadata": {},
   "source": [
    "NodeView and EdgeView objects have iterators, so we can use them in `for` loops:"
   ]
  },
  {
   "cell_type": "code",
   "execution_count": 42,
   "id": "e5bb6875",
   "metadata": {},
   "outputs": [
    {
     "name": "stdout",
     "output_type": "stream",
     "text": [
      "a\n",
      "b\n",
      "c\n",
      "d\n"
     ]
    }
   ],
   "source": [
    "for node in G.nodes:\n",
    "    print(node)"
   ]
  },
  {
   "cell_type": "code",
   "execution_count": 43,
   "id": "9ff1728b",
   "metadata": {
    "scrolled": true
   },
   "outputs": [
    {
     "name": "stdout",
     "output_type": "stream",
     "text": [
      "a\n",
      "c\n",
      "c\n",
      "d\n"
     ]
    }
   ],
   "source": [
    "for edge1, edge2 in G.edges:\n",
    "    print(edge1)\n",
    "    print(edge2)"
   ]
  },
  {
   "cell_type": "markdown",
   "id": "249efa2a",
   "metadata": {},
   "source": [
    "Note that the edges are given as 2-tuples, the same way we entered them.\n",
    "\n",
    "We can get the number of nodes and edges in a graph using the `number_of_` methods."
   ]
  },
  {
   "cell_type": "code",
   "execution_count": 44,
   "id": "218b9c98",
   "metadata": {},
   "outputs": [
    {
     "data": {
      "text/plain": [
       "4"
      ]
     },
     "execution_count": 44,
     "metadata": {},
     "output_type": "execute_result"
    }
   ],
   "source": [
    "G.number_of_nodes()"
   ]
  },
  {
   "cell_type": "code",
   "execution_count": 45,
   "id": "f5f70213",
   "metadata": {},
   "outputs": [
    {
     "data": {
      "text/plain": [
       "2"
      ]
     },
     "execution_count": 45,
     "metadata": {},
     "output_type": "execute_result"
    }
   ],
   "source": [
    "G.number_of_edges()"
   ]
  },
  {
   "cell_type": "markdown",
   "id": "ee2ae07e",
   "metadata": {},
   "source": [
    "Some graph methods take an edge or node as argument. These provide the graph properties of the given edge or node. For example, the `.neighbors()` method gives the nodes linked to the given node:"
   ]
  },
  {
   "cell_type": "code",
   "execution_count": 46,
   "id": "0e6e9c37",
   "metadata": {},
   "outputs": [
    {
     "data": {
      "text/plain": [
       "<dict_keyiterator at 0x201b5111d50>"
      ]
     },
     "execution_count": 46,
     "metadata": {},
     "output_type": "execute_result"
    }
   ],
   "source": [
    "# list of neighbors of node 'b'\n",
    "G.neighbors('b')"
   ]
  },
  {
   "cell_type": "markdown",
   "id": "87e96a33",
   "metadata": {},
   "source": [
    "For performance reasons, many graph methods return iterators instead of lists. They are convenient to loop over:"
   ]
  },
  {
   "cell_type": "code",
   "execution_count": 47,
   "id": "2a1a4f44",
   "metadata": {},
   "outputs": [
    {
     "name": "stdout",
     "output_type": "stream",
     "text": [
      "c\n"
     ]
    }
   ],
   "source": [
    "for neighbor in G.neighbors('d'):\n",
    "    print(neighbor)"
   ]
  },
  {
   "cell_type": "markdown",
   "id": "5a45ed5e",
   "metadata": {},
   "source": [
    "and you can always use the `list` constructor to make a list from an iterator:"
   ]
  },
  {
   "cell_type": "code",
   "execution_count": 48,
   "id": "fafc23af",
   "metadata": {},
   "outputs": [
    {
     "data": {
      "text/plain": [
       "[]"
      ]
     },
     "execution_count": 48,
     "metadata": {},
     "output_type": "execute_result"
    }
   ],
   "source": [
    "list(G.neighbors('b'))"
   ]
  },
  {
   "cell_type": "markdown",
   "id": "e0235245",
   "metadata": {},
   "source": [
    "# NetworkX functions vs. Graph methods\n",
    "\n",
    "The previous data are available via graph *methods*, *i.e.* they are called from the graph object:\n",
    "\n",
    "    G.<method_name>(<arguments>)\n",
    "\n",
    "While several of the most-used NetworkX functions are provided as methods, many more of them are module functions and are called like this:\n",
    "\n",
    "    nx.<function_name>(G, <arguments>)\n",
    "\n",
    "that is, with the graph provided as the first, and maybe only, argument. Here are a couple of examples of NetworkX module functions that provide information about a graph:"
   ]
  },
  {
   "cell_type": "code",
   "execution_count": 49,
   "id": "125d2389",
   "metadata": {},
   "outputs": [
    {
     "data": {
      "text/plain": [
       "False"
      ]
     },
     "execution_count": 49,
     "metadata": {},
     "output_type": "execute_result"
    }
   ],
   "source": [
    "nx.is_tree(G)"
   ]
  },
  {
   "cell_type": "code",
   "execution_count": 50,
   "id": "e9bcf7d4",
   "metadata": {},
   "outputs": [
    {
     "data": {
      "text/plain": [
       "False"
      ]
     },
     "execution_count": 50,
     "metadata": {},
     "output_type": "execute_result"
    }
   ],
   "source": [
    "nx.is_connected(G)"
   ]
  },
  {
   "cell_type": "markdown",
   "id": "9c81ccb4",
   "metadata": {},
   "source": [
    "# Node and edge existence\n",
    "\n",
    "To check if a node is present in a graph, you can use the `has_node()` method:"
   ]
  },
  {
   "cell_type": "code",
   "execution_count": 51,
   "id": "c9f7a70f",
   "metadata": {},
   "outputs": [
    {
     "data": {
      "text/plain": [
       "True"
      ]
     },
     "execution_count": 51,
     "metadata": {},
     "output_type": "execute_result"
    }
   ],
   "source": [
    "G.has_node('a')"
   ]
  },
  {
   "cell_type": "code",
   "execution_count": 52,
   "id": "7ae67839",
   "metadata": {},
   "outputs": [
    {
     "data": {
      "text/plain": [
       "False"
      ]
     },
     "execution_count": 52,
     "metadata": {},
     "output_type": "execute_result"
    }
   ],
   "source": [
    "G.has_node('x')"
   ]
  },
  {
   "cell_type": "markdown",
   "id": "9246fd1d",
   "metadata": {},
   "source": [
    "Additionally, the loop syntax used above: `for n in G.nodes` suggests another way we can check if a node is in a graph:"
   ]
  },
  {
   "cell_type": "code",
   "execution_count": 53,
   "id": "b3619312",
   "metadata": {},
   "outputs": [
    {
     "data": {
      "text/plain": [
       "True"
      ]
     },
     "execution_count": 53,
     "metadata": {},
     "output_type": "execute_result"
    }
   ],
   "source": [
    "'d' in G.nodes"
   ]
  },
  {
   "cell_type": "markdown",
   "id": "82a48380",
   "metadata": {},
   "source": [
    "Likewise we can check if two nodes are connected by an edge:"
   ]
  },
  {
   "cell_type": "code",
   "execution_count": 54,
   "id": "644e064b",
   "metadata": {},
   "outputs": [
    {
     "data": {
      "text/plain": [
       "False"
      ]
     },
     "execution_count": 54,
     "metadata": {},
     "output_type": "execute_result"
    }
   ],
   "source": [
    "G.has_edge('a', 'b')"
   ]
  },
  {
   "cell_type": "code",
   "execution_count": 56,
   "id": "3c0495bb",
   "metadata": {},
   "outputs": [
    {
     "data": {
      "text/plain": [
       "True"
      ]
     },
     "execution_count": 56,
     "metadata": {},
     "output_type": "execute_result"
    }
   ],
   "source": [
    "G.has_edge('a', 'c')"
   ]
  },
  {
   "cell_type": "code",
   "execution_count": 57,
   "id": "b4781b2b",
   "metadata": {},
   "outputs": [
    {
     "data": {
      "text/plain": [
       "True"
      ]
     },
     "execution_count": 57,
     "metadata": {},
     "output_type": "execute_result"
    }
   ],
   "source": [
    "('c', 'd') in G.edges"
   ]
  },
  {
   "cell_type": "markdown",
   "id": "04e9a77f",
   "metadata": {},
   "source": [
    "# Node degree\n",
    "\n",
    "One of the most important questions we can ask about a node in a graph is how many other nodes it connects to. Using the `.neighbors()` method from above, we could formulate this question as so:"
   ]
  },
  {
   "cell_type": "code",
   "execution_count": 58,
   "id": "82ad6af6",
   "metadata": {},
   "outputs": [
    {
     "data": {
      "text/plain": [
       "1"
      ]
     },
     "execution_count": 58,
     "metadata": {},
     "output_type": "execute_result"
    }
   ],
   "source": [
    "len(list(G.neighbors('a')))"
   ]
  },
  {
   "cell_type": "markdown",
   "id": "694627cc",
   "metadata": {},
   "source": [
    "but this is such a common task that NetworkX provides us a graph method to do this in a much clearer way:"
   ]
  },
  {
   "cell_type": "code",
   "execution_count": 59,
   "id": "a30edee1",
   "metadata": {},
   "outputs": [
    {
     "data": {
      "text/plain": [
       "1"
      ]
     },
     "execution_count": 59,
     "metadata": {},
     "output_type": "execute_result"
    }
   ],
   "source": [
    "G.degree('a')"
   ]
  },
  {
   "cell_type": "markdown",
   "id": "96f61363",
   "metadata": {},
   "source": [
    "# EXERCISE 1\n",
    "Often in the context of trees, a node with degree 1 is called a *leaf*. Write a function named `get_leaves` that takes a graph as an argument, loops through the nodes, and returns a list of nodes with degree 1."
   ]
  },
  {
   "cell_type": "code",
   "execution_count": 72,
   "id": "127f6432",
   "metadata": {
    "scrolled": true
   },
   "outputs": [],
   "source": [
    "def get_leaves(G):\n",
    "    # enter your code here\n",
    "    leaves = []\n",
    "    for node in G.nodes:\n",
    "        if G.degree(node) == 1:\n",
    "            leaves.append(node)\n",
    "    return leaves\n",
    "    pass"
   ]
  },
  {
   "cell_type": "code",
   "execution_count": 73,
   "id": "69f23815",
   "metadata": {
    "scrolled": true
   },
   "outputs": [
    {
     "data": {
      "text/plain": [
       "['b', 'c']"
      ]
     },
     "execution_count": 73,
     "metadata": {},
     "output_type": "execute_result"
    }
   ],
   "source": [
    "G = nx.Graph()\n",
    "G.add_edges_from([\n",
    "        ('a', 'b'),\n",
    "        ('a', 'd'),\n",
    "        ('c', 'd'),\n",
    "    ])\n",
    "\n",
    "get_leaves(G)"
   ]
  },
  {
   "cell_type": "code",
   "execution_count": 65,
   "id": "d03c4f87",
   "metadata": {},
   "outputs": [
    {
     "data": {
      "image/png": "[encoded data removed]",
      "text/plain": [
       "<Figure size 640x480 with 1 Axes>"
      ]
     },
     "metadata": {},
     "output_type": "display_data"
    }
   ],
   "source": [
    "nx.draw(G, with_labels = True, node_color = 'yellow', node_size = 1000)"
   ]
  },
  {
   "cell_type": "markdown",
   "id": "afce41cc",
   "metadata": {},
   "source": [
    "# Node names\n",
    "\n",
    "The node names don't have to be single characters -- they can be strings or integers or any immutable object, and the types can be mixed. The example below uses strings and integers for names."
   ]
  },
  {
   "cell_type": "code",
   "execution_count": 74,
   "id": "569443b8",
   "metadata": {},
   "outputs": [
    {
     "data": {
      "image/png": "[encoded data removed]",
      "text/plain": [
       "<Figure size 640x480 with 1 Axes>"
      ]
     },
     "metadata": {},
     "output_type": "display_data"
    }
   ],
   "source": [
    "G = nx.Graph()\n",
    "\n",
    "G.add_nodes_from(['cat','dog','virus',13])\n",
    "\n",
    "G.add_edge('cat','dog')\n",
    "\n",
    "nx.draw(G, with_labels=True, font_color='white', node_size=1000)"
   ]
  },
  {
   "cell_type": "markdown",
   "id": "18ae33ef",
   "metadata": {},
   "source": [
    "# Adjacency lists\n",
    "\n",
    "One compact way to represent a graph is an adjacency list. This is most useful for unweighted graphs, directed or undirected. In an adjacency list, each line contains some number of node names. The first node name is the \"source\" and each other node name on the line is a \"target\". For instance, given the following adjacency list:\n",
    "```\n",
    "a d e\n",
    "b c\n",
    "c\n",
    "d\n",
    "e\n",
    "```\n",
    "the edges are as follows:\n",
    "```\n",
    "(a, d)\n",
    "(a, e)\n",
    "(b, c)\n",
    "```\n",
    "The nodes on their own line exist so that we are sure to include any singleton nodes. Note that if our graph is undirected, we only need to specify one direction for each edge. Importantly, whether the graph is directed or undirected is often not contained in the file itself -- you have to infer it. This is one limitation of the format.\n",
    "\n",
    "In the `datasets` directory, there is a file called `friends.adjlist`. It's a plain text file, so you can open it on your computer or in GitHub, but here are its contents:"
   ]
  },
  {
   "cell_type": "code",
   "execution_count": 75,
   "id": "1c2b0477",
   "metadata": {},
   "outputs": [
    {
     "name": "stdout",
     "output_type": "stream",
     "text": [
      "George Frank Dennis\n",
      "Dennis Claire Esther\n",
      "Claire Frank Alice Esther\n",
      "Bob Alice\n",
      "Frank Alice\n",
      "Alice\n",
      "Esther\n",
      "Shelly\n",
      "\n"
     ]
    }
   ],
   "source": [
    "print(open('datasets/friends.adjlist').read())"
   ]
  },
  {
   "cell_type": "markdown",
   "id": "ac1d8fcd",
   "metadata": {},
   "source": [
    "NetworkX provides a way to read a graph from an adjacency list: `nx.read_adjlist()`. We will name this graph SG, for social graph."
   ]
  },
  {
   "cell_type": "code",
   "execution_count": 76,
   "id": "bf9b54a3",
   "metadata": {},
   "outputs": [],
   "source": [
    "SG = nx.read_adjlist('datasets/friends.adjlist')"
   ]
  },
  {
   "cell_type": "markdown",
   "id": "abe056e3",
   "metadata": {},
   "source": [
    "We know how to draw this graph:"
   ]
  },
  {
   "cell_type": "code",
   "execution_count": 78,
   "id": "512075ca",
   "metadata": {},
   "outputs": [
    {
     "data": {
      "image/png": "[encoded data removed]",
      "text/plain": [
       "<Figure size 640x480 with 1 Axes>"
      ]
     },
     "metadata": {},
     "output_type": "display_data"
    }
   ],
   "source": [
    "nx.draw(SG, node_size=2000, node_color='lightblue', with_labels=True)"
   ]
  },
  {
   "cell_type": "code",
   "execution_count": 80,
   "id": "2746d50c",
   "metadata": {},
   "outputs": [
    {
     "data": {
      "text/plain": [
       "False"
      ]
     },
     "execution_count": 80,
     "metadata": {},
     "output_type": "execute_result"
    }
   ],
   "source": [
    "nx.is_connected(SG)"
   ]
  },
  {
   "cell_type": "markdown",
   "id": "82383ad6",
   "metadata": {},
   "source": [
    "And we know how to get information such as the number of friends linked from a node:"
   ]
  },
  {
   "cell_type": "code",
   "execution_count": 81,
   "id": "7b3b2508",
   "metadata": {},
   "outputs": [
    {
     "data": {
      "text/plain": [
       "3"
      ]
     },
     "execution_count": 81,
     "metadata": {},
     "output_type": "execute_result"
    }
   ],
   "source": [
    "SG.degree('Alice')"
   ]
  },
  {
   "cell_type": "markdown",
   "id": "4695ba65",
   "metadata": {},
   "source": [
    "# Directed graphs\n",
    "\n",
    "Unless otherwise specified, we assume graph edges are undirected -- they are symmetric and go both ways. But some relationships, e.g. predator-prey relationships, are asymmetric and best represented as directed graphs. NetworkX provides the `DiGraph` class for directed graphs."
   ]
  },
  {
   "cell_type": "code",
   "execution_count": 84,
   "id": "d1981a4c",
   "metadata": {},
   "outputs": [
    {
     "data": {
      "image/png": "[encoded data removed]",
      "text/plain": [
       "<Figure size 640x480 with 1 Axes>"
      ]
     },
     "metadata": {},
     "output_type": "display_data"
    }
   ],
   "source": [
    "D = nx.DiGraph()\n",
    "\n",
    "D.add_edges_from([(1,2),(2,3),(3,2),(3,4),(3,5),(4,5),(4,6),(5,6),(6,4),(4,2)])\n",
    "\n",
    "nx.draw(D, with_labels=True, node_color = 'yellow', node_size = 1000)"
   ]
  },
  {
   "cell_type": "markdown",
   "id": "03c21ae8",
   "metadata": {},
   "source": [
    "Note the asymmetry in graph methods dealing with edges such as `has_edge()`:"
   ]
  },
  {
   "cell_type": "code",
   "execution_count": 85,
   "id": "5cce6428",
   "metadata": {},
   "outputs": [
    {
     "data": {
      "text/plain": [
       "True"
      ]
     },
     "execution_count": 85,
     "metadata": {},
     "output_type": "execute_result"
    }
   ],
   "source": [
    "D.has_edge(1,2)"
   ]
  },
  {
   "cell_type": "code",
   "execution_count": 86,
   "id": "e82da860",
   "metadata": {},
   "outputs": [
    {
     "data": {
      "text/plain": [
       "False"
      ]
     },
     "execution_count": 86,
     "metadata": {},
     "output_type": "execute_result"
    }
   ],
   "source": [
    "D.has_edge(2,1)"
   ]
  },
  {
   "cell_type": "markdown",
   "id": "d7bc12ab",
   "metadata": {},
   "source": [
    "Instead of the symmetric relationship \"neighbors\", nodes in directed graphs have predecessors (\"in-neighbors\") and successors (\"out-neighbors\"):"
   ]
  },
  {
   "cell_type": "code",
   "execution_count": 87,
   "id": "b5d8cffe",
   "metadata": {},
   "outputs": [
    {
     "name": "stdout",
     "output_type": "stream",
     "text": [
      "Successors of 2: [3]\n",
      "Predecessors of 2: [1, 3, 4]\n"
     ]
    }
   ],
   "source": [
    "print('Successors of 2:', list(D.successors(2)))\n",
    "\n",
    "print('Predecessors of 2:', list(D.predecessors(2)))"
   ]
  },
  {
   "cell_type": "markdown",
   "id": "ea49ef0c",
   "metadata": {},
   "source": [
    "Directed graphs have in-degree and out-degree, giving the number of edges pointing to and from the given node, respectively:"
   ]
  },
  {
   "cell_type": "code",
   "execution_count": 88,
   "id": "6f005bbf",
   "metadata": {},
   "outputs": [
    {
     "data": {
      "text/plain": [
       "3"
      ]
     },
     "execution_count": 88,
     "metadata": {},
     "output_type": "execute_result"
    }
   ],
   "source": [
    "D.in_degree(2)"
   ]
  },
  {
   "cell_type": "code",
   "execution_count": 89,
   "id": "5f36a7ec",
   "metadata": {},
   "outputs": [
    {
     "data": {
      "text/plain": [
       "1"
      ]
     },
     "execution_count": 89,
     "metadata": {},
     "output_type": "execute_result"
    }
   ],
   "source": [
    "D.out_degree(2)"
   ]
  },
  {
   "cell_type": "markdown",
   "id": "1ee5b54f",
   "metadata": {
    "collapsed": true
   },
   "source": [
    "# Create a network from Reddit data"
   ]
  },
  {
   "cell_type": "code",
   "execution_count": 90,
   "id": "8a4783c5",
   "metadata": {},
   "outputs": [],
   "source": [
    "import praw\n",
    "import json"
   ]
  },
  {
   "cell_type": "code",
   "execution_count": 91,
   "id": "455a704a",
   "metadata": {},
   "outputs": [],
   "source": [
    "with open(r\"C:\\Users\\isen1\\OneDrive\\Desktop\\reddit_keys.json\") as f: # replace with the path to your keys\n",
    "    reddit_config = json.load(f)"
   ]
  },
  {
   "cell_type": "code",
   "execution_count": 92,
   "id": "8dbbfe16",
   "metadata": {},
   "outputs": [
    {
     "data": {
      "text/plain": [
       "{'client_id': 'eFWNz4m5U0i02Fl9zss-Vg',\n",
       " 'client_secret': 'NjPXd3HOKBPHrE3Snslh7G55pE_EQw',\n",
       " 'user_agent': 'myApp for data analysis'}"
      ]
     },
     "execution_count": 92,
     "metadata": {},
     "output_type": "execute_result"
    }
   ],
   "source": [
    "reddit_config"
   ]
  },
  {
   "cell_type": "code",
   "execution_count": 106,
   "id": "9d9e0708",
   "metadata": {},
   "outputs": [],
   "source": [
    "reddit = praw.Reddit(\n",
    "    client_id=reddit_config['client_id'],\n",
    "    client_secret=reddit_config['client_secret'],\n",
    "    user_agent=reddit_config['user_agent']\n",
    ")"
   ]
  },
  {
   "cell_type": "markdown",
   "id": "3ccfff24",
   "metadata": {},
   "source": [
    "We'll construct a network graph based on user interactions. We'll create nodes for each user and edges between users who have replied to each other:"
   ]
  },
  {
   "cell_type": "code",
   "execution_count": 111,
   "id": "b92359db",
   "metadata": {},
   "outputs": [],
   "source": [
    "subreddit = reddit.subreddit(\"cornell\") # let's pick a smallish subreddit\n",
    "comments = subreddit.comments(limit=20)  # Fetching 20 comments from different posts"
   ]
  },
  {
   "cell_type": "code",
   "execution_count": 112,
   "id": "a46b03d2",
   "metadata": {},
   "outputs": [],
   "source": [
    "# list(comments)[0]"
   ]
  },
  {
   "cell_type": "code",
   "execution_count": 113,
   "id": "03031dd5",
   "metadata": {},
   "outputs": [],
   "source": [
    "G = nx.DiGraph()\n",
    "\n",
    "for comment in comments:\n",
    "    parent_author = comment.parent().author\n",
    "    if parent_author:\n",
    "        G.add_edge(comment.author.name, parent_author.name) # note the direction. The arrow points to the parent"
   ]
  },
  {
   "cell_type": "code",
   "execution_count": 114,
   "id": "282ccb3a",
   "metadata": {},
   "outputs": [
    {
     "data": {
      "image/png": "[encoded data removed]",
      "text/plain": [
       "<Figure size 640x480 with 1 Axes>"
      ]
     },
     "metadata": {},
     "output_type": "display_data"
    }
   ],
   "source": [
    "# let's visuaize it\n",
    "nx.draw(G, with_labels=True, node_size=100, node_color='skyblue', font_size=8)"
   ]
  },
  {
   "cell_type": "markdown",
   "id": "529f0c53",
   "metadata": {},
   "source": [
    "### Constructing all comments on one particular post "
   ]
  },
  {
   "cell_type": "code",
   "execution_count": 115,
   "id": "917c902b",
   "metadata": {},
   "outputs": [
    {
     "data": {
      "text/plain": [
       "'https://www.reddit.com/r/Cornell/comments/rliemq/covid19_boosters_will_be_required_for_the_spring/'"
      ]
     },
     "execution_count": 115,
     "metadata": {},
     "output_type": "execute_result"
    }
   ],
   "source": [
    "posts = list(reddit.subreddit('cornell').search('COVID-19', limit=5))\n",
    "link = posts[0].permalink\n",
    "submission = reddit.submission(url='https://www.reddit.com' + link)\n",
    "'https://www.reddit.com' + link"
   ]
  },
  {
   "cell_type": "code",
   "execution_count": 116,
   "id": "edfd9d1a",
   "metadata": {},
   "outputs": [
    {
     "data": {
      "text/plain": [
       "44"
      ]
     },
     "execution_count": 116,
     "metadata": {},
     "output_type": "execute_result"
    }
   ],
   "source": [
    "# Fetch all comments and replace more if there are any\n",
    "submission.comments.replace_more(limit=None)\n",
    "len(submission.comments)"
   ]
  },
  {
   "cell_type": "code",
   "execution_count": 117,
   "id": "07b5faf4",
   "metadata": {},
   "outputs": [
    {
     "data": {
      "text/plain": [
       "'Given all the cases we are seeing with people who got the booster (US Senators, NFL, NBA, etc.), I would love to see more studies that indicate the booster gives \"substantial\" protection in preventing getting infected.'"
      ]
     },
     "execution_count": 117,
     "metadata": {},
     "output_type": "execute_result"
    }
   ],
   "source": [
    "submission.comments.list()[0].body"
   ]
  },
  {
   "cell_type": "code",
   "execution_count": 46,
   "id": "a00bbee3",
   "metadata": {},
   "outputs": [
    {
     "data": {
      "text/plain": [
       "Redditor(name='brady_ccx')"
      ]
     },
     "execution_count": 46,
     "metadata": {},
     "output_type": "execute_result"
    }
   ],
   "source": [
    "submission.comments.list()[0].author"
   ]
  },
  {
   "cell_type": "code",
   "execution_count": 47,
   "id": "7d842376",
   "metadata": {},
   "outputs": [
    {
     "data": {
      "text/plain": [
       "Redditor(name='AlternateShapes')"
      ]
     },
     "execution_count": 47,
     "metadata": {},
     "output_type": "execute_result"
    }
   ],
   "source": [
    "# get the parent comment\n",
    "submission.comments.list()[0].parent().author"
   ]
  },
  {
   "cell_type": "code",
   "execution_count": 118,
   "id": "c085b657",
   "metadata": {},
   "outputs": [],
   "source": [
    "G = nx.DiGraph()"
   ]
  },
  {
   "cell_type": "code",
   "execution_count": 119,
   "id": "c7012fa7",
   "metadata": {},
   "outputs": [],
   "source": [
    "# Iterate through all comments\n",
    "for comment in submission.comments.list()[:1]: # the [:1] that we only look at the first comment's thread\n",
    "    # Get the author of the comment\n",
    "    commenter = comment.author\n",
    "    if commenter:\n",
    "        # Add the commenter as a node to the graph\n",
    "        G.add_node(commenter.name)\n",
    "        \n",
    "        # Get the parent comment (if any) and add an edge between the parent commenter and the current commenter\n",
    "        parent_comment = comment.parent()\n",
    "        if parent_comment.author:\n",
    "            parent_commenter = parent_comment.author.name\n",
    "            G.add_edge(commenter.name, parent_commenter)"
   ]
  },
  {
   "cell_type": "code",
   "execution_count": 120,
   "id": "6d8bc305",
   "metadata": {},
   "outputs": [
    {
     "data": {
      "image/png": "[encoded data removed]",
      "text/plain": [
       "<Figure size 640x480 with 1 Axes>"
      ]
     },
     "metadata": {},
     "output_type": "display_data"
    }
   ],
   "source": [
    "nx.draw(G, with_labels = True)"
   ]
  },
  {
   "cell_type": "markdown",
   "id": "b8776084",
   "metadata": {},
   "source": [
    "Let's try more than one comment now."
   ]
  },
  {
   "cell_type": "code",
   "execution_count": 121,
   "id": "7867f2f6",
   "metadata": {},
   "outputs": [],
   "source": [
    "G = nx.DiGraph()"
   ]
  },
  {
   "cell_type": "code",
   "execution_count": 122,
   "id": "f695398a",
   "metadata": {},
   "outputs": [],
   "source": [
    "# Fetch all comments and replace more if there are any\n",
    "submission.comments.replace_more(limit=None)\n",
    "\n",
    "# Iterate through all comments\n",
    "for comment in submission.comments.list(): # now let's look at the first 5 comments in the post\n",
    "    # Get the author of the comment\n",
    "    commenter = comment.author\n",
    "    if commenter:\n",
    "        # Add the commenter as a node to the graph\n",
    "        G.add_node(commenter.name)\n",
    "        \n",
    "        # Get the parent comment (if any) and add an edge between the parent commenter and the current commenter\n",
    "        parent_comment = comment.parent()\n",
    "        if parent_comment.author:\n",
    "            parent_commenter = parent_comment.author.name\n",
    "            G.add_edge(commenter.name, parent_commenter)"
   ]
  },
  {
   "cell_type": "code",
   "execution_count": 123,
   "id": "f9b9c588",
   "metadata": {},
   "outputs": [
    {
     "data": {
      "image/png": "[encoded data removed]",
      "text/plain": [
       "<Figure size 640x480 with 1 Axes>"
      ]
     },
     "metadata": {},
     "output_type": "display_data"
    }
   ],
   "source": [
    "nx.draw(G)"
   ]
  },
  {
   "cell_type": "code",
   "execution_count": 124,
   "id": "4de64108",
   "metadata": {},
   "outputs": [
    {
     "data": {
      "text/plain": [
       "(82, 134)"
      ]
     },
     "execution_count": 124,
     "metadata": {},
     "output_type": "execute_result"
    }
   ],
   "source": [
    "len(G.nodes()), len(G.edges())"
   ]
  },
  {
   "cell_type": "code",
   "execution_count": 125,
   "id": "dcc05fe1",
   "metadata": {},
   "outputs": [
    {
     "name": "stdout",
     "output_type": "stream",
     "text": [
      "goodshrek1\n",
      "boofer80\n"
     ]
    }
   ],
   "source": [
    "# let's check the isolated nodes\n",
    "for node in G.nodes():\n",
    "    if G.out_degree(node) == 0 and G.in_degree(node) == 0:\n",
    "        print(node)"
   ]
  },
  {
   "cell_type": "code",
   "execution_count": 56,
   "id": "b6ef2f7d",
   "metadata": {},
   "outputs": [
    {
     "name": "stdout",
     "output_type": "stream",
     "text": [
      "https://www.reddit.com/r/Cornell/comments/rliemq/covid19_boosters_will_be_required_for_the_spring/hpjr1q3/\n",
      "https://www.reddit.com/r/Cornell/comments/rliemq/covid19_boosters_will_be_required_for_the_spring/hpkpfbe/\n",
      "https://www.reddit.com/r/Cornell/comments/rliemq/covid19_boosters_will_be_required_for_the_spring/hpkudws/\n",
      "https://www.reddit.com/r/Cornell/comments/rliemq/covid19_boosters_will_be_required_for_the_spring/hplgx1s/\n",
      "https://www.reddit.com/r/Cornell/comments/rliemq/covid19_boosters_will_be_required_for_the_spring/hplpdxg/\n",
      "https://www.reddit.com/r/Cornell/comments/rliemq/covid19_boosters_will_be_required_for_the_spring/hplvnuo/\n",
      "https://www.reddit.com/r/Cornell/comments/rliemq/covid19_boosters_will_be_required_for_the_spring/hplvnuo/\n",
      "https://www.reddit.com/r/Cornell/comments/rliemq/covid19_boosters_will_be_required_for_the_spring/hplywal/\n",
      "https://www.reddit.com/r/Cornell/comments/rliemq/covid19_boosters_will_be_required_for_the_spring/hpm4fh3/\n",
      "https://www.reddit.com/r/Cornell/comments/rliemq/covid19_boosters_will_be_required_for_the_spring/hpmh82q/\n"
     ]
    }
   ],
   "source": [
    "for comment in submission.comments.list():\n",
    "    if comment.author == 'goodshrek1':\n",
    "        print('https://www.reddit.com' + comment.parent().permalink)"
   ]
  },
  {
   "cell_type": "code",
   "execution_count": 126,
   "id": "6dfa7610",
   "metadata": {},
   "outputs": [
    {
     "data": {
      "text/plain": [
       "82"
      ]
     },
     "execution_count": 126,
     "metadata": {},
     "output_type": "execute_result"
    }
   ],
   "source": [
    "# let's only keep 'active' commenters or people have at leats 5 comments\n",
    "outdeg = dict(G.out_degree())\n",
    "len(outdeg)"
   ]
  },
  {
   "cell_type": "code",
   "execution_count": 127,
   "id": "f335048f",
   "metadata": {},
   "outputs": [
    {
     "data": {
      "text/plain": [
       "{'brady_ccx': 1,\n",
       " 'AlternateShapes': 0,\n",
       " 'Nickyjha': 2,\n",
       " 'jzekyl': 3,\n",
       " 'toxicasp': 1,\n",
       " 'youngestprodigy': 1,\n",
       " 'ruudboy2': 2,\n",
       " 'Professional_Welder': 1,\n",
       " 'El_Senate': 2,\n",
       " 'GazzyGarciaJR': 1,\n",
       " 'thekidd20': 1,\n",
       " 'SamNature57': 1,\n",
       " 'frootluipdungis': 1,\n",
       " 'roselia4812': 1,\n",
       " 'OpeningSad3294': 1,\n",
       " 'Icy-Entertainment500': 1,\n",
       " 'RatKnees': 2,\n",
       " 'Daxman1250': 1,\n",
       " 'sevectorv2': 9,\n",
       " 'rey_chem': 1,\n",
       " 'Sad-Taro9451': 1,\n",
       " 'American_Psycho11': 2,\n",
       " 'sybinit': 1,\n",
       " 'TheWestCoastBro': 1,\n",
       " 'Redbigmistakes': 1,\n",
       " 'largerubyerrors': 1,\n",
       " 'RikerOmegaThree': 3,\n",
       " 'okenshields_enjoyer': 1,\n",
       " 'InsunLee': 1,\n",
       " 'Alternative-Sugar-71': 3,\n",
       " 'ithacaster': 6,\n",
       " 'Rylo987': 1,\n",
       " 'ruutentuuten': 1,\n",
       " 'L1amaL1ord': 1,\n",
       " 'FanOfBloodOfChrist': 1,\n",
       " 'zaptrem': 9,\n",
       " 'Green-Dreams227': 1,\n",
       " 'California14850': 1,\n",
       " 'happysted': 3,\n",
       " 'asheft31': 4,\n",
       " 'elonstusk10': 1,\n",
       " 'qdhcjv': 3,\n",
       " 'converter-bot': 1,\n",
       " 'TenderTruth999': 4,\n",
       " 'Artudytv': 1,\n",
       " 'Stunning_Armadillo67': 1,\n",
       " 'Buckana': 4,\n",
       " 'theatretrash': 1,\n",
       " 'iglioflop1': 1,\n",
       " 'Nuff-Respect': 1,\n",
       " 'ThrowFurthestAway': 1,\n",
       " 'pw11111': 1,\n",
       " 'Auraaaaa': 1,\n",
       " 'Medical_Style_5892': 2,\n",
       " 'SkeetSkeet123hj': 1,\n",
       " 'Islamism': 1,\n",
       " 'mongster_03': 1,\n",
       " 'KrzysisAverted': 5,\n",
       " 'ABCB2003': 2,\n",
       " 'AverageCornelEnjoyer': 1,\n",
       " 'tantilizingdinner42': 1,\n",
       " 'BDrocket': 2,\n",
       " 'Bfktoene789': 2,\n",
       " 'CoreyTrevorLahey35': 0,\n",
       " 'epichatchet': 1,\n",
       " 'Wewum': 2,\n",
       " 'ShowMeTheData19': 3,\n",
       " 'Interstellar_Ace': 1,\n",
       " 'Ventrone': 2,\n",
       " 'aimiria': 1,\n",
       " 'No_Grape_3220': 1,\n",
       " 'caesar1127': 1,\n",
       " 'goodshrek1': 0,\n",
       " 'Reddit-Book-Bot': 0,\n",
       " 'peopled_within': 1,\n",
       " 'Diglett3': 1,\n",
       " 'BoBigBed': 1,\n",
       " 'tr3g': 1,\n",
       " 'gamingnerdthroway': 1,\n",
       " 'jboss1642': 1,\n",
       " 'boofer80': 0,\n",
       " 'rislim-remix': 1}"
      ]
     },
     "execution_count": 127,
     "metadata": {},
     "output_type": "execute_result"
    }
   ],
   "source": [
    "outdeg"
   ]
  },
  {
   "cell_type": "code",
   "execution_count": 128,
   "id": "7f585a13",
   "metadata": {},
   "outputs": [
    {
     "data": {
      "text/plain": [
       "78"
      ]
     },
     "execution_count": 128,
     "metadata": {},
     "output_type": "execute_result"
    }
   ],
   "source": [
    "to_remove = [n for n in outdeg if outdeg[n] < 5] # nodes to be removed\n",
    "len(to_remove)"
   ]
  },
  {
   "cell_type": "code",
   "execution_count": 129,
   "id": "1c73e000",
   "metadata": {},
   "outputs": [
    {
     "data": {
      "text/plain": [
       "['brady_ccx', 'AlternateShapes', 'Nickyjha', 'jzekyl', 'toxicasp']"
      ]
     },
     "execution_count": 129,
     "metadata": {},
     "output_type": "execute_result"
    }
   ],
   "source": [
    "to_remove[0:5]"
   ]
  },
  {
   "cell_type": "code",
   "execution_count": 130,
   "id": "a4476e31",
   "metadata": {},
   "outputs": [],
   "source": [
    "# now remove these\n",
    "G.remove_nodes_from(to_remove)"
   ]
  },
  {
   "cell_type": "code",
   "execution_count": 131,
   "id": "cdde6153",
   "metadata": {},
   "outputs": [
    {
     "data": {
      "image/png": "[encoded data removed]",
      "text/plain": [
       "<Figure size 640x480 with 1 Axes>"
      ]
     },
     "metadata": {},
     "output_type": "display_data"
    }
   ],
   "source": [
    "nx.draw(G, with_labels = True)"
   ]
  },
  {
   "cell_type": "markdown",
   "id": "05861e41",
   "metadata": {},
   "source": [
    "# Data Formats in NetworkX\n",
    "\n",
    "NetworkX is quite versatily in terms of the data formats for reading and writing graphs. YOu can find out more here: https://networkx.org/documentation/stable/reference/readwrite/index.html\n",
    "\n",
    "We will look at the following:\n",
    "- json\n",
    "- adjlist\n",
    "- gfx"
   ]
  },
  {
   "cell_type": "markdown",
   "id": "c25e844b",
   "metadata": {},
   "source": [
    "### JSON"
   ]
  },
  {
   "cell_type": "code",
   "execution_count": 132,
   "id": "96b680be",
   "metadata": {},
   "outputs": [],
   "source": [
    "# save\n",
    "json.dump(dict(nodes=[n for n in G.nodes()],\n",
    "                   edges=[[u, v] for u,v in G.edges()]),\n",
    "     open('cornell_comments.json', 'w'), indent=2)"
   ]
  },
  {
   "cell_type": "code",
   "execution_count": 133,
   "id": "45f2774c",
   "metadata": {},
   "outputs": [],
   "source": [
    "# load\n",
    "G = nx.DiGraph()\n",
    "d = json.load(open('cornell_comments.json'))\n",
    "G.add_nodes_from(d['nodes'])\n",
    "G.add_edges_from(d['edges'])"
   ]
  },
  {
   "cell_type": "code",
   "execution_count": 134,
   "id": "181c27f4",
   "metadata": {},
   "outputs": [
    {
     "data": {
      "image/png": "[encoded data removed]",
      "text/plain": [
       "<Figure size 640x480 with 1 Axes>"
      ]
     },
     "metadata": {},
     "output_type": "display_data"
    }
   ],
   "source": [
    "nx.draw(G, with_labels = True)"
   ]
  },
  {
   "cell_type": "markdown",
   "id": "a30182a7",
   "metadata": {},
   "source": [
    "### Adjlist"
   ]
  },
  {
   "cell_type": "code",
   "execution_count": 135,
   "id": "e1bd2da5",
   "metadata": {},
   "outputs": [],
   "source": [
    "# write\n",
    "nx.write_adjlist(G, \"cornell_comments.adjlist\")"
   ]
  },
  {
   "cell_type": "code",
   "execution_count": 136,
   "id": "8aa6cf21",
   "metadata": {},
   "outputs": [],
   "source": [
    "# read\n",
    "G = nx.read_adjlist(\"cornell_comments.adjlist\") # this is undirected"
   ]
  },
  {
   "cell_type": "code",
   "execution_count": 137,
   "id": "5b37b089",
   "metadata": {},
   "outputs": [
    {
     "data": {
      "image/png": "[encoded data removed]",
      "text/plain": [
       "<Figure size 640x480 with 1 Axes>"
      ]
     },
     "metadata": {},
     "output_type": "display_data"
    }
   ],
   "source": [
    "nx.draw(G, with_labels = True)"
   ]
  },
  {
   "cell_type": "code",
   "execution_count": 67,
   "id": "d7a9502c",
   "metadata": {},
   "outputs": [
    {
     "data": {
      "image/png": "[encoded data removed]",
      "text/plain": [
       "<Figure size 640x480 with 1 Axes>"
      ]
     },
     "metadata": {},
     "output_type": "display_data"
    }
   ],
   "source": [
    "# read\n",
    "G = nx.read_adjlist(\"cornell_comments.adjlist\", create_using=nx.DiGraph()) # this is directed\n",
    "nx.draw(G, with_labels = True)"
   ]
  },
  {
   "cell_type": "markdown",
   "id": "ab5486a7",
   "metadata": {},
   "source": [
    "### GEXF\n",
    "\n",
    "GEXF (Graph Exchange XML Format) is a language for describing complex networks structures, their associated data and dynamics. read more about it here: http://gexf.net/"
   ]
  },
  {
   "cell_type": "code",
   "execution_count": 138,
   "id": "16df61d8",
   "metadata": {},
   "outputs": [],
   "source": [
    "# write\n",
    "nx.write_gexf(G, \"cornell_comments.gexf\")"
   ]
  },
  {
   "cell_type": "code",
   "execution_count": 139,
   "id": "1c2e9175",
   "metadata": {},
   "outputs": [
    {
     "data": {
      "image/png": "[encoded data removed]",
      "text/plain": [
       "<Figure size 640x480 with 1 Axes>"
      ]
     },
     "metadata": {},
     "output_type": "display_data"
    }
   ],
   "source": [
    "# read\n",
    "G = nx.read_gexf(\"cornell_comments.gexf\")\n",
    "nx.draw(G, with_labels = True)"
   ]
  },
  {
   "cell_type": "code",
   "execution_count": null,
   "id": "98b7756e",
   "metadata": {},
   "outputs": [],
   "source": []
  }
 ],
 "metadata": {
  "kernelspec": {
   "display_name": "Python 3 (ipykernel)",
   "language": "python",
   "name": "python3"
  },
  "language_info": {
   "codemirror_mode": {
    "name": "ipython",
    "version": 3
   },
   "file_extension": ".py",
   "mimetype": "text/x-python",
   "name": "python",
   "nbconvert_exporter": "python",
   "pygments_lexer": "ipython3",
   "version": "3.11.5"
  }
 },
 "nbformat": 4,
 "nbformat_minor": 5
}
