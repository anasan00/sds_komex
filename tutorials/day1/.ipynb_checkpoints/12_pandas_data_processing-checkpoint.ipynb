{
 "cells": [
  {
   "cell_type": "markdown",
   "metadata": {
    "id": "Pl6zwYveDptm"
   },
   "source": [
    "# Data Exploration with Pandas"
   ]
  },
  {
   "cell_type": "code",
   "execution_count": 1,
   "metadata": {
    "executionInfo": {
     "elapsed": 274,
     "status": "ok",
     "timestamp": 1696798565502,
     "user": {
      "displayName": "Indira Sen",
      "userId": "11191672663586892835"
     },
     "user_tz": -120
    },
    "id": "GatzuVeBDptn"
   },
   "outputs": [],
   "source": [
    "## setup\n",
    "import pandas as pd\n",
    "import numpy as np"
   ]
  },
  {
   "cell_type": "code",
   "execution_count": 2,
   "metadata": {
    "colab": {
     "base_uri": "https://localhost:8080/",
     "height": 322
    },
    "executionInfo": {
     "elapsed": 254,
     "status": "error",
     "timestamp": 1696798767946,
     "user": {
      "displayName": "Indira Sen",
      "userId": "11191672663586892835"
     },
     "user_tz": -120
    },
    "id": "EsaoII5YDptp",
    "outputId": "185c3669-5f23-4d8f-8432-891a7688267f"
   },
   "outputs": [],
   "source": [
    "df = pd.read_csv (\"data/adult.csv\", na_values=\"?\")"
   ]
  },
  {
   "cell_type": "code",
   "execution_count": 3,
   "metadata": {
    "executionInfo": {
     "elapsed": 57,
     "status": "aborted",
     "timestamp": 1696798565864,
     "user": {
      "displayName": "Indira Sen",
      "userId": "11191672663586892835"
     },
     "user_tz": -120
    },
    "id": "mb6OZ-XIDptp"
   },
   "outputs": [
    {
     "data": {
      "text/html": [
       "<div>\n",
       "<style scoped>\n",
       "    .dataframe tbody tr th:only-of-type {\n",
       "        vertical-align: middle;\n",
       "    }\n",
       "\n",
       "    .dataframe tbody tr th {\n",
       "        vertical-align: top;\n",
       "    }\n",
       "\n",
       "    .dataframe thead th {\n",
       "        text-align: right;\n",
       "    }\n",
       "</style>\n",
       "<table border=\"1\" class=\"dataframe\">\n",
       "  <thead>\n",
       "    <tr style=\"text-align: right;\">\n",
       "      <th></th>\n",
       "      <th>age</th>\n",
       "      <th>workclass</th>\n",
       "      <th>fnlwgt</th>\n",
       "      <th>education</th>\n",
       "      <th>education-num</th>\n",
       "      <th>marital-status</th>\n",
       "      <th>occupation</th>\n",
       "      <th>relationship</th>\n",
       "      <th>race</th>\n",
       "      <th>sex</th>\n",
       "      <th>capital-gain</th>\n",
       "      <th>capital-loss</th>\n",
       "      <th>hours-per-week</th>\n",
       "      <th>native-country</th>\n",
       "      <th>class</th>\n",
       "    </tr>\n",
       "  </thead>\n",
       "  <tbody>\n",
       "    <tr>\n",
       "      <th>0</th>\n",
       "      <td>39</td>\n",
       "      <td>State-gov</td>\n",
       "      <td>77516</td>\n",
       "      <td>Bachelors</td>\n",
       "      <td>13</td>\n",
       "      <td>Never-married</td>\n",
       "      <td>Adm-clerical</td>\n",
       "      <td>Not-in-family</td>\n",
       "      <td>White</td>\n",
       "      <td>Male</td>\n",
       "      <td>2174</td>\n",
       "      <td>0</td>\n",
       "      <td>40</td>\n",
       "      <td>United-States</td>\n",
       "      <td>&lt;=50K</td>\n",
       "    </tr>\n",
       "    <tr>\n",
       "      <th>1</th>\n",
       "      <td>50</td>\n",
       "      <td>Self-emp-not-inc</td>\n",
       "      <td>83311</td>\n",
       "      <td>Bachelors</td>\n",
       "      <td>13</td>\n",
       "      <td>Married-civ-spouse</td>\n",
       "      <td>Exec-managerial</td>\n",
       "      <td>Husband</td>\n",
       "      <td>White</td>\n",
       "      <td>Male</td>\n",
       "      <td>0</td>\n",
       "      <td>0</td>\n",
       "      <td>13</td>\n",
       "      <td>United-States</td>\n",
       "      <td>&lt;=50K</td>\n",
       "    </tr>\n",
       "    <tr>\n",
       "      <th>2</th>\n",
       "      <td>38</td>\n",
       "      <td>Private</td>\n",
       "      <td>215646</td>\n",
       "      <td>HS-grad</td>\n",
       "      <td>9</td>\n",
       "      <td>Divorced</td>\n",
       "      <td>Handlers-cleaners</td>\n",
       "      <td>Not-in-family</td>\n",
       "      <td>White</td>\n",
       "      <td>Male</td>\n",
       "      <td>0</td>\n",
       "      <td>0</td>\n",
       "      <td>40</td>\n",
       "      <td>United-States</td>\n",
       "      <td>&lt;=50K</td>\n",
       "    </tr>\n",
       "    <tr>\n",
       "      <th>3</th>\n",
       "      <td>53</td>\n",
       "      <td>Private</td>\n",
       "      <td>234721</td>\n",
       "      <td>11th</td>\n",
       "      <td>7</td>\n",
       "      <td>Married-civ-spouse</td>\n",
       "      <td>Handlers-cleaners</td>\n",
       "      <td>Husband</td>\n",
       "      <td>Black</td>\n",
       "      <td>Male</td>\n",
       "      <td>0</td>\n",
       "      <td>0</td>\n",
       "      <td>40</td>\n",
       "      <td>United-States</td>\n",
       "      <td>&lt;=50K</td>\n",
       "    </tr>\n",
       "    <tr>\n",
       "      <th>4</th>\n",
       "      <td>28</td>\n",
       "      <td>Private</td>\n",
       "      <td>338409</td>\n",
       "      <td>Bachelors</td>\n",
       "      <td>13</td>\n",
       "      <td>Married-civ-spouse</td>\n",
       "      <td>Prof-specialty</td>\n",
       "      <td>Wife</td>\n",
       "      <td>Black</td>\n",
       "      <td>Female</td>\n",
       "      <td>0</td>\n",
       "      <td>0</td>\n",
       "      <td>40</td>\n",
       "      <td>Cuba</td>\n",
       "      <td>&lt;=50K</td>\n",
       "    </tr>\n",
       "  </tbody>\n",
       "</table>\n",
       "</div>"
      ],
      "text/plain": [
       "   age         workclass  fnlwgt  education  education-num  \\\n",
       "0   39         State-gov   77516  Bachelors             13   \n",
       "1   50  Self-emp-not-inc   83311  Bachelors             13   \n",
       "2   38           Private  215646    HS-grad              9   \n",
       "3   53           Private  234721       11th              7   \n",
       "4   28           Private  338409  Bachelors             13   \n",
       "\n",
       "       marital-status         occupation   relationship   race     sex  \\\n",
       "0       Never-married       Adm-clerical  Not-in-family  White    Male   \n",
       "1  Married-civ-spouse    Exec-managerial        Husband  White    Male   \n",
       "2            Divorced  Handlers-cleaners  Not-in-family  White    Male   \n",
       "3  Married-civ-spouse  Handlers-cleaners        Husband  Black    Male   \n",
       "4  Married-civ-spouse     Prof-specialty           Wife  Black  Female   \n",
       "\n",
       "   capital-gain  capital-loss  hours-per-week native-country  class  \n",
       "0          2174             0              40  United-States  <=50K  \n",
       "1             0             0              13  United-States  <=50K  \n",
       "2             0             0              40  United-States  <=50K  \n",
       "3             0             0              40  United-States  <=50K  \n",
       "4             0             0              40           Cuba  <=50K  "
      ]
     },
     "execution_count": 3,
     "metadata": {},
     "output_type": "execute_result"
    }
   ],
   "source": [
    "df.head()"
   ]
  },
  {
   "cell_type": "code",
   "execution_count": 4,
   "metadata": {},
   "outputs": [
    {
     "data": {
      "text/html": [
       "<div>\n",
       "<style scoped>\n",
       "    .dataframe tbody tr th:only-of-type {\n",
       "        vertical-align: middle;\n",
       "    }\n",
       "\n",
       "    .dataframe tbody tr th {\n",
       "        vertical-align: top;\n",
       "    }\n",
       "\n",
       "    .dataframe thead th {\n",
       "        text-align: right;\n",
       "    }\n",
       "</style>\n",
       "<table border=\"1\" class=\"dataframe\">\n",
       "  <thead>\n",
       "    <tr style=\"text-align: right;\">\n",
       "      <th></th>\n",
       "      <th>age</th>\n",
       "      <th>fnlwgt</th>\n",
       "      <th>education-num</th>\n",
       "      <th>capital-gain</th>\n",
       "      <th>capital-loss</th>\n",
       "      <th>hours-per-week</th>\n",
       "    </tr>\n",
       "  </thead>\n",
       "  <tbody>\n",
       "    <tr>\n",
       "      <th>count</th>\n",
       "      <td>48842.000000</td>\n",
       "      <td>4.884200e+04</td>\n",
       "      <td>48842.000000</td>\n",
       "      <td>48842.000000</td>\n",
       "      <td>48842.000000</td>\n",
       "      <td>48842.000000</td>\n",
       "    </tr>\n",
       "    <tr>\n",
       "      <th>mean</th>\n",
       "      <td>38.643585</td>\n",
       "      <td>1.896641e+05</td>\n",
       "      <td>10.078089</td>\n",
       "      <td>1079.067626</td>\n",
       "      <td>87.502314</td>\n",
       "      <td>40.422382</td>\n",
       "    </tr>\n",
       "    <tr>\n",
       "      <th>std</th>\n",
       "      <td>13.710510</td>\n",
       "      <td>1.056040e+05</td>\n",
       "      <td>2.570973</td>\n",
       "      <td>7452.019058</td>\n",
       "      <td>403.004552</td>\n",
       "      <td>12.391444</td>\n",
       "    </tr>\n",
       "    <tr>\n",
       "      <th>min</th>\n",
       "      <td>17.000000</td>\n",
       "      <td>1.228500e+04</td>\n",
       "      <td>1.000000</td>\n",
       "      <td>0.000000</td>\n",
       "      <td>0.000000</td>\n",
       "      <td>1.000000</td>\n",
       "    </tr>\n",
       "    <tr>\n",
       "      <th>25%</th>\n",
       "      <td>28.000000</td>\n",
       "      <td>1.175505e+05</td>\n",
       "      <td>9.000000</td>\n",
       "      <td>0.000000</td>\n",
       "      <td>0.000000</td>\n",
       "      <td>40.000000</td>\n",
       "    </tr>\n",
       "    <tr>\n",
       "      <th>50%</th>\n",
       "      <td>37.000000</td>\n",
       "      <td>1.781445e+05</td>\n",
       "      <td>10.000000</td>\n",
       "      <td>0.000000</td>\n",
       "      <td>0.000000</td>\n",
       "      <td>40.000000</td>\n",
       "    </tr>\n",
       "    <tr>\n",
       "      <th>75%</th>\n",
       "      <td>48.000000</td>\n",
       "      <td>2.376420e+05</td>\n",
       "      <td>12.000000</td>\n",
       "      <td>0.000000</td>\n",
       "      <td>0.000000</td>\n",
       "      <td>45.000000</td>\n",
       "    </tr>\n",
       "    <tr>\n",
       "      <th>max</th>\n",
       "      <td>90.000000</td>\n",
       "      <td>1.490400e+06</td>\n",
       "      <td>16.000000</td>\n",
       "      <td>99999.000000</td>\n",
       "      <td>4356.000000</td>\n",
       "      <td>99.000000</td>\n",
       "    </tr>\n",
       "  </tbody>\n",
       "</table>\n",
       "</div>"
      ],
      "text/plain": [
       "                age        fnlwgt  education-num  capital-gain  capital-loss  \\\n",
       "count  48842.000000  4.884200e+04   48842.000000  48842.000000  48842.000000   \n",
       "mean      38.643585  1.896641e+05      10.078089   1079.067626     87.502314   \n",
       "std       13.710510  1.056040e+05       2.570973   7452.019058    403.004552   \n",
       "min       17.000000  1.228500e+04       1.000000      0.000000      0.000000   \n",
       "25%       28.000000  1.175505e+05       9.000000      0.000000      0.000000   \n",
       "50%       37.000000  1.781445e+05      10.000000      0.000000      0.000000   \n",
       "75%       48.000000  2.376420e+05      12.000000      0.000000      0.000000   \n",
       "max       90.000000  1.490400e+06      16.000000  99999.000000   4356.000000   \n",
       "\n",
       "       hours-per-week  \n",
       "count    48842.000000  \n",
       "mean        40.422382  \n",
       "std         12.391444  \n",
       "min          1.000000  \n",
       "25%         40.000000  \n",
       "50%         40.000000  \n",
       "75%         45.000000  \n",
       "max         99.000000  "
      ]
     },
     "execution_count": 4,
     "metadata": {},
     "output_type": "execute_result"
    }
   ],
   "source": [
    "df.describe()"
   ]
  },
  {
   "cell_type": "markdown",
   "metadata": {
    "id": "2hddUnW3Dptq"
   },
   "source": [
    "## Edit the data"
   ]
  },
  {
   "cell_type": "code",
   "execution_count": 5,
   "metadata": {
    "executionInfo": {
     "elapsed": 57,
     "status": "aborted",
     "timestamp": 1696798565864,
     "user": {
      "displayName": "Indira Sen",
      "userId": "11191672663586892835"
     },
     "user_tz": -120
    },
    "id": "KD29kt8uDptq"
   },
   "outputs": [
    {
     "data": {
      "text/html": [
       "<div>\n",
       "<style scoped>\n",
       "    .dataframe tbody tr th:only-of-type {\n",
       "        vertical-align: middle;\n",
       "    }\n",
       "\n",
       "    .dataframe tbody tr th {\n",
       "        vertical-align: top;\n",
       "    }\n",
       "\n",
       "    .dataframe thead th {\n",
       "        text-align: right;\n",
       "    }\n",
       "</style>\n",
       "<table border=\"1\" class=\"dataframe\">\n",
       "  <thead>\n",
       "    <tr style=\"text-align: right;\">\n",
       "      <th></th>\n",
       "      <th>age</th>\n",
       "      <th>sex</th>\n",
       "      <th>race</th>\n",
       "    </tr>\n",
       "  </thead>\n",
       "  <tbody>\n",
       "    <tr>\n",
       "      <th>0</th>\n",
       "      <td>39</td>\n",
       "      <td>Male</td>\n",
       "      <td>White</td>\n",
       "    </tr>\n",
       "    <tr>\n",
       "      <th>1</th>\n",
       "      <td>50</td>\n",
       "      <td>Male</td>\n",
       "      <td>White</td>\n",
       "    </tr>\n",
       "    <tr>\n",
       "      <th>2</th>\n",
       "      <td>38</td>\n",
       "      <td>Male</td>\n",
       "      <td>White</td>\n",
       "    </tr>\n",
       "    <tr>\n",
       "      <th>3</th>\n",
       "      <td>53</td>\n",
       "      <td>Male</td>\n",
       "      <td>Black</td>\n",
       "    </tr>\n",
       "    <tr>\n",
       "      <th>4</th>\n",
       "      <td>28</td>\n",
       "      <td>Female</td>\n",
       "      <td>Black</td>\n",
       "    </tr>\n",
       "  </tbody>\n",
       "</table>\n",
       "</div>"
      ],
      "text/plain": [
       "   age     sex   race\n",
       "0   39    Male  White\n",
       "1   50    Male  White\n",
       "2   38    Male  White\n",
       "3   53    Male  Black\n",
       "4   28  Female  Black"
      ]
     },
     "execution_count": 5,
     "metadata": {},
     "output_type": "execute_result"
    }
   ],
   "source": [
    "df2 = df[[\"age\", \"sex\", \"race\"]].head()\n",
    "df2"
   ]
  },
  {
   "cell_type": "markdown",
   "metadata": {
    "id": "b__nX_FHDptr"
   },
   "source": [
    "### Remove rows"
   ]
  },
  {
   "cell_type": "code",
   "execution_count": 6,
   "metadata": {},
   "outputs": [
    {
     "data": {
      "text/html": [
       "<div>\n",
       "<style scoped>\n",
       "    .dataframe tbody tr th:only-of-type {\n",
       "        vertical-align: middle;\n",
       "    }\n",
       "\n",
       "    .dataframe tbody tr th {\n",
       "        vertical-align: top;\n",
       "    }\n",
       "\n",
       "    .dataframe thead th {\n",
       "        text-align: right;\n",
       "    }\n",
       "</style>\n",
       "<table border=\"1\" class=\"dataframe\">\n",
       "  <thead>\n",
       "    <tr style=\"text-align: right;\">\n",
       "      <th></th>\n",
       "      <th>age</th>\n",
       "      <th>sex</th>\n",
       "      <th>race</th>\n",
       "    </tr>\n",
       "  </thead>\n",
       "  <tbody>\n",
       "    <tr>\n",
       "      <th>0</th>\n",
       "      <td>39</td>\n",
       "      <td>Male</td>\n",
       "      <td>White</td>\n",
       "    </tr>\n",
       "    <tr>\n",
       "      <th>1</th>\n",
       "      <td>50</td>\n",
       "      <td>Male</td>\n",
       "      <td>White</td>\n",
       "    </tr>\n",
       "    <tr>\n",
       "      <th>2</th>\n",
       "      <td>38</td>\n",
       "      <td>Male</td>\n",
       "      <td>White</td>\n",
       "    </tr>\n",
       "    <tr>\n",
       "      <th>3</th>\n",
       "      <td>53</td>\n",
       "      <td>Male</td>\n",
       "      <td>Black</td>\n",
       "    </tr>\n",
       "    <tr>\n",
       "      <th>4</th>\n",
       "      <td>28</td>\n",
       "      <td>Female</td>\n",
       "      <td>Black</td>\n",
       "    </tr>\n",
       "  </tbody>\n",
       "</table>\n",
       "</div>"
      ],
      "text/plain": [
       "   age     sex   race\n",
       "0   39    Male  White\n",
       "1   50    Male  White\n",
       "2   38    Male  White\n",
       "3   53    Male  Black\n",
       "4   28  Female  Black"
      ]
     },
     "execution_count": 6,
     "metadata": {},
     "output_type": "execute_result"
    }
   ],
   "source": [
    "df2"
   ]
  },
  {
   "cell_type": "code",
   "execution_count": 7,
   "metadata": {
    "executionInfo": {
     "elapsed": 52,
     "status": "aborted",
     "timestamp": 1696798565865,
     "user": {
      "displayName": "Indira Sen",
      "userId": "11191672663586892835"
     },
     "user_tz": -120
    },
    "id": "8muJvspIDptr"
   },
   "outputs": [
    {
     "data": {
      "text/html": [
       "<div>\n",
       "<style scoped>\n",
       "    .dataframe tbody tr th:only-of-type {\n",
       "        vertical-align: middle;\n",
       "    }\n",
       "\n",
       "    .dataframe tbody tr th {\n",
       "        vertical-align: top;\n",
       "    }\n",
       "\n",
       "    .dataframe thead th {\n",
       "        text-align: right;\n",
       "    }\n",
       "</style>\n",
       "<table border=\"1\" class=\"dataframe\">\n",
       "  <thead>\n",
       "    <tr style=\"text-align: right;\">\n",
       "      <th></th>\n",
       "      <th>age</th>\n",
       "      <th>sex</th>\n",
       "      <th>race</th>\n",
       "    </tr>\n",
       "  </thead>\n",
       "  <tbody>\n",
       "    <tr>\n",
       "      <th>0</th>\n",
       "      <td>39</td>\n",
       "      <td>Male</td>\n",
       "      <td>White</td>\n",
       "    </tr>\n",
       "    <tr>\n",
       "      <th>1</th>\n",
       "      <td>50</td>\n",
       "      <td>Male</td>\n",
       "      <td>White</td>\n",
       "    </tr>\n",
       "    <tr>\n",
       "      <th>2</th>\n",
       "      <td>38</td>\n",
       "      <td>Male</td>\n",
       "      <td>White</td>\n",
       "    </tr>\n",
       "    <tr>\n",
       "      <th>4</th>\n",
       "      <td>28</td>\n",
       "      <td>Female</td>\n",
       "      <td>Black</td>\n",
       "    </tr>\n",
       "  </tbody>\n",
       "</table>\n",
       "</div>"
      ],
      "text/plain": [
       "   age     sex   race\n",
       "0   39    Male  White\n",
       "1   50    Male  White\n",
       "2   38    Male  White\n",
       "4   28  Female  Black"
      ]
     },
     "execution_count": 7,
     "metadata": {},
     "output_type": "execute_result"
    }
   ],
   "source": [
    "# df2.drop([3], inplace=True, axis=0)\n",
    "df2.drop([3], axis=0, inplace=True)\n",
    "df2\n",
    "# The axis argument is either 0 when it indicates rows and 1 when it is used to drop columns.\n",
    "#axis : int or axis name. To drop labels from the rows (0 / ‘rows’)"
   ]
  },
  {
   "cell_type": "markdown",
   "metadata": {
    "id": "xb1eowJhDpts"
   },
   "source": [
    "### Remove columns"
   ]
  },
  {
   "cell_type": "code",
   "execution_count": 8,
   "metadata": {
    "executionInfo": {
     "elapsed": 47,
     "status": "aborted",
     "timestamp": 1696798565865,
     "user": {
      "displayName": "Indira Sen",
      "userId": "11191672663586892835"
     },
     "user_tz": -120
    },
    "id": "L46iVxeWDptt"
   },
   "outputs": [
    {
     "data": {
      "text/html": [
       "<div>\n",
       "<style scoped>\n",
       "    .dataframe tbody tr th:only-of-type {\n",
       "        vertical-align: middle;\n",
       "    }\n",
       "\n",
       "    .dataframe tbody tr th {\n",
       "        vertical-align: top;\n",
       "    }\n",
       "\n",
       "    .dataframe thead th {\n",
       "        text-align: right;\n",
       "    }\n",
       "</style>\n",
       "<table border=\"1\" class=\"dataframe\">\n",
       "  <thead>\n",
       "    <tr style=\"text-align: right;\">\n",
       "      <th></th>\n",
       "      <th>sex</th>\n",
       "      <th>race</th>\n",
       "    </tr>\n",
       "  </thead>\n",
       "  <tbody>\n",
       "    <tr>\n",
       "      <th>0</th>\n",
       "      <td>Male</td>\n",
       "      <td>White</td>\n",
       "    </tr>\n",
       "    <tr>\n",
       "      <th>1</th>\n",
       "      <td>Male</td>\n",
       "      <td>White</td>\n",
       "    </tr>\n",
       "    <tr>\n",
       "      <th>2</th>\n",
       "      <td>Male</td>\n",
       "      <td>White</td>\n",
       "    </tr>\n",
       "    <tr>\n",
       "      <th>4</th>\n",
       "      <td>Female</td>\n",
       "      <td>Black</td>\n",
       "    </tr>\n",
       "  </tbody>\n",
       "</table>\n",
       "</div>"
      ],
      "text/plain": [
       "      sex   race\n",
       "0    Male  White\n",
       "1    Male  White\n",
       "2    Male  White\n",
       "4  Female  Black"
      ]
     },
     "execution_count": 8,
     "metadata": {},
     "output_type": "execute_result"
    }
   ],
   "source": [
    "df2.drop('age', inplace=True, axis = 1)\n",
    "df2.head()\n",
    "\n",
    "# You can set inplace to True to delete the column without having to reassign the DataFrame.\n",
    "#axis : int or axis name. To drop labels from the columns (1 / ‘columns’)\n"
   ]
  },
  {
   "cell_type": "markdown",
   "metadata": {
    "id": "tkIDV0VvDptt"
   },
   "source": [
    "### Append rows"
   ]
  },
  {
   "cell_type": "code",
   "execution_count": 9,
   "metadata": {
    "executionInfo": {
     "elapsed": 59,
     "status": "aborted",
     "timestamp": 1696798565866,
     "user": {
      "displayName": "Indira Sen",
      "userId": "11191672663586892835"
     },
     "user_tz": -120
    },
    "id": "6WttM4rHDptt"
   },
   "outputs": [],
   "source": [
    "# Append is deprecated: https://stackoverflow.com/questions/75956209/error-dataframe-object-has-no-attribute-append\n",
    "# df2.append({\"sex\": \"Male\", \"race\" : \"White\"}, ignore_index=True)\n",
    "# Note that here, the index gets filled up, but the new instances is added at the end.\n",
    "# Append rows to the end of caller, returning a new object.\n",
    "# ignore_index: If True, do not use the index labels."
   ]
  },
  {
   "cell_type": "code",
   "execution_count": 10,
   "metadata": {},
   "outputs": [
    {
     "data": {
      "text/html": [
       "<div>\n",
       "<style scoped>\n",
       "    .dataframe tbody tr th:only-of-type {\n",
       "        vertical-align: middle;\n",
       "    }\n",
       "\n",
       "    .dataframe tbody tr th {\n",
       "        vertical-align: top;\n",
       "    }\n",
       "\n",
       "    .dataframe thead th {\n",
       "        text-align: right;\n",
       "    }\n",
       "</style>\n",
       "<table border=\"1\" class=\"dataframe\">\n",
       "  <thead>\n",
       "    <tr style=\"text-align: right;\">\n",
       "      <th></th>\n",
       "      <th>sex</th>\n",
       "      <th>race</th>\n",
       "    </tr>\n",
       "  </thead>\n",
       "  <tbody>\n",
       "    <tr>\n",
       "      <th>0</th>\n",
       "      <td>Male</td>\n",
       "      <td>White</td>\n",
       "    </tr>\n",
       "    <tr>\n",
       "      <th>1</th>\n",
       "      <td>Male</td>\n",
       "      <td>White</td>\n",
       "    </tr>\n",
       "    <tr>\n",
       "      <th>2</th>\n",
       "      <td>Male</td>\n",
       "      <td>White</td>\n",
       "    </tr>\n",
       "    <tr>\n",
       "      <th>4</th>\n",
       "      <td>Female</td>\n",
       "      <td>Black</td>\n",
       "    </tr>\n",
       "  </tbody>\n",
       "</table>\n",
       "</div>"
      ],
      "text/plain": [
       "      sex   race\n",
       "0    Male  White\n",
       "1    Male  White\n",
       "2    Male  White\n",
       "4  Female  Black"
      ]
     },
     "execution_count": 10,
     "metadata": {},
     "output_type": "execute_result"
    }
   ],
   "source": [
    "df2"
   ]
  },
  {
   "cell_type": "code",
   "execution_count": 11,
   "metadata": {},
   "outputs": [
    {
     "data": {
      "text/html": [
       "<div>\n",
       "<style scoped>\n",
       "    .dataframe tbody tr th:only-of-type {\n",
       "        vertical-align: middle;\n",
       "    }\n",
       "\n",
       "    .dataframe tbody tr th {\n",
       "        vertical-align: top;\n",
       "    }\n",
       "\n",
       "    .dataframe thead th {\n",
       "        text-align: right;\n",
       "    }\n",
       "</style>\n",
       "<table border=\"1\" class=\"dataframe\">\n",
       "  <thead>\n",
       "    <tr style=\"text-align: right;\">\n",
       "      <th></th>\n",
       "      <th>sex</th>\n",
       "      <th>race</th>\n",
       "      <th>age</th>\n",
       "    </tr>\n",
       "  </thead>\n",
       "  <tbody>\n",
       "    <tr>\n",
       "      <th>0</th>\n",
       "      <td>Male</td>\n",
       "      <td>White</td>\n",
       "      <td>21.0</td>\n",
       "    </tr>\n",
       "    <tr>\n",
       "      <th>1</th>\n",
       "      <td>Female</td>\n",
       "      <td>Asian</td>\n",
       "      <td>NaN</td>\n",
       "    </tr>\n",
       "  </tbody>\n",
       "</table>\n",
       "</div>"
      ],
      "text/plain": [
       "      sex   race   age\n",
       "0    Male  White  21.0\n",
       "1  Female  Asian   NaN"
      ]
     },
     "execution_count": 11,
     "metadata": {},
     "output_type": "execute_result"
    }
   ],
   "source": [
    "df_with_3_cols = pd.DataFrame([{\"sex\": \"Male\", \"race\" : \"White\", \"age\" : 21}, {\"sex\": \"Female\", \"race\" : \"Asian\"}])\n",
    "df_with_3_cols"
   ]
  },
  {
   "cell_type": "code",
   "execution_count": 12,
   "metadata": {},
   "outputs": [
    {
     "data": {
      "text/html": [
       "<div>\n",
       "<style scoped>\n",
       "    .dataframe tbody tr th:only-of-type {\n",
       "        vertical-align: middle;\n",
       "    }\n",
       "\n",
       "    .dataframe tbody tr th {\n",
       "        vertical-align: top;\n",
       "    }\n",
       "\n",
       "    .dataframe thead th {\n",
       "        text-align: right;\n",
       "    }\n",
       "</style>\n",
       "<table border=\"1\" class=\"dataframe\">\n",
       "  <thead>\n",
       "    <tr style=\"text-align: right;\">\n",
       "      <th></th>\n",
       "      <th>sex</th>\n",
       "      <th>race</th>\n",
       "    </tr>\n",
       "  </thead>\n",
       "  <tbody>\n",
       "    <tr>\n",
       "      <th>0</th>\n",
       "      <td>Male</td>\n",
       "      <td>White</td>\n",
       "    </tr>\n",
       "    <tr>\n",
       "      <th>1</th>\n",
       "      <td>Male</td>\n",
       "      <td>White</td>\n",
       "    </tr>\n",
       "    <tr>\n",
       "      <th>2</th>\n",
       "      <td>Male</td>\n",
       "      <td>White</td>\n",
       "    </tr>\n",
       "    <tr>\n",
       "      <th>4</th>\n",
       "      <td>Female</td>\n",
       "      <td>Black</td>\n",
       "    </tr>\n",
       "  </tbody>\n",
       "</table>\n",
       "</div>"
      ],
      "text/plain": [
       "      sex   race\n",
       "0    Male  White\n",
       "1    Male  White\n",
       "2    Male  White\n",
       "4  Female  Black"
      ]
     },
     "execution_count": 12,
     "metadata": {},
     "output_type": "execute_result"
    }
   ],
   "source": [
    "df2"
   ]
  },
  {
   "cell_type": "code",
   "execution_count": 13,
   "metadata": {},
   "outputs": [],
   "source": [
    "df2 = pd.concat([df2, pd.DataFrame([{\"sex\": \"Male\", \"race\" : \"Asian\"}])], ignore_index = True)"
   ]
  },
  {
   "cell_type": "code",
   "execution_count": 14,
   "metadata": {
    "executionInfo": {
     "elapsed": 61,
     "status": "aborted",
     "timestamp": 1696798565880,
     "user": {
      "displayName": "Indira Sen",
      "userId": "11191672663586892835"
     },
     "user_tz": -120
    },
    "id": "CRWjbv_VDptu"
   },
   "outputs": [
    {
     "data": {
      "text/html": [
       "<div>\n",
       "<style scoped>\n",
       "    .dataframe tbody tr th:only-of-type {\n",
       "        vertical-align: middle;\n",
       "    }\n",
       "\n",
       "    .dataframe tbody tr th {\n",
       "        vertical-align: top;\n",
       "    }\n",
       "\n",
       "    .dataframe thead th {\n",
       "        text-align: right;\n",
       "    }\n",
       "</style>\n",
       "<table border=\"1\" class=\"dataframe\">\n",
       "  <thead>\n",
       "    <tr style=\"text-align: right;\">\n",
       "      <th></th>\n",
       "      <th>sex</th>\n",
       "      <th>race</th>\n",
       "    </tr>\n",
       "  </thead>\n",
       "  <tbody>\n",
       "    <tr>\n",
       "      <th>0</th>\n",
       "      <td>Male</td>\n",
       "      <td>White</td>\n",
       "    </tr>\n",
       "    <tr>\n",
       "      <th>1</th>\n",
       "      <td>Male</td>\n",
       "      <td>White</td>\n",
       "    </tr>\n",
       "    <tr>\n",
       "      <th>2</th>\n",
       "      <td>Male</td>\n",
       "      <td>White</td>\n",
       "    </tr>\n",
       "    <tr>\n",
       "      <th>3</th>\n",
       "      <td>Female</td>\n",
       "      <td>Black</td>\n",
       "    </tr>\n",
       "    <tr>\n",
       "      <th>4</th>\n",
       "      <td>Male</td>\n",
       "      <td>Asian</td>\n",
       "    </tr>\n",
       "  </tbody>\n",
       "</table>\n",
       "</div>"
      ],
      "text/plain": [
       "      sex   race\n",
       "0    Male  White\n",
       "1    Male  White\n",
       "2    Male  White\n",
       "3  Female  Black\n",
       "4    Male  Asian"
      ]
     },
     "execution_count": 14,
     "metadata": {},
     "output_type": "execute_result"
    }
   ],
   "source": [
    "df2"
   ]
  },
  {
   "cell_type": "code",
   "execution_count": 15,
   "metadata": {},
   "outputs": [
    {
     "data": {
      "text/html": [
       "<div>\n",
       "<style scoped>\n",
       "    .dataframe tbody tr th:only-of-type {\n",
       "        vertical-align: middle;\n",
       "    }\n",
       "\n",
       "    .dataframe tbody tr th {\n",
       "        vertical-align: top;\n",
       "    }\n",
       "\n",
       "    .dataframe thead th {\n",
       "        text-align: right;\n",
       "    }\n",
       "</style>\n",
       "<table border=\"1\" class=\"dataframe\">\n",
       "  <thead>\n",
       "    <tr style=\"text-align: right;\">\n",
       "      <th></th>\n",
       "      <th>sex</th>\n",
       "      <th>race</th>\n",
       "      <th>age</th>\n",
       "    </tr>\n",
       "  </thead>\n",
       "  <tbody>\n",
       "    <tr>\n",
       "      <th>0</th>\n",
       "      <td>Male</td>\n",
       "      <td>White</td>\n",
       "      <td>NaN</td>\n",
       "    </tr>\n",
       "    <tr>\n",
       "      <th>1</th>\n",
       "      <td>Male</td>\n",
       "      <td>White</td>\n",
       "      <td>NaN</td>\n",
       "    </tr>\n",
       "    <tr>\n",
       "      <th>2</th>\n",
       "      <td>Male</td>\n",
       "      <td>White</td>\n",
       "      <td>NaN</td>\n",
       "    </tr>\n",
       "    <tr>\n",
       "      <th>3</th>\n",
       "      <td>Female</td>\n",
       "      <td>Black</td>\n",
       "      <td>NaN</td>\n",
       "    </tr>\n",
       "    <tr>\n",
       "      <th>4</th>\n",
       "      <td>Male</td>\n",
       "      <td>Asian</td>\n",
       "      <td>NaN</td>\n",
       "    </tr>\n",
       "    <tr>\n",
       "      <th>5</th>\n",
       "      <td>Male</td>\n",
       "      <td>White</td>\n",
       "      <td>21.0</td>\n",
       "    </tr>\n",
       "    <tr>\n",
       "      <th>6</th>\n",
       "      <td>Female</td>\n",
       "      <td>Asian</td>\n",
       "      <td>NaN</td>\n",
       "    </tr>\n",
       "  </tbody>\n",
       "</table>\n",
       "</div>"
      ],
      "text/plain": [
       "      sex   race   age\n",
       "0    Male  White   NaN\n",
       "1    Male  White   NaN\n",
       "2    Male  White   NaN\n",
       "3  Female  Black   NaN\n",
       "4    Male  Asian   NaN\n",
       "5    Male  White  21.0\n",
       "6  Female  Asian   NaN"
      ]
     },
     "execution_count": 15,
     "metadata": {},
     "output_type": "execute_result"
    }
   ],
   "source": [
    "df2 = pd.concat([df2, df_with_3_cols], ignore_index = True)\n",
    "df2"
   ]
  },
  {
   "cell_type": "markdown",
   "metadata": {
    "id": "3wa9492qDptv"
   },
   "source": [
    "### Adding columns"
   ]
  },
  {
   "cell_type": "code",
   "execution_count": 16,
   "metadata": {},
   "outputs": [
    {
     "data": {
      "text/html": [
       "<div>\n",
       "<style scoped>\n",
       "    .dataframe tbody tr th:only-of-type {\n",
       "        vertical-align: middle;\n",
       "    }\n",
       "\n",
       "    .dataframe tbody tr th {\n",
       "        vertical-align: top;\n",
       "    }\n",
       "\n",
       "    .dataframe thead th {\n",
       "        text-align: right;\n",
       "    }\n",
       "</style>\n",
       "<table border=\"1\" class=\"dataframe\">\n",
       "  <thead>\n",
       "    <tr style=\"text-align: right;\">\n",
       "      <th></th>\n",
       "      <th>age</th>\n",
       "      <th>workclass</th>\n",
       "      <th>fnlwgt</th>\n",
       "      <th>education</th>\n",
       "      <th>education-num</th>\n",
       "      <th>marital-status</th>\n",
       "      <th>occupation</th>\n",
       "      <th>relationship</th>\n",
       "      <th>race</th>\n",
       "      <th>sex</th>\n",
       "      <th>capital-gain</th>\n",
       "      <th>capital-loss</th>\n",
       "      <th>hours-per-week</th>\n",
       "      <th>native-country</th>\n",
       "      <th>class</th>\n",
       "    </tr>\n",
       "  </thead>\n",
       "  <tbody>\n",
       "    <tr>\n",
       "      <th>0</th>\n",
       "      <td>39</td>\n",
       "      <td>State-gov</td>\n",
       "      <td>77516</td>\n",
       "      <td>Bachelors</td>\n",
       "      <td>13</td>\n",
       "      <td>Never-married</td>\n",
       "      <td>Adm-clerical</td>\n",
       "      <td>Not-in-family</td>\n",
       "      <td>White</td>\n",
       "      <td>Male</td>\n",
       "      <td>2174</td>\n",
       "      <td>0</td>\n",
       "      <td>40</td>\n",
       "      <td>United-States</td>\n",
       "      <td>&lt;=50K</td>\n",
       "    </tr>\n",
       "    <tr>\n",
       "      <th>1</th>\n",
       "      <td>50</td>\n",
       "      <td>Self-emp-not-inc</td>\n",
       "      <td>83311</td>\n",
       "      <td>Bachelors</td>\n",
       "      <td>13</td>\n",
       "      <td>Married-civ-spouse</td>\n",
       "      <td>Exec-managerial</td>\n",
       "      <td>Husband</td>\n",
       "      <td>White</td>\n",
       "      <td>Male</td>\n",
       "      <td>0</td>\n",
       "      <td>0</td>\n",
       "      <td>13</td>\n",
       "      <td>United-States</td>\n",
       "      <td>&lt;=50K</td>\n",
       "    </tr>\n",
       "    <tr>\n",
       "      <th>2</th>\n",
       "      <td>38</td>\n",
       "      <td>Private</td>\n",
       "      <td>215646</td>\n",
       "      <td>HS-grad</td>\n",
       "      <td>9</td>\n",
       "      <td>Divorced</td>\n",
       "      <td>Handlers-cleaners</td>\n",
       "      <td>Not-in-family</td>\n",
       "      <td>White</td>\n",
       "      <td>Male</td>\n",
       "      <td>0</td>\n",
       "      <td>0</td>\n",
       "      <td>40</td>\n",
       "      <td>United-States</td>\n",
       "      <td>&lt;=50K</td>\n",
       "    </tr>\n",
       "    <tr>\n",
       "      <th>3</th>\n",
       "      <td>53</td>\n",
       "      <td>Private</td>\n",
       "      <td>234721</td>\n",
       "      <td>11th</td>\n",
       "      <td>7</td>\n",
       "      <td>Married-civ-spouse</td>\n",
       "      <td>Handlers-cleaners</td>\n",
       "      <td>Husband</td>\n",
       "      <td>Black</td>\n",
       "      <td>Male</td>\n",
       "      <td>0</td>\n",
       "      <td>0</td>\n",
       "      <td>40</td>\n",
       "      <td>United-States</td>\n",
       "      <td>&lt;=50K</td>\n",
       "    </tr>\n",
       "    <tr>\n",
       "      <th>4</th>\n",
       "      <td>28</td>\n",
       "      <td>Private</td>\n",
       "      <td>338409</td>\n",
       "      <td>Bachelors</td>\n",
       "      <td>13</td>\n",
       "      <td>Married-civ-spouse</td>\n",
       "      <td>Prof-specialty</td>\n",
       "      <td>Wife</td>\n",
       "      <td>Black</td>\n",
       "      <td>Female</td>\n",
       "      <td>0</td>\n",
       "      <td>0</td>\n",
       "      <td>40</td>\n",
       "      <td>Cuba</td>\n",
       "      <td>&lt;=50K</td>\n",
       "    </tr>\n",
       "    <tr>\n",
       "      <th>...</th>\n",
       "      <td>...</td>\n",
       "      <td>...</td>\n",
       "      <td>...</td>\n",
       "      <td>...</td>\n",
       "      <td>...</td>\n",
       "      <td>...</td>\n",
       "      <td>...</td>\n",
       "      <td>...</td>\n",
       "      <td>...</td>\n",
       "      <td>...</td>\n",
       "      <td>...</td>\n",
       "      <td>...</td>\n",
       "      <td>...</td>\n",
       "      <td>...</td>\n",
       "      <td>...</td>\n",
       "    </tr>\n",
       "    <tr>\n",
       "      <th>48837</th>\n",
       "      <td>39</td>\n",
       "      <td>Private</td>\n",
       "      <td>215419</td>\n",
       "      <td>Bachelors</td>\n",
       "      <td>13</td>\n",
       "      <td>Divorced</td>\n",
       "      <td>Prof-specialty</td>\n",
       "      <td>Not-in-family</td>\n",
       "      <td>White</td>\n",
       "      <td>Female</td>\n",
       "      <td>0</td>\n",
       "      <td>0</td>\n",
       "      <td>36</td>\n",
       "      <td>United-States</td>\n",
       "      <td>&lt;=50K</td>\n",
       "    </tr>\n",
       "    <tr>\n",
       "      <th>48838</th>\n",
       "      <td>64</td>\n",
       "      <td>NaN</td>\n",
       "      <td>321403</td>\n",
       "      <td>HS-grad</td>\n",
       "      <td>9</td>\n",
       "      <td>Widowed</td>\n",
       "      <td>NaN</td>\n",
       "      <td>Other-relative</td>\n",
       "      <td>Black</td>\n",
       "      <td>Male</td>\n",
       "      <td>0</td>\n",
       "      <td>0</td>\n",
       "      <td>40</td>\n",
       "      <td>United-States</td>\n",
       "      <td>&lt;=50K</td>\n",
       "    </tr>\n",
       "    <tr>\n",
       "      <th>48839</th>\n",
       "      <td>38</td>\n",
       "      <td>Private</td>\n",
       "      <td>374983</td>\n",
       "      <td>Bachelors</td>\n",
       "      <td>13</td>\n",
       "      <td>Married-civ-spouse</td>\n",
       "      <td>Prof-specialty</td>\n",
       "      <td>Husband</td>\n",
       "      <td>White</td>\n",
       "      <td>Male</td>\n",
       "      <td>0</td>\n",
       "      <td>0</td>\n",
       "      <td>50</td>\n",
       "      <td>United-States</td>\n",
       "      <td>&lt;=50K</td>\n",
       "    </tr>\n",
       "    <tr>\n",
       "      <th>48840</th>\n",
       "      <td>44</td>\n",
       "      <td>Private</td>\n",
       "      <td>83891</td>\n",
       "      <td>Bachelors</td>\n",
       "      <td>13</td>\n",
       "      <td>Divorced</td>\n",
       "      <td>Adm-clerical</td>\n",
       "      <td>Own-child</td>\n",
       "      <td>Asian-Pac-Islander</td>\n",
       "      <td>Male</td>\n",
       "      <td>5455</td>\n",
       "      <td>0</td>\n",
       "      <td>40</td>\n",
       "      <td>United-States</td>\n",
       "      <td>&lt;=50K</td>\n",
       "    </tr>\n",
       "    <tr>\n",
       "      <th>48841</th>\n",
       "      <td>35</td>\n",
       "      <td>Self-emp-inc</td>\n",
       "      <td>182148</td>\n",
       "      <td>Bachelors</td>\n",
       "      <td>13</td>\n",
       "      <td>Married-civ-spouse</td>\n",
       "      <td>Exec-managerial</td>\n",
       "      <td>Husband</td>\n",
       "      <td>White</td>\n",
       "      <td>Male</td>\n",
       "      <td>0</td>\n",
       "      <td>0</td>\n",
       "      <td>60</td>\n",
       "      <td>United-States</td>\n",
       "      <td>&gt;50K</td>\n",
       "    </tr>\n",
       "  </tbody>\n",
       "</table>\n",
       "<p>48842 rows × 15 columns</p>\n",
       "</div>"
      ],
      "text/plain": [
       "       age         workclass  fnlwgt  education  education-num  \\\n",
       "0       39         State-gov   77516  Bachelors             13   \n",
       "1       50  Self-emp-not-inc   83311  Bachelors             13   \n",
       "2       38           Private  215646    HS-grad              9   \n",
       "3       53           Private  234721       11th              7   \n",
       "4       28           Private  338409  Bachelors             13   \n",
       "...    ...               ...     ...        ...            ...   \n",
       "48837   39           Private  215419  Bachelors             13   \n",
       "48838   64               NaN  321403    HS-grad              9   \n",
       "48839   38           Private  374983  Bachelors             13   \n",
       "48840   44           Private   83891  Bachelors             13   \n",
       "48841   35      Self-emp-inc  182148  Bachelors             13   \n",
       "\n",
       "           marital-status         occupation    relationship  \\\n",
       "0           Never-married       Adm-clerical   Not-in-family   \n",
       "1      Married-civ-spouse    Exec-managerial         Husband   \n",
       "2                Divorced  Handlers-cleaners   Not-in-family   \n",
       "3      Married-civ-spouse  Handlers-cleaners         Husband   \n",
       "4      Married-civ-spouse     Prof-specialty            Wife   \n",
       "...                   ...                ...             ...   \n",
       "48837            Divorced     Prof-specialty   Not-in-family   \n",
       "48838             Widowed                NaN  Other-relative   \n",
       "48839  Married-civ-spouse     Prof-specialty         Husband   \n",
       "48840            Divorced       Adm-clerical       Own-child   \n",
       "48841  Married-civ-spouse    Exec-managerial         Husband   \n",
       "\n",
       "                     race     sex  capital-gain  capital-loss  hours-per-week  \\\n",
       "0                   White    Male          2174             0              40   \n",
       "1                   White    Male             0             0              13   \n",
       "2                   White    Male             0             0              40   \n",
       "3                   Black    Male             0             0              40   \n",
       "4                   Black  Female             0             0              40   \n",
       "...                   ...     ...           ...           ...             ...   \n",
       "48837               White  Female             0             0              36   \n",
       "48838               Black    Male             0             0              40   \n",
       "48839               White    Male             0             0              50   \n",
       "48840  Asian-Pac-Islander    Male          5455             0              40   \n",
       "48841               White    Male             0             0              60   \n",
       "\n",
       "      native-country  class  \n",
       "0      United-States  <=50K  \n",
       "1      United-States  <=50K  \n",
       "2      United-States  <=50K  \n",
       "3      United-States  <=50K  \n",
       "4               Cuba  <=50K  \n",
       "...              ...    ...  \n",
       "48837  United-States  <=50K  \n",
       "48838  United-States  <=50K  \n",
       "48839  United-States  <=50K  \n",
       "48840  United-States  <=50K  \n",
       "48841  United-States   >50K  \n",
       "\n",
       "[48842 rows x 15 columns]"
      ]
     },
     "execution_count": 16,
     "metadata": {},
     "output_type": "execute_result"
    }
   ],
   "source": [
    "df"
   ]
  },
  {
   "cell_type": "code",
   "execution_count": 17,
   "metadata": {
    "executionInfo": {
     "elapsed": 58,
     "status": "aborted",
     "timestamp": 1696798565882,
     "user": {
      "displayName": "Indira Sen",
      "userId": "11191672663586892835"
     },
     "user_tz": -120
    },
    "id": "b5U6CI6dDptv"
   },
   "outputs": [
    {
     "data": {
      "text/plain": [
       "0    39\n",
       "1    50\n",
       "2    38\n",
       "3    53\n",
       "4    28\n",
       "Name: age, dtype: int64"
      ]
     },
     "execution_count": 17,
     "metadata": {},
     "output_type": "execute_result"
    }
   ],
   "source": [
    "df[\"age\"].head()"
   ]
  },
  {
   "cell_type": "code",
   "execution_count": 18,
   "metadata": {
    "executionInfo": {
     "elapsed": 59,
     "status": "aborted",
     "timestamp": 1696798565883,
     "user": {
      "displayName": "Indira Sen",
      "userId": "11191672663586892835"
     },
     "user_tz": -120
    },
    "id": "IQVu12RuDptv"
   },
   "outputs": [
    {
     "data": {
      "text/plain": [
       "0    30\n",
       "1    50\n",
       "2    30\n",
       "3    50\n",
       "4    20\n",
       "Name: age, dtype: int64"
      ]
     },
     "execution_count": 18,
     "metadata": {},
     "output_type": "execute_result"
    }
   ],
   "source": [
    "decade = df[\"age\"] // 10 * 10\n",
    "decade.head()\n",
    "#type(s)"
   ]
  },
  {
   "cell_type": "code",
   "execution_count": 19,
   "metadata": {
    "executionInfo": {
     "elapsed": 58,
     "status": "aborted",
     "timestamp": 1696798565883,
     "user": {
      "displayName": "Indira Sen",
      "userId": "11191672663586892835"
     },
     "user_tz": -120
    },
    "id": "_A3zuCBkDptv",
    "scrolled": true
   },
   "outputs": [
    {
     "data": {
      "text/html": [
       "<div>\n",
       "<style scoped>\n",
       "    .dataframe tbody tr th:only-of-type {\n",
       "        vertical-align: middle;\n",
       "    }\n",
       "\n",
       "    .dataframe tbody tr th {\n",
       "        vertical-align: top;\n",
       "    }\n",
       "\n",
       "    .dataframe thead th {\n",
       "        text-align: right;\n",
       "    }\n",
       "</style>\n",
       "<table border=\"1\" class=\"dataframe\">\n",
       "  <thead>\n",
       "    <tr style=\"text-align: right;\">\n",
       "      <th></th>\n",
       "      <th>age</th>\n",
       "      <th>workclass</th>\n",
       "      <th>fnlwgt</th>\n",
       "      <th>education</th>\n",
       "      <th>education-num</th>\n",
       "      <th>marital-status</th>\n",
       "      <th>occupation</th>\n",
       "      <th>relationship</th>\n",
       "      <th>race</th>\n",
       "      <th>sex</th>\n",
       "      <th>capital-gain</th>\n",
       "      <th>capital-loss</th>\n",
       "      <th>hours-per-week</th>\n",
       "      <th>native-country</th>\n",
       "      <th>class</th>\n",
       "      <th>age_group</th>\n",
       "    </tr>\n",
       "  </thead>\n",
       "  <tbody>\n",
       "    <tr>\n",
       "      <th>0</th>\n",
       "      <td>39</td>\n",
       "      <td>State-gov</td>\n",
       "      <td>77516</td>\n",
       "      <td>Bachelors</td>\n",
       "      <td>13</td>\n",
       "      <td>Never-married</td>\n",
       "      <td>Adm-clerical</td>\n",
       "      <td>Not-in-family</td>\n",
       "      <td>White</td>\n",
       "      <td>Male</td>\n",
       "      <td>2174</td>\n",
       "      <td>0</td>\n",
       "      <td>40</td>\n",
       "      <td>United-States</td>\n",
       "      <td>&lt;=50K</td>\n",
       "      <td>30</td>\n",
       "    </tr>\n",
       "    <tr>\n",
       "      <th>1</th>\n",
       "      <td>50</td>\n",
       "      <td>Self-emp-not-inc</td>\n",
       "      <td>83311</td>\n",
       "      <td>Bachelors</td>\n",
       "      <td>13</td>\n",
       "      <td>Married-civ-spouse</td>\n",
       "      <td>Exec-managerial</td>\n",
       "      <td>Husband</td>\n",
       "      <td>White</td>\n",
       "      <td>Male</td>\n",
       "      <td>0</td>\n",
       "      <td>0</td>\n",
       "      <td>13</td>\n",
       "      <td>United-States</td>\n",
       "      <td>&lt;=50K</td>\n",
       "      <td>50</td>\n",
       "    </tr>\n",
       "    <tr>\n",
       "      <th>2</th>\n",
       "      <td>38</td>\n",
       "      <td>Private</td>\n",
       "      <td>215646</td>\n",
       "      <td>HS-grad</td>\n",
       "      <td>9</td>\n",
       "      <td>Divorced</td>\n",
       "      <td>Handlers-cleaners</td>\n",
       "      <td>Not-in-family</td>\n",
       "      <td>White</td>\n",
       "      <td>Male</td>\n",
       "      <td>0</td>\n",
       "      <td>0</td>\n",
       "      <td>40</td>\n",
       "      <td>United-States</td>\n",
       "      <td>&lt;=50K</td>\n",
       "      <td>30</td>\n",
       "    </tr>\n",
       "    <tr>\n",
       "      <th>3</th>\n",
       "      <td>53</td>\n",
       "      <td>Private</td>\n",
       "      <td>234721</td>\n",
       "      <td>11th</td>\n",
       "      <td>7</td>\n",
       "      <td>Married-civ-spouse</td>\n",
       "      <td>Handlers-cleaners</td>\n",
       "      <td>Husband</td>\n",
       "      <td>Black</td>\n",
       "      <td>Male</td>\n",
       "      <td>0</td>\n",
       "      <td>0</td>\n",
       "      <td>40</td>\n",
       "      <td>United-States</td>\n",
       "      <td>&lt;=50K</td>\n",
       "      <td>50</td>\n",
       "    </tr>\n",
       "    <tr>\n",
       "      <th>4</th>\n",
       "      <td>28</td>\n",
       "      <td>Private</td>\n",
       "      <td>338409</td>\n",
       "      <td>Bachelors</td>\n",
       "      <td>13</td>\n",
       "      <td>Married-civ-spouse</td>\n",
       "      <td>Prof-specialty</td>\n",
       "      <td>Wife</td>\n",
       "      <td>Black</td>\n",
       "      <td>Female</td>\n",
       "      <td>0</td>\n",
       "      <td>0</td>\n",
       "      <td>40</td>\n",
       "      <td>Cuba</td>\n",
       "      <td>&lt;=50K</td>\n",
       "      <td>20</td>\n",
       "    </tr>\n",
       "  </tbody>\n",
       "</table>\n",
       "</div>"
      ],
      "text/plain": [
       "   age         workclass  fnlwgt  education  education-num  \\\n",
       "0   39         State-gov   77516  Bachelors             13   \n",
       "1   50  Self-emp-not-inc   83311  Bachelors             13   \n",
       "2   38           Private  215646    HS-grad              9   \n",
       "3   53           Private  234721       11th              7   \n",
       "4   28           Private  338409  Bachelors             13   \n",
       "\n",
       "       marital-status         occupation   relationship   race     sex  \\\n",
       "0       Never-married       Adm-clerical  Not-in-family  White    Male   \n",
       "1  Married-civ-spouse    Exec-managerial        Husband  White    Male   \n",
       "2            Divorced  Handlers-cleaners  Not-in-family  White    Male   \n",
       "3  Married-civ-spouse  Handlers-cleaners        Husband  Black    Male   \n",
       "4  Married-civ-spouse     Prof-specialty           Wife  Black  Female   \n",
       "\n",
       "   capital-gain  capital-loss  hours-per-week native-country  class  age_group  \n",
       "0          2174             0              40  United-States  <=50K         30  \n",
       "1             0             0              13  United-States  <=50K         50  \n",
       "2             0             0              40  United-States  <=50K         30  \n",
       "3             0             0              40  United-States  <=50K         50  \n",
       "4             0             0              40           Cuba  <=50K         20  "
      ]
     },
     "execution_count": 19,
     "metadata": {},
     "output_type": "execute_result"
    }
   ],
   "source": [
    "df ['age_group'] = decade\n",
    "df.head()"
   ]
  },
  {
   "cell_type": "code",
   "execution_count": 20,
   "metadata": {
    "executionInfo": {
     "elapsed": 58,
     "status": "aborted",
     "timestamp": 1696798565883,
     "user": {
      "displayName": "Indira Sen",
      "userId": "11191672663586892835"
     },
     "user_tz": -120
    },
    "id": "IiL-NVklDptv",
    "scrolled": true
   },
   "outputs": [
    {
     "data": {
      "text/html": [
       "<div>\n",
       "<style scoped>\n",
       "    .dataframe tbody tr th:only-of-type {\n",
       "        vertical-align: middle;\n",
       "    }\n",
       "\n",
       "    .dataframe tbody tr th {\n",
       "        vertical-align: top;\n",
       "    }\n",
       "\n",
       "    .dataframe thead th {\n",
       "        text-align: right;\n",
       "    }\n",
       "</style>\n",
       "<table border=\"1\" class=\"dataframe\">\n",
       "  <thead>\n",
       "    <tr style=\"text-align: right;\">\n",
       "      <th></th>\n",
       "      <th>age</th>\n",
       "      <th>workclass</th>\n",
       "      <th>fnlwgt</th>\n",
       "      <th>education</th>\n",
       "      <th>education-num</th>\n",
       "      <th>marital-status</th>\n",
       "      <th>occupation</th>\n",
       "      <th>relationship</th>\n",
       "      <th>race</th>\n",
       "      <th>sex</th>\n",
       "      <th>capital-gain</th>\n",
       "      <th>capital-loss</th>\n",
       "      <th>hours-per-week</th>\n",
       "      <th>native-country</th>\n",
       "      <th>class</th>\n",
       "      <th>age_group</th>\n",
       "      <th>is_white</th>\n",
       "      <th>is_white_again</th>\n",
       "    </tr>\n",
       "  </thead>\n",
       "  <tbody>\n",
       "    <tr>\n",
       "      <th>0</th>\n",
       "      <td>39</td>\n",
       "      <td>State-gov</td>\n",
       "      <td>77516</td>\n",
       "      <td>Bachelors</td>\n",
       "      <td>13</td>\n",
       "      <td>Never-married</td>\n",
       "      <td>Adm-clerical</td>\n",
       "      <td>Not-in-family</td>\n",
       "      <td>White</td>\n",
       "      <td>Male</td>\n",
       "      <td>2174</td>\n",
       "      <td>0</td>\n",
       "      <td>40</td>\n",
       "      <td>United-States</td>\n",
       "      <td>&lt;=50K</td>\n",
       "      <td>30</td>\n",
       "      <td>True</td>\n",
       "      <td>True</td>\n",
       "    </tr>\n",
       "    <tr>\n",
       "      <th>1</th>\n",
       "      <td>50</td>\n",
       "      <td>Self-emp-not-inc</td>\n",
       "      <td>83311</td>\n",
       "      <td>Bachelors</td>\n",
       "      <td>13</td>\n",
       "      <td>Married-civ-spouse</td>\n",
       "      <td>Exec-managerial</td>\n",
       "      <td>Husband</td>\n",
       "      <td>White</td>\n",
       "      <td>Male</td>\n",
       "      <td>0</td>\n",
       "      <td>0</td>\n",
       "      <td>13</td>\n",
       "      <td>United-States</td>\n",
       "      <td>&lt;=50K</td>\n",
       "      <td>50</td>\n",
       "      <td>True</td>\n",
       "      <td>True</td>\n",
       "    </tr>\n",
       "    <tr>\n",
       "      <th>2</th>\n",
       "      <td>38</td>\n",
       "      <td>Private</td>\n",
       "      <td>215646</td>\n",
       "      <td>HS-grad</td>\n",
       "      <td>9</td>\n",
       "      <td>Divorced</td>\n",
       "      <td>Handlers-cleaners</td>\n",
       "      <td>Not-in-family</td>\n",
       "      <td>White</td>\n",
       "      <td>Male</td>\n",
       "      <td>0</td>\n",
       "      <td>0</td>\n",
       "      <td>40</td>\n",
       "      <td>United-States</td>\n",
       "      <td>&lt;=50K</td>\n",
       "      <td>30</td>\n",
       "      <td>True</td>\n",
       "      <td>True</td>\n",
       "    </tr>\n",
       "    <tr>\n",
       "      <th>3</th>\n",
       "      <td>53</td>\n",
       "      <td>Private</td>\n",
       "      <td>234721</td>\n",
       "      <td>11th</td>\n",
       "      <td>7</td>\n",
       "      <td>Married-civ-spouse</td>\n",
       "      <td>Handlers-cleaners</td>\n",
       "      <td>Husband</td>\n",
       "      <td>Black</td>\n",
       "      <td>Male</td>\n",
       "      <td>0</td>\n",
       "      <td>0</td>\n",
       "      <td>40</td>\n",
       "      <td>United-States</td>\n",
       "      <td>&lt;=50K</td>\n",
       "      <td>50</td>\n",
       "      <td>False</td>\n",
       "      <td>False</td>\n",
       "    </tr>\n",
       "    <tr>\n",
       "      <th>4</th>\n",
       "      <td>28</td>\n",
       "      <td>Private</td>\n",
       "      <td>338409</td>\n",
       "      <td>Bachelors</td>\n",
       "      <td>13</td>\n",
       "      <td>Married-civ-spouse</td>\n",
       "      <td>Prof-specialty</td>\n",
       "      <td>Wife</td>\n",
       "      <td>Black</td>\n",
       "      <td>Female</td>\n",
       "      <td>0</td>\n",
       "      <td>0</td>\n",
       "      <td>40</td>\n",
       "      <td>Cuba</td>\n",
       "      <td>&lt;=50K</td>\n",
       "      <td>20</td>\n",
       "      <td>False</td>\n",
       "      <td>False</td>\n",
       "    </tr>\n",
       "  </tbody>\n",
       "</table>\n",
       "</div>"
      ],
      "text/plain": [
       "   age         workclass  fnlwgt  education  education-num  \\\n",
       "0   39         State-gov   77516  Bachelors             13   \n",
       "1   50  Self-emp-not-inc   83311  Bachelors             13   \n",
       "2   38           Private  215646    HS-grad              9   \n",
       "3   53           Private  234721       11th              7   \n",
       "4   28           Private  338409  Bachelors             13   \n",
       "\n",
       "       marital-status         occupation   relationship   race     sex  \\\n",
       "0       Never-married       Adm-clerical  Not-in-family  White    Male   \n",
       "1  Married-civ-spouse    Exec-managerial        Husband  White    Male   \n",
       "2            Divorced  Handlers-cleaners  Not-in-family  White    Male   \n",
       "3  Married-civ-spouse  Handlers-cleaners        Husband  Black    Male   \n",
       "4  Married-civ-spouse     Prof-specialty           Wife  Black  Female   \n",
       "\n",
       "   capital-gain  capital-loss  hours-per-week native-country  class  \\\n",
       "0          2174             0              40  United-States  <=50K   \n",
       "1             0             0              13  United-States  <=50K   \n",
       "2             0             0              40  United-States  <=50K   \n",
       "3             0             0              40  United-States  <=50K   \n",
       "4             0             0              40           Cuba  <=50K   \n",
       "\n",
       "   age_group  is_white  is_white_again  \n",
       "0         30      True            True  \n",
       "1         50      True            True  \n",
       "2         30      True            True  \n",
       "3         50     False           False  \n",
       "4         20     False           False  "
      ]
     },
     "execution_count": 20,
     "metadata": {},
     "output_type": "execute_result"
    }
   ],
   "source": [
    "df [\"is_white\"] = df.race == \"White\"\n",
    "df [\"is_white_again\"] = [True if i == \"White\" else False for i in df.race]# == \"White\"\n",
    "df.head()"
   ]
  },
  {
   "cell_type": "code",
   "execution_count": 41,
   "metadata": {},
   "outputs": [
    {
     "data": {
      "text/plain": [
       "(4035, 48842, 48842)"
      ]
     },
     "execution_count": 41,
     "metadata": {},
     "output_type": "execute_result"
    }
   ],
   "source": [
    "list1 = [\"capital-win\" for x in df [\"capital-gain\"] if x > 0]\n",
    "list2 = [\"capital-win\" if x > 0 else \"no-capital-win\" for x in df [\"capital-gain\"]]\n",
    "len(list1), len(list2), len(df)"
   ]
  },
  {
   "cell_type": "code",
   "execution_count": 22,
   "metadata": {},
   "outputs": [
    {
     "data": {
      "text/plain": [
       "['capital-win', 'capital-win', 'capital-win', 'capital-win', 'capital-win']"
      ]
     },
     "execution_count": 22,
     "metadata": {},
     "output_type": "execute_result"
    }
   ],
   "source": [
    "list1[:5]"
   ]
  },
  {
   "cell_type": "code",
   "execution_count": 36,
   "metadata": {},
   "outputs": [
    {
     "data": {
      "text/plain": [
       "['capital-win',\n",
       " 'no-capital-win',\n",
       " 'no-capital-win',\n",
       " 'no-capital-win',\n",
       " 'no-capital-win']"
      ]
     },
     "execution_count": 36,
     "metadata": {},
     "output_type": "execute_result"
    }
   ],
   "source": [
    "list2[:5]"
   ]
  },
  {
   "cell_type": "code",
   "execution_count": 24,
   "metadata": {},
   "outputs": [
    {
     "name": "stdout",
     "output_type": "stream",
     "text": [
      "<class 'pandas.core.frame.DataFrame'>\n",
      "RangeIndex: 48842 entries, 0 to 48841\n",
      "Data columns (total 18 columns):\n",
      " #   Column          Non-Null Count  Dtype \n",
      "---  ------          --------------  ----- \n",
      " 0   age             48842 non-null  int64 \n",
      " 1   workclass       46043 non-null  object\n",
      " 2   fnlwgt          48842 non-null  int64 \n",
      " 3   education       48842 non-null  object\n",
      " 4   education-num   48842 non-null  int64 \n",
      " 5   marital-status  48842 non-null  object\n",
      " 6   occupation      46033 non-null  object\n",
      " 7   relationship    48842 non-null  object\n",
      " 8   race            48842 non-null  object\n",
      " 9   sex             48842 non-null  object\n",
      " 10  capital-gain    48842 non-null  int64 \n",
      " 11  capital-loss    48842 non-null  int64 \n",
      " 12  hours-per-week  48842 non-null  int64 \n",
      " 13  native-country  47985 non-null  object\n",
      " 14  class           48842 non-null  object\n",
      " 15  age_group       48842 non-null  int64 \n",
      " 16  is_white        48842 non-null  bool  \n",
      " 17  is_white_again  48842 non-null  bool  \n",
      "dtypes: bool(2), int64(7), object(9)\n",
      "memory usage: 6.1+ MB\n"
     ]
    }
   ],
   "source": [
    "df.info()"
   ]
  },
  {
   "cell_type": "code",
   "execution_count": 63,
   "metadata": {},
   "outputs": [
    {
     "data": {
      "text/plain": [
       "Index(['capital-gain', 'capital-loss'], dtype='object')"
      ]
     },
     "execution_count": 63,
     "metadata": {},
     "output_type": "execute_result"
    }
   ],
   "source": [
    "df.columns[10:12]"
   ]
  },
  {
   "cell_type": "code",
   "execution_count": 33,
   "metadata": {
    "executionInfo": {
     "elapsed": 56,
     "status": "aborted",
     "timestamp": 1696798565883,
     "user": {
      "displayName": "Indira Sen",
      "userId": "11191672663586892835"
     },
     "user_tz": -120
    },
    "id": "WQMg_ZMnDptv",
    "scrolled": true
   },
   "outputs": [
    {
     "ename": "TypeError",
     "evalue": "'>' not supported between instances of 'str' and 'int'",
     "output_type": "error",
     "traceback": [
      "\u001b[0;31m---------------------------------------------------------------------------\u001b[0m",
      "\u001b[0;31mTypeError\u001b[0m                                 Traceback (most recent call last)",
      "\u001b[0;32m/tmp/ipykernel_28829/1584715060.py\u001b[0m in \u001b[0;36m<module>\u001b[0;34m\u001b[0m\n\u001b[0;32m----> 1\u001b[0;31m \u001b[0mdf\u001b[0m\u001b[0;34m[\u001b[0m\u001b[0;34m\"capital\"\u001b[0m\u001b[0;34m]\u001b[0m \u001b[0;34m=\u001b[0m \u001b[0;34m[\u001b[0m\u001b[0;34m\"capital-win\"\u001b[0m \u001b[0;32mif\u001b[0m \u001b[0mx\u001b[0m \u001b[0;34m>\u001b[0m \u001b[0;36m0\u001b[0m \u001b[0;32melse\u001b[0m \u001b[0;34m\"no-capital-win\"\u001b[0m \u001b[0;32mfor\u001b[0m \u001b[0mx\u001b[0m \u001b[0;32min\u001b[0m \u001b[0mdf\u001b[0m\u001b[0;34m[\u001b[0m\u001b[0;34m[\u001b[0m\u001b[0;34m\"capital-gain\"\u001b[0m\u001b[0;34m,\u001b[0m \u001b[0;34m\"capital-loss\"\u001b[0m\u001b[0;34m]\u001b[0m\u001b[0;34m]\u001b[0m \u001b[0;34m]\u001b[0m\u001b[0;34m\u001b[0m\u001b[0;34m\u001b[0m\u001b[0m\n\u001b[0m\u001b[1;32m      2\u001b[0m \u001b[0;31m# df [\"capital_again\"] = [\"capital-win\" for x in df [\"capital-gain\"] if x > 0]\u001b[0m\u001b[0;34m\u001b[0m\u001b[0;34m\u001b[0m\u001b[0m\n\u001b[1;32m      3\u001b[0m \u001b[0mdf\u001b[0m\u001b[0;34m.\u001b[0m\u001b[0mhead\u001b[0m\u001b[0;34m(\u001b[0m\u001b[0;34m)\u001b[0m\u001b[0;34m\u001b[0m\u001b[0;34m\u001b[0m\u001b[0m\n",
      "\u001b[0;32m/tmp/ipykernel_28829/1584715060.py\u001b[0m in \u001b[0;36m<listcomp>\u001b[0;34m(.0)\u001b[0m\n\u001b[0;32m----> 1\u001b[0;31m \u001b[0mdf\u001b[0m\u001b[0;34m[\u001b[0m\u001b[0;34m\"capital\"\u001b[0m\u001b[0;34m]\u001b[0m \u001b[0;34m=\u001b[0m \u001b[0;34m[\u001b[0m\u001b[0;34m\"capital-win\"\u001b[0m \u001b[0;32mif\u001b[0m \u001b[0mx\u001b[0m \u001b[0;34m>\u001b[0m \u001b[0;36m0\u001b[0m \u001b[0;32melse\u001b[0m \u001b[0;34m\"no-capital-win\"\u001b[0m \u001b[0;32mfor\u001b[0m \u001b[0mx\u001b[0m \u001b[0;32min\u001b[0m \u001b[0mdf\u001b[0m\u001b[0;34m[\u001b[0m\u001b[0;34m[\u001b[0m\u001b[0;34m\"capital-gain\"\u001b[0m\u001b[0;34m,\u001b[0m \u001b[0;34m\"capital-loss\"\u001b[0m\u001b[0;34m]\u001b[0m\u001b[0;34m]\u001b[0m \u001b[0;34m]\u001b[0m\u001b[0;34m\u001b[0m\u001b[0;34m\u001b[0m\u001b[0m\n\u001b[0m\u001b[1;32m      2\u001b[0m \u001b[0;31m# df [\"capital_again\"] = [\"capital-win\" for x in df [\"capital-gain\"] if x > 0]\u001b[0m\u001b[0;34m\u001b[0m\u001b[0;34m\u001b[0m\u001b[0m\n\u001b[1;32m      3\u001b[0m \u001b[0mdf\u001b[0m\u001b[0;34m.\u001b[0m\u001b[0mhead\u001b[0m\u001b[0;34m(\u001b[0m\u001b[0;34m)\u001b[0m\u001b[0;34m\u001b[0m\u001b[0;34m\u001b[0m\u001b[0m\n",
      "\u001b[0;31mTypeError\u001b[0m: '>' not supported between instances of 'str' and 'int'"
     ]
    }
   ],
   "source": [
    "df[\"capital\"] = [\"capital-win\" if x > 0 else \"no-capital-win\" for x in df[[\"capital-gain\", \"capital-loss\"]] ]\n",
    "# df [\"capital_again\"] = [\"capital-win\" for x in df [\"capital-gain\"] if x > 0]\n",
    "df.head()"
   ]
  },
  {
   "cell_type": "code",
   "execution_count": 72,
   "metadata": {
    "executionInfo": {
     "elapsed": 56,
     "status": "aborted",
     "timestamp": 1696798565884,
     "user": {
      "displayName": "Indira Sen",
      "userId": "11191672663586892835"
     },
     "user_tz": -120
    },
    "id": "c1efXqDfDptw"
   },
   "outputs": [
    {
     "data": {
      "text/html": [
       "<div>\n",
       "<style scoped>\n",
       "    .dataframe tbody tr th:only-of-type {\n",
       "        vertical-align: middle;\n",
       "    }\n",
       "\n",
       "    .dataframe tbody tr th {\n",
       "        vertical-align: top;\n",
       "    }\n",
       "\n",
       "    .dataframe thead th {\n",
       "        text-align: right;\n",
       "    }\n",
       "</style>\n",
       "<table border=\"1\" class=\"dataframe\">\n",
       "  <thead>\n",
       "    <tr style=\"text-align: right;\">\n",
       "      <th></th>\n",
       "      <th>age</th>\n",
       "      <th>workclass</th>\n",
       "      <th>fnlwgt</th>\n",
       "      <th>education</th>\n",
       "      <th>education-num</th>\n",
       "      <th>marital-status</th>\n",
       "      <th>occupation</th>\n",
       "      <th>relationship</th>\n",
       "      <th>race</th>\n",
       "      <th>sex</th>\n",
       "      <th>capital-gain</th>\n",
       "      <th>capital-loss</th>\n",
       "      <th>hours-per-week</th>\n",
       "      <th>native-country</th>\n",
       "      <th>class</th>\n",
       "      <th>age_group</th>\n",
       "      <th>is_white</th>\n",
       "      <th>is_white_again</th>\n",
       "      <th>capital_status</th>\n",
       "    </tr>\n",
       "  </thead>\n",
       "  <tbody>\n",
       "    <tr>\n",
       "      <th>0</th>\n",
       "      <td>39</td>\n",
       "      <td>State-gov</td>\n",
       "      <td>77516</td>\n",
       "      <td>Bachelors</td>\n",
       "      <td>13</td>\n",
       "      <td>Never-married</td>\n",
       "      <td>Adm-clerical</td>\n",
       "      <td>Not-in-family</td>\n",
       "      <td>White</td>\n",
       "      <td>Male</td>\n",
       "      <td>2174</td>\n",
       "      <td>0</td>\n",
       "      <td>40</td>\n",
       "      <td>United-States</td>\n",
       "      <td>&lt;=50K</td>\n",
       "      <td>30</td>\n",
       "      <td>True</td>\n",
       "      <td>True</td>\n",
       "      <td>capital-win</td>\n",
       "    </tr>\n",
       "    <tr>\n",
       "      <th>1</th>\n",
       "      <td>50</td>\n",
       "      <td>Self-emp-not-inc</td>\n",
       "      <td>83311</td>\n",
       "      <td>Bachelors</td>\n",
       "      <td>13</td>\n",
       "      <td>Married-civ-spouse</td>\n",
       "      <td>Exec-managerial</td>\n",
       "      <td>Husband</td>\n",
       "      <td>White</td>\n",
       "      <td>Male</td>\n",
       "      <td>0</td>\n",
       "      <td>0</td>\n",
       "      <td>13</td>\n",
       "      <td>United-States</td>\n",
       "      <td>&lt;=50K</td>\n",
       "      <td>50</td>\n",
       "      <td>True</td>\n",
       "      <td>True</td>\n",
       "      <td>neutral-capital</td>\n",
       "    </tr>\n",
       "    <tr>\n",
       "      <th>2</th>\n",
       "      <td>38</td>\n",
       "      <td>Private</td>\n",
       "      <td>215646</td>\n",
       "      <td>HS-grad</td>\n",
       "      <td>9</td>\n",
       "      <td>Divorced</td>\n",
       "      <td>Handlers-cleaners</td>\n",
       "      <td>Not-in-family</td>\n",
       "      <td>White</td>\n",
       "      <td>Male</td>\n",
       "      <td>0</td>\n",
       "      <td>0</td>\n",
       "      <td>40</td>\n",
       "      <td>United-States</td>\n",
       "      <td>&lt;=50K</td>\n",
       "      <td>30</td>\n",
       "      <td>True</td>\n",
       "      <td>True</td>\n",
       "      <td>neutral-capital</td>\n",
       "    </tr>\n",
       "    <tr>\n",
       "      <th>3</th>\n",
       "      <td>53</td>\n",
       "      <td>Private</td>\n",
       "      <td>234721</td>\n",
       "      <td>11th</td>\n",
       "      <td>7</td>\n",
       "      <td>Married-civ-spouse</td>\n",
       "      <td>Handlers-cleaners</td>\n",
       "      <td>Husband</td>\n",
       "      <td>Black</td>\n",
       "      <td>Male</td>\n",
       "      <td>0</td>\n",
       "      <td>0</td>\n",
       "      <td>40</td>\n",
       "      <td>United-States</td>\n",
       "      <td>&lt;=50K</td>\n",
       "      <td>50</td>\n",
       "      <td>False</td>\n",
       "      <td>False</td>\n",
       "      <td>neutral-capital</td>\n",
       "    </tr>\n",
       "    <tr>\n",
       "      <th>4</th>\n",
       "      <td>28</td>\n",
       "      <td>Private</td>\n",
       "      <td>338409</td>\n",
       "      <td>Bachelors</td>\n",
       "      <td>13</td>\n",
       "      <td>Married-civ-spouse</td>\n",
       "      <td>Prof-specialty</td>\n",
       "      <td>Wife</td>\n",
       "      <td>Black</td>\n",
       "      <td>Female</td>\n",
       "      <td>0</td>\n",
       "      <td>0</td>\n",
       "      <td>40</td>\n",
       "      <td>Cuba</td>\n",
       "      <td>&lt;=50K</td>\n",
       "      <td>20</td>\n",
       "      <td>False</td>\n",
       "      <td>False</td>\n",
       "      <td>neutral-capital</td>\n",
       "    </tr>\n",
       "  </tbody>\n",
       "</table>\n",
       "</div>"
      ],
      "text/plain": [
       "   age         workclass  fnlwgt  education  education-num  \\\n",
       "0   39         State-gov   77516  Bachelors             13   \n",
       "1   50  Self-emp-not-inc   83311  Bachelors             13   \n",
       "2   38           Private  215646    HS-grad              9   \n",
       "3   53           Private  234721       11th              7   \n",
       "4   28           Private  338409  Bachelors             13   \n",
       "\n",
       "       marital-status         occupation   relationship   race     sex  \\\n",
       "0       Never-married       Adm-clerical  Not-in-family  White    Male   \n",
       "1  Married-civ-spouse    Exec-managerial        Husband  White    Male   \n",
       "2            Divorced  Handlers-cleaners  Not-in-family  White    Male   \n",
       "3  Married-civ-spouse  Handlers-cleaners        Husband  Black    Male   \n",
       "4  Married-civ-spouse     Prof-specialty           Wife  Black  Female   \n",
       "\n",
       "   capital-gain  capital-loss  hours-per-week native-country  class  \\\n",
       "0          2174             0              40  United-States  <=50K   \n",
       "1             0             0              13  United-States  <=50K   \n",
       "2             0             0              40  United-States  <=50K   \n",
       "3             0             0              40  United-States  <=50K   \n",
       "4             0             0              40           Cuba  <=50K   \n",
       "\n",
       "   age_group  is_white  is_white_again   capital_status  \n",
       "0         30      True            True      capital-win  \n",
       "1         50      True            True  neutral-capital  \n",
       "2         30      True            True  neutral-capital  \n",
       "3         50     False           False  neutral-capital  \n",
       "4         20     False           False  neutral-capital  "
      ]
     },
     "execution_count": 72,
     "metadata": {},
     "output_type": "execute_result"
    }
   ],
   "source": [
    "df[\"capital_status\"] = [\"capital-win\" if win > 0 else \"capital-loss\" if loss > 0 else \"neutral-capital\"\n",
    "                        for win, loss in df[[\"capital-gain\", \"capital-loss\"]].itertuples(index=False)]\n",
    "\n",
    "df.head()"
   ]
  },
  {
   "cell_type": "code",
   "execution_count": null,
   "metadata": {},
   "outputs": [],
   "source": [
    "df[df['capital_status'] == 'capital-loss']"
   ]
  },
  {
   "cell_type": "markdown",
   "metadata": {
    "id": "8MaiUUJwDptw"
   },
   "source": [
    "### The apply function"
   ]
  },
  {
   "cell_type": "markdown",
   "metadata": {
    "id": "zOYbLAvkDptw"
   },
   "source": [
    "Apply a function along an axis of the DataFrame. You can use .apply to send a single column to a function. This is useful when cleaning up data - converting formats, altering values etc. (http://jonathansoma.com/lede/foundations/classes/pandas%20columns%20and%20functions/apply-a-function-to-every-row-in-a-pandas-dataframe/)"
   ]
  },
  {
   "cell_type": "code",
   "execution_count": null,
   "metadata": {
    "executionInfo": {
     "elapsed": 56,
     "status": "aborted",
     "timestamp": 1696798565884,
     "user": {
      "displayName": "Indira Sen",
      "userId": "11191672663586892835"
     },
     "user_tz": -120
    },
    "id": "YrsG6LgrDptw"
   },
   "outputs": [],
   "source": [
    "df2 = df[[\"age\", \"sex\", \"workclass\"]]\n",
    "df2.head(10)"
   ]
  },
  {
   "cell_type": "code",
   "execution_count": null,
   "metadata": {},
   "outputs": [],
   "source": [
    "df2['workclass'].unique()"
   ]
  },
  {
   "cell_type": "code",
   "execution_count": null,
   "metadata": {},
   "outputs": [],
   "source": [
    "df2['workclass'].value_counts()"
   ]
  },
  {
   "cell_type": "code",
   "execution_count": null,
   "metadata": {},
   "outputs": [],
   "source": [
    "df2"
   ]
  },
  {
   "cell_type": "code",
   "execution_count": null,
   "metadata": {},
   "outputs": [],
   "source": [
    "df2.loc[0]"
   ]
  },
  {
   "cell_type": "code",
   "execution_count": null,
   "metadata": {},
   "outputs": [],
   "source": [
    "df2.loc[0]"
   ]
  },
  {
   "cell_type": "code",
   "execution_count": null,
   "metadata": {
    "executionInfo": {
     "elapsed": 55,
     "status": "aborted",
     "timestamp": 1696798565884,
     "user": {
      "displayName": "Indira Sen",
      "userId": "11191672663586892835"
     },
     "user_tz": -120
    },
    "id": "JExl4vEmDptw",
    "scrolled": true
   },
   "outputs": [],
   "source": [
    "### We can also use apply on a single column:\n",
    "def my_function (row):\n",
    "    if row['workclass'] is np.NaN:\n",
    "        return \"Unknown\"\n",
    "    elif \"State\" in row['workclass']:\n",
    "    # elif row['workclass'] == \"State-gov\":\n",
    "        return \"official\"\n",
    "    else:\n",
    "        return \"other\"\n",
    "    \n",
    "def my_function2 (row):\n",
    "    if '3' in str(row['age']):\n",
    "        return \"you're not old enough!\"\n",
    "    else:\n",
    "        return \"other\""
   ]
  },
  {
   "cell_type": "code",
   "execution_count": null,
   "metadata": {},
   "outputs": [],
   "source": [
    "my_function2(df2.loc[0])"
   ]
  },
  {
   "cell_type": "code",
   "execution_count": null,
   "metadata": {
    "executionInfo": {
     "elapsed": 54,
     "status": "aborted",
     "timestamp": 1696798565884,
     "user": {
      "displayName": "Indira Sen",
      "userId": "11191672663586892835"
     },
     "user_tz": -120
    },
    "id": "NV5FIujLDptw"
   },
   "outputs": [],
   "source": [
    "my_function(df2.loc[0])"
   ]
  },
  {
   "cell_type": "code",
   "execution_count": null,
   "metadata": {},
   "outputs": [],
   "source": [
    "df2.apply(my_function, axis=1)"
   ]
  },
  {
   "cell_type": "code",
   "execution_count": null,
   "metadata": {
    "executionInfo": {
     "elapsed": 55,
     "status": "aborted",
     "timestamp": 1696798565885,
     "user": {
      "displayName": "Indira Sen",
      "userId": "11191672663586892835"
     },
     "user_tz": -120
    },
    "id": "F8bcpQD6Dptw"
   },
   "outputs": [],
   "source": [
    "#Apply a function along an axis of the DataFrame.\n",
    "#Objects passed to the function are Series objects whose index\n",
    "#is either the DataFrame’s index (axis=0) or the DataFrame’s columns (axis=1).\n",
    "\n",
    "df2[\"course_workclass\"] = df2.apply(my_function, axis=1)\n",
    "df2.head()"
   ]
  },
  {
   "cell_type": "code",
   "execution_count": null,
   "metadata": {
    "executionInfo": {
     "elapsed": 54,
     "status": "aborted",
     "timestamp": 1696798565885,
     "user": {
      "displayName": "Indira Sen",
      "userId": "11191672663586892835"
     },
     "user_tz": -120
    },
    "id": "6iD2xr47Dptx"
   },
   "outputs": [],
   "source": [
    "def my_function_2(row):\n",
    "    if row[\"workclass\"] is np.NaN:\n",
    "        return \"Unknown\"\n",
    "    if (row[\"age\"] < 30) or (\"State\" in row[\"workclass\"]):\n",
    "        return \"Young or official\"\n",
    "    elif (row[\"sex\"] == \"Male\"):\n",
    "        return \"Male\"\n",
    "    else:\n",
    "        return 'Unknown'\n",
    "\n",
    "df2[\"my_val_2\"] = df2.apply(my_function_2, axis = 1)\n",
    "df2.head()"
   ]
  },
  {
   "cell_type": "code",
   "execution_count": null,
   "metadata": {},
   "outputs": [],
   "source": [
    "list1 = [1, 2,3 ,4, 5]\n",
    "sum(list1)/len(list1)"
   ]
  },
  {
   "cell_type": "markdown",
   "metadata": {
    "id": "5v4lEcqKDptx"
   },
   "source": [
    "## Handling missing values"
   ]
  },
  {
   "cell_type": "markdown",
   "metadata": {
    "id": "H0v8T_VUDptx"
   },
   "source": [
    "Useful reading: https://jakevdp.github.io/PythonDataScienceHandbook/03.04-missing-values.html"
   ]
  },
  {
   "cell_type": "code",
   "execution_count": null,
   "metadata": {
    "executionInfo": {
     "elapsed": 53,
     "status": "aborted",
     "timestamp": 1696798565885,
     "user": {
      "displayName": "Indira Sen",
      "userId": "11191672663586892835"
     },
     "user_tz": -120
    },
    "id": "9ZQjMEZnDptx"
   },
   "outputs": [],
   "source": [
    "## lets create a small artficial dataset\n",
    "# missing data representation -- NaN (acronym for Not a Number) is a special floating-point value recognized by all systems that use the standard IEEE floating-point representation\n",
    "data = [[1, np.nan,3,4], [2, 3,4,np.nan], [np.nan,10,11,12], [4, 14,'b', 16], [5, 1,2,3]]\n",
    "df2 = pd.DataFrame(data, columns=[\"i\", \"c1\", \"c2\", \"c3\"])\n",
    "#df2.dtype\n",
    "df2"
   ]
  },
  {
   "cell_type": "code",
   "execution_count": null,
   "metadata": {},
   "outputs": [],
   "source": [
    "sum([4, 12, 16, 3]) / 4"
   ]
  },
  {
   "cell_type": "code",
   "execution_count": null,
   "metadata": {},
   "outputs": [],
   "source": [
    "sum([4, 0, 12, 16, 3]) / 5"
   ]
  },
  {
   "cell_type": "code",
   "execution_count": null,
   "metadata": {
    "executionInfo": {
     "elapsed": 52,
     "status": "aborted",
     "timestamp": 1696798565885,
     "user": {
      "displayName": "Indira Sen",
      "userId": "11191672663586892835"
     },
     "user_tz": -120
    },
    "id": "df29-LuIDptx"
   },
   "outputs": [],
   "source": [
    "df2.c3.sum() / len(df2)"
   ]
  },
  {
   "cell_type": "code",
   "execution_count": null,
   "metadata": {},
   "outputs": [],
   "source": [
    "df2.c3.mean()"
   ]
  },
  {
   "cell_type": "code",
   "execution_count": null,
   "metadata": {},
   "outputs": [],
   "source": [
    "df2"
   ]
  },
  {
   "cell_type": "code",
   "execution_count": null,
   "metadata": {
    "executionInfo": {
     "elapsed": 52,
     "status": "aborted",
     "timestamp": 1696798565885,
     "user": {
      "displayName": "Indira Sen",
      "userId": "11191672663586892835"
     },
     "user_tz": -120
    },
    "id": "AMA9zR03Dptx"
   },
   "outputs": [],
   "source": [
    "df2.dropna()"
   ]
  },
  {
   "cell_type": "code",
   "execution_count": null,
   "metadata": {},
   "outputs": [],
   "source": [
    "df2"
   ]
  },
  {
   "cell_type": "code",
   "execution_count": null,
   "metadata": {
    "executionInfo": {
     "elapsed": 52,
     "status": "aborted",
     "timestamp": 1696798565886,
     "user": {
      "displayName": "Indira Sen",
      "userId": "11191672663586892835"
     },
     "user_tz": -120
    },
    "id": "JTRgPKXpDptx"
   },
   "outputs": [],
   "source": [
    "df2.dropna(subset=[\"c3\"])"
   ]
  },
  {
   "cell_type": "code",
   "execution_count": null,
   "metadata": {},
   "outputs": [],
   "source": [
    "df2"
   ]
  },
  {
   "cell_type": "code",
   "execution_count": null,
   "metadata": {
    "executionInfo": {
     "elapsed": 51,
     "status": "aborted",
     "timestamp": 1696798565886,
     "user": {
      "displayName": "Indira Sen",
      "userId": "11191672663586892835"
     },
     "user_tz": -120
    },
    "id": "euLLYmSZDpty",
    "scrolled": true
   },
   "outputs": [],
   "source": [
    "df2.dropna(axis=1)"
   ]
  },
  {
   "cell_type": "code",
   "execution_count": null,
   "metadata": {
    "executionInfo": {
     "elapsed": 51,
     "status": "aborted",
     "timestamp": 1696798565886,
     "user": {
      "displayName": "Indira Sen",
      "userId": "11191672663586892835"
     },
     "user_tz": -120
    },
    "id": "reFOciW4Dpty"
   },
   "outputs": [],
   "source": [
    "df2"
   ]
  },
  {
   "cell_type": "code",
   "execution_count": null,
   "metadata": {
    "executionInfo": {
     "elapsed": 50,
     "status": "aborted",
     "timestamp": 1696798565886,
     "user": {
      "displayName": "Indira Sen",
      "userId": "11191672663586892835"
     },
     "user_tz": -120
    },
    "id": "4AveIZzVDpty"
   },
   "outputs": [],
   "source": [
    "df2"
   ]
  },
  {
   "cell_type": "code",
   "execution_count": null,
   "metadata": {
    "executionInfo": {
     "elapsed": 49,
     "status": "aborted",
     "timestamp": 1696798565886,
     "user": {
      "displayName": "Indira Sen",
      "userId": "11191672663586892835"
     },
     "user_tz": -120
    },
    "id": "Dj_TG93MDpt5"
   },
   "outputs": [],
   "source": [
    "df2.c3.fillna(df2.c2)"
   ]
  },
  {
   "cell_type": "code",
   "execution_count": null,
   "metadata": {
    "executionInfo": {
     "elapsed": 50,
     "status": "aborted",
     "timestamp": 1696798565887,
     "user": {
      "displayName": "Indira Sen",
      "userId": "11191672663586892835"
     },
     "user_tz": -120
    },
    "id": "byHaS0ytDpt5"
   },
   "outputs": [],
   "source": [
    "df2"
   ]
  },
  {
   "cell_type": "code",
   "execution_count": null,
   "metadata": {
    "executionInfo": {
     "elapsed": 49,
     "status": "aborted",
     "timestamp": 1696798565887,
     "user": {
      "displayName": "Indira Sen",
      "userId": "11191672663586892835"
     },
     "user_tz": -120
    },
    "id": "sa4pAqiNDpt5"
   },
   "outputs": [],
   "source": [
    "#{‘backfill’, ‘bfill’, ‘pad’, ‘ffill’, None}, default None\n",
    "#Method to use for filling holes in reindexed Series\n",
    "#pad / ffill: propagate last valid observation forward to next valid\n",
    "#backfill / bfill: use NEXT valid observation to fill gap\n",
    "\n",
    "df2.fillna(method=\"ffill\")"
   ]
  },
  {
   "cell_type": "code",
   "execution_count": null,
   "metadata": {
    "executionInfo": {
     "elapsed": 48,
     "status": "aborted",
     "timestamp": 1696798565887,
     "user": {
      "displayName": "Indira Sen",
      "userId": "11191672663586892835"
     },
     "user_tz": -120
    },
    "id": "Xz7Asw07Dpt6"
   },
   "outputs": [],
   "source": [
    "df2.fillna(method=\"bfill\")"
   ]
  },
  {
   "cell_type": "code",
   "execution_count": null,
   "metadata": {
    "executionInfo": {
     "elapsed": 49,
     "status": "aborted",
     "timestamp": 1696798565888,
     "user": {
      "displayName": "Indira Sen",
      "userId": "11191672663586892835"
     },
     "user_tz": -120
    },
    "id": "2NGDdcw-Dpt6"
   },
   "outputs": [],
   "source": [
    "# Lets go back to our main dataset:\n",
    "# The count function counts only non-missing values:\n",
    "df.count()"
   ]
  },
  {
   "cell_type": "code",
   "execution_count": null,
   "metadata": {
    "executionInfo": {
     "elapsed": 48,
     "status": "aborted",
     "timestamp": 1696798565888,
     "user": {
      "displayName": "Indira Sen",
      "userId": "11191672663586892835"
     },
     "user_tz": -120
    },
    "id": "qCKd_pLFDpt6",
    "scrolled": true
   },
   "outputs": [],
   "source": [
    "len(df) - df.count()"
   ]
  },
  {
   "cell_type": "code",
   "execution_count": null,
   "metadata": {
    "executionInfo": {
     "elapsed": 50,
     "status": "aborted",
     "timestamp": 1696798565890,
     "user": {
      "displayName": "Indira Sen",
      "userId": "11191672663586892835"
     },
     "user_tz": -120
    },
    "id": "bMoEc6nvDpt6"
   },
   "outputs": [],
   "source": [
    "#show the respective instances:\n",
    "df [df[\"workclass\"].isnull()]"
   ]
  },
  {
   "cell_type": "code",
   "execution_count": null,
   "metadata": {
    "executionInfo": {
     "elapsed": 1861,
     "status": "aborted",
     "timestamp": 1696798565891,
     "user": {
      "displayName": "Indira Sen",
      "userId": "11191672663586892835"
     },
     "user_tz": -120
    },
    "id": "J_t3GywsDpt6"
   },
   "outputs": [],
   "source": [
    "df2 = df.dropna()\n",
    "len(df2)"
   ]
  },
  {
   "cell_type": "code",
   "execution_count": null,
   "metadata": {
    "executionInfo": {
     "elapsed": 1860,
     "status": "aborted",
     "timestamp": 1696798565891,
     "user": {
      "displayName": "Indira Sen",
      "userId": "11191672663586892835"
     },
     "user_tz": -120
    },
    "id": "ahSldo_MDpt6"
   },
   "outputs": [],
   "source": [
    "len(df)"
   ]
  },
  {
   "cell_type": "code",
   "execution_count": null,
   "metadata": {
    "executionInfo": {
     "elapsed": 1860,
     "status": "aborted",
     "timestamp": 1696798565891,
     "user": {
      "displayName": "Indira Sen",
      "userId": "11191672663586892835"
     },
     "user_tz": -120
    },
    "id": "3gMtJKW9Dpt6"
   },
   "outputs": [],
   "source": [
    "df3 = df.fillna('')\n",
    "df3.loc[20:30]"
   ]
  },
  {
   "cell_type": "markdown",
   "metadata": {
    "id": "XuLDfbFjDpt7"
   },
   "source": [
    "## Group-by"
   ]
  },
  {
   "cell_type": "markdown",
   "metadata": {
    "id": "9ejierwwDpt7"
   },
   "source": [
    "By “group by” we are referring to a process involving one or more of the following steps:\n",
    "\n",
    "    - Splitting the data into groups based on some criteria.\n",
    "    - Applying a function to each group independently.\n",
    "    - Combining the results into a data structure.\n",
    "\n",
    "More: https://pandas.pydata.org/pandas-docs/stable/user_guide/groupby.html"
   ]
  },
  {
   "cell_type": "code",
   "execution_count": null,
   "metadata": {
    "executionInfo": {
     "elapsed": 1860,
     "status": "aborted",
     "timestamp": 1696798565892,
     "user": {
      "displayName": "Indira Sen",
      "userId": "11191672663586892835"
     },
     "user_tz": -120
    },
    "id": "GkbsPmItDpt7"
   },
   "outputs": [],
   "source": [
    "df.head()"
   ]
  },
  {
   "cell_type": "code",
   "execution_count": null,
   "metadata": {
    "executionInfo": {
     "elapsed": 1860,
     "status": "aborted",
     "timestamp": 1696798565892,
     "user": {
      "displayName": "Indira Sen",
      "userId": "11191672663586892835"
     },
     "user_tz": -120
    },
    "id": "BGUA2SM5Dpt7"
   },
   "outputs": [],
   "source": [
    "df.head().groupby([\"sex\"])"
   ]
  },
  {
   "cell_type": "code",
   "execution_count": null,
   "metadata": {
    "executionInfo": {
     "elapsed": 1859,
     "status": "aborted",
     "timestamp": 1696798565892,
     "user": {
      "displayName": "Indira Sen",
      "userId": "11191672663586892835"
     },
     "user_tz": -120
    },
    "id": "MFPrq5yXDpt7"
   },
   "outputs": [],
   "source": [
    "for name, group in df.head().groupby([\"sex\"]):\n",
    "    print (name)\n",
    "    print (group)\n",
    "    print (type(group))\n",
    "    print('--------------------------------------------------------------')"
   ]
  },
  {
   "cell_type": "code",
   "execution_count": null,
   "metadata": {},
   "outputs": [],
   "source": [
    "number_df = df[['sex', 'age', 'education-num', 'capital-gain']]"
   ]
  },
  {
   "cell_type": "code",
   "execution_count": null,
   "metadata": {
    "executionInfo": {
     "elapsed": 1860,
     "status": "aborted",
     "timestamp": 1696798565893,
     "user": {
      "displayName": "Indira Sen",
      "userId": "11191672663586892835"
     },
     "user_tz": -120
    },
    "id": "FYinM80fDpt7"
   },
   "outputs": [],
   "source": [
    "g = number_df.groupby([\"sex\"])\n",
    "g.size()"
   ]
  },
  {
   "cell_type": "code",
   "execution_count": null,
   "metadata": {},
   "outputs": [],
   "source": [
    "g.size().sum()"
   ]
  },
  {
   "cell_type": "code",
   "execution_count": null,
   "metadata": {
    "executionInfo": {
     "elapsed": 1860,
     "status": "aborted",
     "timestamp": 1696798565893,
     "user": {
      "displayName": "Indira Sen",
      "userId": "11191672663586892835"
     },
     "user_tz": -120
    },
    "id": "jdu1Ce3FDpt7"
   },
   "outputs": [],
   "source": [
    "df[\"sex\"].value_counts()"
   ]
  },
  {
   "cell_type": "code",
   "execution_count": null,
   "metadata": {
    "executionInfo": {
     "elapsed": 1860,
     "status": "aborted",
     "timestamp": 1696798565894,
     "user": {
      "displayName": "Indira Sen",
      "userId": "11191672663586892835"
     },
     "user_tz": -120
    },
    "id": "6W0GsU0UDpt8"
   },
   "outputs": [],
   "source": [
    "g.mean()#[\"age\"]"
   ]
  },
  {
   "cell_type": "code",
   "execution_count": null,
   "metadata": {
    "executionInfo": {
     "elapsed": 1860,
     "status": "aborted",
     "timestamp": 1696798565895,
     "user": {
      "displayName": "Indira Sen",
      "userId": "11191672663586892835"
     },
     "user_tz": -120
    },
    "id": "gpx2YW9oDpt8"
   },
   "outputs": [],
   "source": [
    "g.mean().loc[\"Male\"]"
   ]
  },
  {
   "cell_type": "markdown",
   "metadata": {
    "id": "4zBMvQchDpt8"
   },
   "source": [
    "We can also group by multiple attributes:"
   ]
  },
  {
   "cell_type": "code",
   "execution_count": null,
   "metadata": {
    "executionInfo": {
     "elapsed": 1860,
     "status": "aborted",
     "timestamp": 1696798565895,
     "user": {
      "displayName": "Indira Sen",
      "userId": "11191672663586892835"
     },
     "user_tz": -120
    },
    "id": "1mhKRvVvDpt8"
   },
   "outputs": [],
   "source": [
    "number_df = df[['sex', 'race', 'age', 'education-num', 'capital-gain']]\n",
    "g = number_df.groupby([\"sex\",\"race\"]).mean()\n",
    "g"
   ]
  },
  {
   "cell_type": "code",
   "execution_count": null,
   "metadata": {
    "executionInfo": {
     "elapsed": 1861,
     "status": "aborted",
     "timestamp": 1696798565896,
     "user": {
      "displayName": "Indira Sen",
      "userId": "11191672663586892835"
     },
     "user_tz": -120
    },
    "id": "xdUZ9s_kDpt9",
    "scrolled": true
   },
   "outputs": [],
   "source": [
    "g.loc[\"Male\"]"
   ]
  },
  {
   "cell_type": "code",
   "execution_count": null,
   "metadata": {
    "executionInfo": {
     "elapsed": 1860,
     "status": "aborted",
     "timestamp": 1696798565896,
     "user": {
      "displayName": "Indira Sen",
      "userId": "11191672663586892835"
     },
     "user_tz": -120
    },
    "id": "4Xwny-SyDpt9"
   },
   "outputs": [],
   "source": [
    "g.loc[\"Male\"].loc[\"White\"]"
   ]
  },
  {
   "cell_type": "code",
   "execution_count": null,
   "metadata": {
    "executionInfo": {
     "elapsed": 1861,
     "status": "aborted",
     "timestamp": 1696798565897,
     "user": {
      "displayName": "Indira Sen",
      "userId": "11191672663586892835"
     },
     "user_tz": -120
    },
    "id": "iidhMgtbDpt9",
    "scrolled": true
   },
   "outputs": [],
   "source": [
    "g = df.groupby([\"sex\",\"race\", \"education\"]).size()\n",
    "g"
   ]
  },
  {
   "cell_type": "code",
   "execution_count": null,
   "metadata": {
    "executionInfo": {
     "elapsed": 1860,
     "status": "aborted",
     "timestamp": 1696798565897,
     "user": {
      "displayName": "Indira Sen",
      "userId": "11191672663586892835"
     },
     "user_tz": -120
    },
    "id": "Q7MaBFOlDpt9"
   },
   "outputs": [],
   "source": [
    "#  Pivot a level of the (necessarily hierarchical) index labels,\n",
    "# returning a DataFrame having a new level of column labels whose\n",
    "#inner-most level consists of the pivoted index labels.\n",
    "\n",
    "print(g.unstack().to_markdown())"
   ]
  },
  {
   "cell_type": "code",
   "execution_count": null,
   "metadata": {
    "executionInfo": {
     "elapsed": 1861,
     "status": "aborted",
     "timestamp": 1696798565898,
     "user": {
      "displayName": "Indira Sen",
      "userId": "11191672663586892835"
     },
     "user_tz": -120
    },
    "id": "LjYyZ7xIDpt9"
   },
   "outputs": [],
   "source": [
    "g.unstack ([\"race\",\"sex\"])"
   ]
  },
  {
   "cell_type": "markdown",
   "metadata": {
    "id": "Q0rudssZDpt9"
   },
   "source": [
    "## Ex 1\n",
    "\n",
    "Use Census data, aka, adult.csv\n",
    "\n",
    "A. Show for each combination of sex and race, how many instances(people) are contained in the dataset\n",
    "\n",
    "B. What is the mean age of men and women in this dataset?\n",
    "\n",
    "C. Show for each combination of marital-Status and race, how many males/females over 40 years have a bachelor degree as their highest degree?"
   ]
  },
  {
   "cell_type": "code",
   "execution_count": null,
   "metadata": {},
   "outputs": [],
   "source": [
    "print(\"A Use Census data\")\n",
    "\n",
    "\n",
    "df = pd.read_csv (\"data/adult.csv\", na_values=\"?\")\n",
    "df.head()\n",
    "\n",
    "print(\"A. Show for each combination of sex and race, how many instances(people) are contained in the dataset\")\n",
    "\n",
    "df.groupby(['sex', 'race']).size().unstack()\n",
    "\n",
    "print(\"B. What is the mean age of men and women in this dataset?\")\n",
    "\n",
    "g = df[['sex','age']].groupby('sex')\n",
    "g.mean()['age']\n",
    "\n",
    "print(\"C. Show for each combination of marital-Status and race how many males/females over 40 years have a bachelor degree as their highest degree?\")\n",
    "\n",
    "df = df[(df['age']>40) & (df['education'] == 'Bachelors')].groupby(['marital-status', 'race', 'sex']).size().unstack().fillna(0)\n",
    "df\n"
   ]
  },
  {
   "cell_type": "code",
   "execution_count": null,
   "metadata": {
    "executionInfo": {
     "elapsed": 1860,
     "status": "aborted",
     "timestamp": 1696798565898,
     "user": {
      "displayName": "Indira Sen",
      "userId": "11191672663586892835"
     },
     "user_tz": -120
    },
    "id": "ESzEZdnCDpt9"
   },
   "outputs": [],
   "source": [
    "print(\"A Use Census data\")\n",
    "\n",
    "\n",
    "df = pd.read_csv (\"data/adult.csv\", na_values=\"?\")\n",
    "df.head()\n",
    "\n",
    "print(\"A. Show for each combination of sex and race, how many instances(people) are contained in the dataset\")\n",
    "\n",
    "\n",
    "df.groupby([\"sex\", \"race\"]).size().unstack()\n",
    "\n",
    "print(\"B. What is the mean age of men and women in this dataset?\")\n",
    "\n",
    "\n",
    "g = df[['sex', 'age']].groupby(\"sex\")\n",
    "g.mean()[\"age\"]\n",
    "\n",
    "print(\"C. Show for each combination of marital-Status and race how many males/females over 40 years have a bachelor degree as their highest degree?\")\n",
    "\n",
    "\n",
    "df2 = df[(df[\"age\"] > 40) & (df[\"education\"] ==\"Bachelors\")]\n",
    "df2.groupby([\"marital-status\",\"race\",\"sex\"]).size().unstack().fillna(0)"
   ]
  },
  {
   "cell_type": "markdown",
   "metadata": {
    "id": "4KKdhQRvDpt-"
   },
   "source": [
    "## Concatenate and join"
   ]
  },
  {
   "cell_type": "markdown",
   "metadata": {
    "id": "vGLA9SBvDpt-"
   },
   "source": [
    "There several methods to bring data from different dataset together, most importantly *concat* and *merge*"
   ]
  },
  {
   "cell_type": "code",
   "execution_count": null,
   "metadata": {
    "executionInfo": {
     "elapsed": 1860,
     "status": "aborted",
     "timestamp": 1696798565900,
     "user": {
      "displayName": "Indira Sen",
      "userId": "11191672663586892835"
     },
     "user_tz": -120
    },
    "id": "kY-2TeJRDpt-"
   },
   "outputs": [],
   "source": [
    "df1 = pd.DataFrame ([[\"Student 1\", 2.0, 1.5],\n",
    "                     [\"Student 2\", 3.0, 2.5],\n",
    "                     [\"Student 3\", 1.5, 2.0],\n",
    "                     [\"Student 4\", 1.0, 4.0]],columns = [\"Student\", \"course_A\", \"course_B\"])\n",
    "df1"
   ]
  },
  {
   "cell_type": "code",
   "execution_count": null,
   "metadata": {
    "executionInfo": {
     "elapsed": 1859,
     "status": "aborted",
     "timestamp": 1696798565900,
     "user": {
      "displayName": "Indira Sen",
      "userId": "11191672663586892835"
     },
     "user_tz": -120
    },
    "id": "Sdw5N4ZsDpt-"
   },
   "outputs": [],
   "source": [
    "df2 = pd.DataFrame ([[\"Student 5\", 2.3, 2.5],\n",
    "                     [\"Student 6\", 3.0, 1.0],\n",
    "                     [\"Student 7\", 2.5, 2.0],\n",
    "                     [\"Student 8\", 1.7, 3.5]],columns = [\"Student\", \"course_A\", \"course_B\"])\n",
    "df2"
   ]
  },
  {
   "cell_type": "code",
   "execution_count": null,
   "metadata": {
    "executionInfo": {
     "elapsed": 1860,
     "status": "aborted",
     "timestamp": 1696798565901,
     "user": {
      "displayName": "Indira Sen",
      "userId": "11191672663586892835"
     },
     "user_tz": -120
    },
    "id": "_dt_j1YiDpt_",
    "scrolled": true
   },
   "outputs": [],
   "source": [
    "df_all = pd.concat ([df1,df2])\n",
    "df_all"
   ]
  },
  {
   "cell_type": "code",
   "execution_count": null,
   "metadata": {
    "executionInfo": {
     "elapsed": 1859,
     "status": "aborted",
     "timestamp": 1696798565901,
     "user": {
      "displayName": "Indira Sen",
      "userId": "11191672663586892835"
     },
     "user_tz": -120
    },
    "id": "n_BRbs8hDpt_",
    "scrolled": true
   },
   "outputs": [],
   "source": [
    "df_all.reset_index(drop=True,inplace=True)\n",
    "df_all"
   ]
  },
  {
   "cell_type": "code",
   "execution_count": null,
   "metadata": {
    "executionInfo": {
     "elapsed": 1860,
     "status": "aborted",
     "timestamp": 1696798565902,
     "user": {
      "displayName": "Indira Sen",
      "userId": "11191672663586892835"
     },
     "user_tz": -120
    },
    "id": "I7aT2Oj1Dpt_"
   },
   "outputs": [],
   "source": [
    "df_ab = pd.concat([df1, df2], ignore_index=True)\n",
    "df_ab"
   ]
  },
  {
   "cell_type": "code",
   "execution_count": null,
   "metadata": {
    "executionInfo": {
     "elapsed": 1859,
     "status": "aborted",
     "timestamp": 1696798565902,
     "user": {
      "displayName": "Indira Sen",
      "userId": "11191672663586892835"
     },
     "user_tz": -120
    },
    "id": "cf7Ow10SDpt_",
    "scrolled": true
   },
   "outputs": [],
   "source": [
    "df3 = pd.DataFrame ([[\"Student 1\", 1.3],\n",
    "                     [\"Student 2\", 2.3],\n",
    "                     [\"Student 5\", 4.0],\n",
    "                     [\"Student 8\", 1.5],\n",
    "                     [\"Student 10\", 1.5]\n",
    "                    ],columns = [\"Student\", \"course_C\"])\n",
    "df3"
   ]
  },
  {
   "cell_type": "code",
   "execution_count": null,
   "metadata": {},
   "outputs": [],
   "source": [
    "df_ab"
   ]
  },
  {
   "cell_type": "code",
   "execution_count": null,
   "metadata": {
    "executionInfo": {
     "elapsed": 1860,
     "status": "aborted",
     "timestamp": 1696798565903,
     "user": {
      "displayName": "Indira Sen",
      "userId": "11191672663586892835"
     },
     "user_tz": -120
    },
    "id": "1gZFZdh8Dpt_",
    "scrolled": true
   },
   "outputs": [],
   "source": [
    "# by default, inner join is performed.\n",
    "# use intersection of keys from both frames, similar to a SQL inner join;\n",
    "# preserve the order of the left keys.\n",
    "\n",
    "pd.merge (df_ab, df3, on=\"Student\") #, how=\"inner\""
   ]
  },
  {
   "cell_type": "markdown",
   "metadata": {
    "id": "NLXfBbP6Dpt_"
   },
   "source": [
    "This is called an \"inner\" join: only those rows occur that are present in both tables.\n"
   ]
  },
  {
   "cell_type": "code",
   "execution_count": null,
   "metadata": {
    "executionInfo": {
     "elapsed": 1860,
     "status": "aborted",
     "timestamp": 1696798565904,
     "user": {
      "displayName": "Indira Sen",
      "userId": "11191672663586892835"
     },
     "user_tz": -120
    },
    "id": "4JCuUsMsDpuA"
   },
   "outputs": [],
   "source": [
    "#\"Outer Join\"\n",
    "# use union of keys from both frames, similar to a SQL full outer join; sort keys lexicographically.\n",
    "pd.merge (df_ab, df3, on=\"Student\", how=\"outer\")"
   ]
  },
  {
   "cell_type": "code",
   "execution_count": null,
   "metadata": {},
   "outputs": [],
   "source": [
    "df_ab"
   ]
  },
  {
   "cell_type": "code",
   "execution_count": null,
   "metadata": {
    "executionInfo": {
     "elapsed": 1859,
     "status": "aborted",
     "timestamp": 1696798565903,
     "user": {
      "displayName": "Indira Sen",
      "userId": "11191672663586892835"
     },
     "user_tz": -120
    },
    "id": "NuTrGgGxDpt_"
   },
   "outputs": [],
   "source": [
    "#\"Left Join\"\n",
    "# use only keys from left frame, similar to a SQL left outer join; preserve key order.\n",
    "pd.merge (df_ab, df3, on=\"Student\", how=\"left\")"
   ]
  },
  {
   "cell_type": "code",
   "execution_count": null,
   "metadata": {},
   "outputs": [],
   "source": [
    "pd.merge (df3, df_ab, on=\"Student\", how=\"right\")"
   ]
  },
  {
   "cell_type": "code",
   "execution_count": null,
   "metadata": {
    "executionInfo": {
     "elapsed": 22,
     "status": "aborted",
     "timestamp": 1696798566613,
     "user": {
      "displayName": "Indira Sen",
      "userId": "11191672663586892835"
     },
     "user_tz": -120
    },
    "id": "NVJg1N6dDpuA"
   },
   "outputs": [],
   "source": [
    "# Left and right key do not need to have the same column name\n",
    "# left: use only keys from left frame, similar to a SQL left outer join; preserve key order.\n",
    "# right: use only keys from right frame, similar to a SQL right outer join; preserve key order.\n",
    "df4 = pd.DataFrame ([[\"Student 1\", 1.3],\n",
    "                     [\"Student 2\", 2.3],\n",
    "                     [\"Student 5\", 4.0],\n",
    "                     [\"Student 6\", 1.5],\n",
    "                     [\"Student 12\", 1.5]\n",
    "                    ],columns = [\"Student_name\", \"course_D\"])\n",
    "df4"
   ]
  },
  {
   "cell_type": "code",
   "execution_count": null,
   "metadata": {
    "executionInfo": {
     "elapsed": 22,
     "status": "aborted",
     "timestamp": 1696798566614,
     "user": {
      "displayName": "Indira Sen",
      "userId": "11191672663586892835"
     },
     "user_tz": -120
    },
    "id": "NfsEZQ9mDpuA"
   },
   "outputs": [],
   "source": [
    "df_ab"
   ]
  },
  {
   "cell_type": "code",
   "execution_count": null,
   "metadata": {
    "executionInfo": {
     "elapsed": 22,
     "status": "aborted",
     "timestamp": 1696798566614,
     "user": {
      "displayName": "Indira Sen",
      "userId": "11191672663586892835"
     },
     "user_tz": -120
    },
    "id": "-vK8e24HDpuA",
    "scrolled": true
   },
   "outputs": [],
   "source": [
    "df_abd = pd.merge (df_ab, df4, left_on=\"Student\", right_on=\"Student_name\", how=\"outer\")\n",
    "df_abd"
   ]
  },
  {
   "cell_type": "code",
   "execution_count": null,
   "metadata": {
    "executionInfo": {
     "elapsed": 23,
     "status": "aborted",
     "timestamp": 1696798566615,
     "user": {
      "displayName": "Indira Sen",
      "userId": "11191672663586892835"
     },
     "user_tz": -120
    },
    "id": "V4bBOGKpDpuA"
   },
   "outputs": [],
   "source": [
    "df_abd[\"Student\"] = df_abd[\"Student\"].fillna(df_abd[\"Student_name\"])\n",
    "df_abd"
   ]
  },
  {
   "cell_type": "code",
   "execution_count": null,
   "metadata": {
    "executionInfo": {
     "elapsed": 24,
     "status": "aborted",
     "timestamp": 1696798566616,
     "user": {
      "displayName": "Indira Sen",
      "userId": "11191672663586892835"
     },
     "user_tz": -120
    },
    "id": "Ock0OEg6DpuA",
    "scrolled": true
   },
   "outputs": [],
   "source": [
    "df_abd.drop(\"Student_name\", axis=1)"
   ]
  },
  {
   "cell_type": "code",
   "execution_count": null,
   "metadata": {
    "executionInfo": {
     "elapsed": 23,
     "status": "aborted",
     "timestamp": 1696798566616,
     "user": {
      "displayName": "Indira Sen",
      "userId": "11191672663586892835"
     },
     "user_tz": -120
    },
    "id": "9OhhfT6lDpuB"
   },
   "outputs": [],
   "source": [
    "# There can be more occurrences of a student in a table; then ALL combinations are formed.\n",
    "df5 = pd.DataFrame ([[\"Student 1\", 1.3],\n",
    "                     [\"Student 1\", 2.3],\n",
    "                     [\"Student 2\", 4.0],\n",
    "                     [\"Student 2\", 1.5],\n",
    "                     [\"Student 2\", 3.5]\n",
    "                    ],columns = [\"Student\", \"course_E\"])\n",
    "df5"
   ]
  },
  {
   "cell_type": "code",
   "execution_count": null,
   "metadata": {
    "executionInfo": {
     "elapsed": 24,
     "status": "aborted",
     "timestamp": 1696798566617,
     "user": {
      "displayName": "Indira Sen",
      "userId": "11191672663586892835"
     },
     "user_tz": -120
    },
    "id": "9E8LqFSbDpuB"
   },
   "outputs": [],
   "source": [
    "df1"
   ]
  },
  {
   "cell_type": "code",
   "execution_count": null,
   "metadata": {
    "executionInfo": {
     "elapsed": 24,
     "status": "aborted",
     "timestamp": 1696798566617,
     "user": {
      "displayName": "Indira Sen",
      "userId": "11191672663586892835"
     },
     "user_tz": -120
    },
    "id": "z9W1jcrDDpuB",
    "scrolled": true
   },
   "outputs": [],
   "source": [
    "df_abe = pd.merge(df1,df5,how = \"outer\")\n",
    "df_abe"
   ]
  },
  {
   "cell_type": "code",
   "execution_count": null,
   "metadata": {
    "executionInfo": {
     "elapsed": 24,
     "status": "aborted",
     "timestamp": 1696798566617,
     "user": {
      "displayName": "Indira Sen",
      "userId": "11191672663586892835"
     },
     "user_tz": -120
    },
    "id": "rDuqrFnxDpuB"
   },
   "outputs": [],
   "source": [
    "df_abe = df_abe.sort_values([\"Student\", \"course_E\"])\n",
    "df_abe"
   ]
  },
  {
   "cell_type": "code",
   "execution_count": null,
   "metadata": {
    "executionInfo": {
     "elapsed": 24,
     "status": "aborted",
     "timestamp": 1696798566617,
     "user": {
      "displayName": "Indira Sen",
      "userId": "11191672663586892835"
     },
     "user_tz": -120
    },
    "id": "sxOl0Y6KDpuB"
   },
   "outputs": [],
   "source": [
    "df_abe.drop_duplicates(\"Student\")\n",
    "\n",
    "#keep : {‘first’, ‘last’, False}, default ‘first’\n",
    "#first : Drop duplicates except for the first occurrence. (default)\n",
    "#last : Drop duplicates except for the last occurrence.\n",
    "#False : Drop all duplicates."
   ]
  },
  {
   "cell_type": "code",
   "execution_count": null,
   "metadata": {
    "executionInfo": {
     "elapsed": 24,
     "status": "aborted",
     "timestamp": 1696798566618,
     "user": {
      "displayName": "Indira Sen",
      "userId": "11191672663586892835"
     },
     "user_tz": -120
    },
    "id": "mgmHkF6iDpuB"
   },
   "outputs": [],
   "source": []
  },
  {
   "cell_type": "markdown",
   "metadata": {
    "id": "vmzwwCOuDpuB"
   },
   "source": [
    "## Working with specific data types"
   ]
  },
  {
   "cell_type": "markdown",
   "metadata": {
    "id": "tpfSSqGcDpuB"
   },
   "source": [
    "### String objects"
   ]
  },
  {
   "cell_type": "code",
   "execution_count": null,
   "metadata": {
    "executionInfo": {
     "elapsed": 24,
     "status": "aborted",
     "timestamp": 1696798566618,
     "user": {
      "displayName": "Indira Sen",
      "userId": "11191672663586892835"
     },
     "user_tz": -120
    },
    "id": "26vRkW0cDpuC"
   },
   "outputs": [],
   "source": [
    "df.head()\n",
    "df = pd.read_csv('data/adult.csv')\n",
    "df"
   ]
  },
  {
   "cell_type": "code",
   "execution_count": null,
   "metadata": {
    "executionInfo": {
     "elapsed": 24,
     "status": "aborted",
     "timestamp": 1696798566618,
     "user": {
      "displayName": "Indira Sen",
      "userId": "11191672663586892835"
     },
     "user_tz": -120
    },
    "id": "chAn8oIlDpuC",
    "scrolled": true
   },
   "outputs": [],
   "source": [
    "df ['marital-status'].unique()"
   ]
  },
  {
   "cell_type": "code",
   "execution_count": null,
   "metadata": {
    "executionInfo": {
     "elapsed": 25,
     "status": "aborted",
     "timestamp": 1696798566619,
     "user": {
      "displayName": "Indira Sen",
      "userId": "11191672663586892835"
     },
     "user_tz": -120
    },
    "id": "ONECaMvkDpuC",
    "scrolled": true
   },
   "outputs": [],
   "source": [
    "df ['marital-status'].value_counts()"
   ]
  },
  {
   "cell_type": "code",
   "execution_count": null,
   "metadata": {
    "executionInfo": {
     "elapsed": 25,
     "status": "aborted",
     "timestamp": 1696798566619,
     "user": {
      "displayName": "Indira Sen",
      "userId": "11191672663586892835"
     },
     "user_tz": -120
    },
    "id": "LMOHUWZDDpuC"
   },
   "outputs": [],
   "source": [
    "# Select those with a specific value\n",
    "df [df ['marital-status'] == \"Never-married\"].head()"
   ]
  },
  {
   "cell_type": "code",
   "execution_count": null,
   "metadata": {
    "executionInfo": {
     "elapsed": 26,
     "status": "aborted",
     "timestamp": 1696798566620,
     "user": {
      "displayName": "Indira Sen",
      "userId": "11191672663586892835"
     },
     "user_tz": -120
    },
    "id": "IXNylRelDpuC",
    "scrolled": true
   },
   "outputs": [],
   "source": [
    "# Try and select rows, in which the marital-status string begins with a certain value\n",
    "\n",
    "df ['marital-status'].str.startswith (\"Married\")"
   ]
  },
  {
   "cell_type": "code",
   "execution_count": null,
   "metadata": {
    "executionInfo": {
     "elapsed": 27,
     "status": "aborted",
     "timestamp": 1696798566621,
     "user": {
      "displayName": "Indira Sen",
      "userId": "11191672663586892835"
     },
     "user_tz": -120
    },
    "id": "yboy52dBDpuC"
   },
   "outputs": [],
   "source": [
    "df [df ['marital-status'].str.startswith (\"Married\")]"
   ]
  },
  {
   "cell_type": "markdown",
   "metadata": {
    "id": "0gyTv6p0DpuC"
   },
   "source": [
    "### Time objects"
   ]
  },
  {
   "cell_type": "code",
   "execution_count": null,
   "metadata": {
    "executionInfo": {
     "elapsed": 26,
     "status": "aborted",
     "timestamp": 1696798566621,
     "user": {
      "displayName": "Indira Sen",
      "userId": "11191672663586892835"
     },
     "user_tz": -120
    },
    "id": "QeW1eAKFDpuC"
   },
   "outputs": [],
   "source": [
    "df = pd.read_csv (\"data/weather.csv\")"
   ]
  },
  {
   "cell_type": "code",
   "execution_count": null,
   "metadata": {
    "executionInfo": {
     "elapsed": 27,
     "status": "aborted",
     "timestamp": 1696798566622,
     "user": {
      "displayName": "Indira Sen",
      "userId": "11191672663586892835"
     },
     "user_tz": -120
    },
    "id": "Qgfu7ObeDpuD"
   },
   "outputs": [],
   "source": [
    "df.head()"
   ]
  },
  {
   "cell_type": "code",
   "execution_count": null,
   "metadata": {
    "executionInfo": {
     "elapsed": 27,
     "status": "aborted",
     "timestamp": 1696798566622,
     "user": {
      "displayName": "Indira Sen",
      "userId": "11191672663586892835"
     },
     "user_tz": -120
    },
    "id": "K4B-vfdLDpuD"
   },
   "outputs": [],
   "source": [
    "df.dtypes"
   ]
  },
  {
   "cell_type": "code",
   "execution_count": null,
   "metadata": {
    "executionInfo": {
     "elapsed": 28,
     "status": "aborted",
     "timestamp": 1696798566623,
     "user": {
      "displayName": "Indira Sen",
      "userId": "11191672663586892835"
     },
     "user_tz": -120
    },
    "id": "bNcfZzBGDpuD"
   },
   "outputs": [],
   "source": [
    "df[\"time\"].head()"
   ]
  },
  {
   "cell_type": "code",
   "execution_count": null,
   "metadata": {},
   "outputs": [],
   "source": [
    "df['time'][0]"
   ]
  },
  {
   "cell_type": "code",
   "execution_count": null,
   "metadata": {
    "executionInfo": {
     "elapsed": 28,
     "status": "aborted",
     "timestamp": 1696798566623,
     "user": {
      "displayName": "Indira Sen",
      "userId": "11191672663586892835"
     },
     "user_tz": -120
    },
    "id": "ahcAxpPmDpuD"
   },
   "outputs": [],
   "source": [
    "df[\"time\"] = pd.to_datetime(df.time)\n",
    "df.head()"
   ]
  },
  {
   "cell_type": "code",
   "execution_count": null,
   "metadata": {},
   "outputs": [],
   "source": [
    "df['time'][0]"
   ]
  },
  {
   "cell_type": "code",
   "execution_count": null,
   "metadata": {
    "executionInfo": {
     "elapsed": 28,
     "status": "aborted",
     "timestamp": 1696798566623,
     "user": {
      "displayName": "Indira Sen",
      "userId": "11191672663586892835"
     },
     "user_tz": -120
    },
    "id": "YT4L3YhzDpuD"
   },
   "outputs": [],
   "source": [
    "df.dtypes"
   ]
  },
  {
   "cell_type": "code",
   "execution_count": null,
   "metadata": {
    "executionInfo": {
     "elapsed": 28,
     "status": "aborted",
     "timestamp": 1696798566623,
     "user": {
      "displayName": "Indira Sen",
      "userId": "11191672663586892835"
     },
     "user_tz": -120
    },
    "id": "fPNRgIk_DpuD"
   },
   "outputs": [],
   "source": [
    "type(df.time)"
   ]
  },
  {
   "cell_type": "code",
   "execution_count": null,
   "metadata": {
    "executionInfo": {
     "elapsed": 28,
     "status": "aborted",
     "timestamp": 1696798566624,
     "user": {
      "displayName": "Indira Sen",
      "userId": "11191672663586892835"
     },
     "user_tz": -120
    },
    "id": "WveYADRfDpuD"
   },
   "outputs": [],
   "source": [
    "df[\"weekday\"] = df['time'].dt.day_name()\n",
    "df.head()"
   ]
  },
  {
   "cell_type": "code",
   "execution_count": null,
   "metadata": {
    "executionInfo": {
     "elapsed": 29,
     "status": "aborted",
     "timestamp": 1696798566625,
     "user": {
      "displayName": "Indira Sen",
      "userId": "11191672663586892835"
     },
     "user_tz": -120
    },
    "id": "H2KOmaeWDpuE"
   },
   "outputs": [],
   "source": [
    "df[\"hours\"] = df.time.dt.hour\n",
    "df.head()"
   ]
  },
  {
   "cell_type": "code",
   "execution_count": null,
   "metadata": {
    "executionInfo": {
     "elapsed": 29,
     "status": "aborted",
     "timestamp": 1696798566625,
     "user": {
      "displayName": "Indira Sen",
      "userId": "11191672663586892835"
     },
     "user_tz": -120
    },
    "id": "wOtbnKyXDpuE"
   },
   "outputs": [],
   "source": [
    "df[\"time_from_last_measurement\"] = df.time.diff()\n",
    "df.head()"
   ]
  },
  {
   "cell_type": "code",
   "execution_count": null,
   "metadata": {
    "executionInfo": {
     "elapsed": 30,
     "status": "aborted",
     "timestamp": 1696798566626,
     "user": {
      "displayName": "Indira Sen",
      "userId": "11191672663586892835"
     },
     "user_tz": -120
    },
    "id": "VmsCgG5vDpuE",
    "scrolled": true
   },
   "outputs": [],
   "source": [
    "df[\"reformatted_date\"] = df.time.dt.strftime(\"%y-%m-%d\")\n",
    "df"
   ]
  },
  {
   "cell_type": "code",
   "execution_count": null,
   "metadata": {
    "executionInfo": {
     "elapsed": 30,
     "status": "aborted",
     "timestamp": 1696798566626,
     "user": {
      "displayName": "Indira Sen",
      "userId": "11191672663586892835"
     },
     "user_tz": -120
    },
    "id": "Z0HITmYoDpuE"
   },
   "outputs": [],
   "source": [
    "df.dtypes"
   ]
  },
  {
   "cell_type": "code",
   "execution_count": null,
   "metadata": {
    "executionInfo": {
     "elapsed": 31,
     "status": "aborted",
     "timestamp": 1696798566627,
     "user": {
      "displayName": "Indira Sen",
      "userId": "11191672663586892835"
     },
     "user_tz": -120
    },
    "id": "yia8EzEyDpuE"
   },
   "outputs": [],
   "source": []
  },
  {
   "cell_type": "markdown",
   "metadata": {
    "id": "lh0qEaKfDpuE"
   },
   "source": [
    "## Data export"
   ]
  },
  {
   "cell_type": "code",
   "execution_count": null,
   "metadata": {
    "executionInfo": {
     "elapsed": 30,
     "status": "aborted",
     "timestamp": 1696798566627,
     "user": {
      "displayName": "Indira Sen",
      "userId": "11191672663586892835"
     },
     "user_tz": -120
    },
    "id": "zH3X_HY9DpuE"
   },
   "outputs": [],
   "source": [
    "# for storing / reloading for later: use pickle\n",
    "import pickle\n",
    "pickle.dump(df, open(\"my_df.p\", \"wb\" ))"
   ]
  },
  {
   "cell_type": "code",
   "execution_count": null,
   "metadata": {
    "executionInfo": {
     "elapsed": 36,
     "status": "aborted",
     "timestamp": 1696798566633,
     "user": {
      "displayName": "Indira Sen",
      "userId": "11191672663586892835"
     },
     "user_tz": -120
    },
    "id": "WRljrq1ADpuE"
   },
   "outputs": [],
   "source": [
    "df_loaded = pickle.load(open(\"my_df.p\", \"rb\" ))\n",
    "df_loaded.head()"
   ]
  },
  {
   "cell_type": "code",
   "execution_count": null,
   "metadata": {
    "executionInfo": {
     "elapsed": 37,
     "status": "aborted",
     "timestamp": 1696798566634,
     "user": {
      "displayName": "Indira Sen",
      "userId": "11191672663586892835"
     },
     "user_tz": -120
    },
    "id": "HNjwSLGxDpuE"
   },
   "outputs": [],
   "source": [
    "df_exp = df[df.hours == 11]\n",
    "df_exp = df[[\"reformatted_date\", \"weekday\", \"status\", \"temperature\"]]\n",
    "df_exp.head()"
   ]
  },
  {
   "cell_type": "code",
   "execution_count": null,
   "metadata": {},
   "outputs": [],
   "source": [
    "df"
   ]
  },
  {
   "cell_type": "code",
   "execution_count": null,
   "metadata": {
    "executionInfo": {
     "elapsed": 37,
     "status": "aborted",
     "timestamp": 1696798566634,
     "user": {
      "displayName": "Indira Sen",
      "userId": "11191672663586892835"
     },
     "user_tz": -120
    },
    "id": "z6Z-6yHcDpuF"
   },
   "outputs": [],
   "source": [
    "df.to_csv(\"data/weather_export_extra.csv\")\n",
    "# df.to_csv('weather_export.csv', sep='\\t', encoding='utf-8')"
   ]
  },
  {
   "cell_type": "code",
   "execution_count": null,
   "metadata": {
    "executionInfo": {
     "elapsed": 37,
     "status": "aborted",
     "timestamp": 1696798566634,
     "user": {
      "displayName": "Indira Sen",
      "userId": "11191672663586892835"
     },
     "user_tz": -120
    },
    "id": "yiFe1vylDpuF"
   },
   "outputs": [],
   "source": [
    "df_exp.to_html(\"weather_export.html\")"
   ]
  },
  {
   "cell_type": "code",
   "execution_count": null,
   "metadata": {
    "executionInfo": {
     "elapsed": 38,
     "status": "aborted",
     "timestamp": 1696798566635,
     "user": {
      "displayName": "Indira Sen",
      "userId": "11191672663586892835"
     },
     "user_tz": -120
    },
    "id": "Y2Md4ZeJDpuF"
   },
   "outputs": [],
   "source": [
    "df_exp.to_latex()"
   ]
  },
  {
   "cell_type": "markdown",
   "metadata": {
    "id": "LAalGNvZDpuF"
   },
   "source": [
    "## Styling"
   ]
  },
  {
   "cell_type": "code",
   "execution_count": null,
   "metadata": {
    "executionInfo": {
     "elapsed": 37,
     "status": "aborted",
     "timestamp": 1696798566635,
     "user": {
      "displayName": "Indira Sen",
      "userId": "11191672663586892835"
     },
     "user_tz": -120
    },
    "id": "pNX9RMDvDpuF"
   },
   "outputs": [],
   "source": [
    "df = pd.DataFrame(np.random.randint(0,100,size=(10, 4)), columns=list('ABCD'))"
   ]
  },
  {
   "cell_type": "code",
   "execution_count": null,
   "metadata": {
    "executionInfo": {
     "elapsed": 37,
     "status": "aborted",
     "timestamp": 1696798566635,
     "user": {
      "displayName": "Indira Sen",
      "userId": "11191672663586892835"
     },
     "user_tz": -120
    },
    "id": "RfmxgYV4DpuF"
   },
   "outputs": [],
   "source": [
    "df"
   ]
  },
  {
   "cell_type": "code",
   "execution_count": null,
   "metadata": {
    "executionInfo": {
     "elapsed": 37,
     "status": "aborted",
     "timestamp": 1696798566635,
     "user": {
      "displayName": "Indira Sen",
      "userId": "11191672663586892835"
     },
     "user_tz": -120
    },
    "id": "Tp6eD4c-DpuF",
    "scrolled": true
   },
   "outputs": [],
   "source": [
    "df.style.background_gradient()"
   ]
  },
  {
   "cell_type": "code",
   "execution_count": null,
   "metadata": {
    "executionInfo": {
     "elapsed": 37,
     "status": "aborted",
     "timestamp": 1696798566635,
     "user": {
      "displayName": "Indira Sen",
      "userId": "11191672663586892835"
     },
     "user_tz": -120
    },
    "id": "UJeAY4hUDpuG"
   },
   "outputs": [],
   "source": [
    "df.style.highlight_max()"
   ]
  },
  {
   "cell_type": "code",
   "execution_count": null,
   "metadata": {
    "executionInfo": {
     "elapsed": 37,
     "status": "aborted",
     "timestamp": 1696798566636,
     "user": {
      "displayName": "Indira Sen",
      "userId": "11191672663586892835"
     },
     "user_tz": -120
    },
    "id": "lrTWVtUrDpuG"
   },
   "outputs": [],
   "source": [
    "df.style.set_properties(**{'background-color': 'black',\n",
    "                           'color': 'lawngreen',\n",
    "                           'border-color': 'white'})"
   ]
  },
  {
   "cell_type": "code",
   "execution_count": null,
   "metadata": {
    "executionInfo": {
     "elapsed": 38,
     "status": "aborted",
     "timestamp": 1696798566637,
     "user": {
      "displayName": "Indira Sen",
      "userId": "11191672663586892835"
     },
     "user_tz": -120
    },
    "id": "92syaDa2DpuG"
   },
   "outputs": [],
   "source": []
  },
  {
   "cell_type": "code",
   "execution_count": null,
   "metadata": {
    "executionInfo": {
     "elapsed": 2576,
     "status": "aborted",
     "timestamp": 1696798566637,
     "user": {
      "displayName": "Indira Sen",
      "userId": "11191672663586892835"
     },
     "user_tz": -120
    },
    "id": "zgGNmxP0DpuG"
   },
   "outputs": [],
   "source": [
    "pd?"
   ]
  },
  {
   "cell_type": "markdown",
   "metadata": {
    "id": "nzwIAIZ2DpuG"
   },
   "source": [
    "## Transpose\n"
   ]
  },
  {
   "cell_type": "code",
   "execution_count": null,
   "metadata": {
    "executionInfo": {
     "elapsed": 2576,
     "status": "aborted",
     "timestamp": 1696798566637,
     "user": {
      "displayName": "Indira Sen",
      "userId": "11191672663586892835"
     },
     "user_tz": -120
    },
    "id": "_iMjqudADpuG"
   },
   "outputs": [],
   "source": [
    "h=df.head(5)\n",
    "h"
   ]
  },
  {
   "cell_type": "code",
   "execution_count": null,
   "metadata": {
    "executionInfo": {
     "elapsed": 2576,
     "status": "aborted",
     "timestamp": 1696798566638,
     "user": {
      "displayName": "Indira Sen",
      "userId": "11191672663586892835"
     },
     "user_tz": -120
    },
    "id": "xJM0LN7PDpuG",
    "scrolled": true
   },
   "outputs": [],
   "source": [
    "h.T"
   ]
  },
  {
   "cell_type": "code",
   "execution_count": null,
   "metadata": {
    "executionInfo": {
     "elapsed": 2576,
     "status": "aborted",
     "timestamp": 1696798566638,
     "user": {
      "displayName": "Indira Sen",
      "userId": "11191672663586892835"
     },
     "user_tz": -120
    },
    "id": "_cqa-PS4DpuH"
   },
   "outputs": [],
   "source": [
    "h.loc[3]"
   ]
  },
  {
   "cell_type": "code",
   "execution_count": null,
   "metadata": {
    "executionInfo": {
     "elapsed": 2576,
     "status": "aborted",
     "timestamp": 1696798566638,
     "user": {
      "displayName": "Indira Sen",
      "userId": "11191672663586892835"
     },
     "user_tz": -120
    },
    "id": "x1YtS440DpuH"
   },
   "outputs": [],
   "source": [
    "h.T[3]"
   ]
  },
  {
   "cell_type": "markdown",
   "metadata": {
    "id": "lmf3q1lPDpuI"
   },
   "source": [
    "## OPTIONAL"
   ]
  },
  {
   "cell_type": "code",
   "execution_count": null,
   "metadata": {},
   "outputs": [],
   "source": [
    "df = pd.read_csv('data/adult.csv')"
   ]
  },
  {
   "cell_type": "code",
   "execution_count": null,
   "metadata": {
    "executionInfo": {
     "elapsed": 2576,
     "status": "aborted",
     "timestamp": 1696798566639,
     "user": {
      "displayName": "Indira Sen",
      "userId": "11191672663586892835"
     },
     "user_tz": -120
    },
    "id": "BeRLMvizDpuI",
    "scrolled": true
   },
   "outputs": [],
   "source": [
    "df2 = df[[\"age\", \"sex\", \"workclass\"]]\n",
    "df2.head(10)"
   ]
  },
  {
   "cell_type": "code",
   "execution_count": null,
   "metadata": {
    "executionInfo": {
     "elapsed": 2576,
     "status": "aborted",
     "timestamp": 1696798566639,
     "user": {
      "displayName": "Indira Sen",
      "userId": "11191672663586892835"
     },
     "user_tz": -120
    },
    "id": "Ys83yA1eDpuI"
   },
   "outputs": [],
   "source": [
    "### Apply is also often used in combination with a lambda function:\n",
    "df2[\"my_val_3\"] = df2.apply (lambda x: \"Young\" if x.age < 30 else x.sex, axis=1)\n",
    "df2.head(20)"
   ]
  },
  {
   "cell_type": "code",
   "execution_count": null,
   "metadata": {
    "executionInfo": {
     "elapsed": 2576,
     "status": "aborted",
     "timestamp": 1696798566640,
     "user": {
      "displayName": "Indira Sen",
      "userId": "11191672663586892835"
     },
     "user_tz": -120
    },
    "id": "-hnIcw7dDpuJ"
   },
   "outputs": [],
   "source": [
    "df[df ['marital-status'].str.match(\"Married-(.*)-spouse\")].sample(4)"
   ]
  },
  {
   "cell_type": "markdown",
   "metadata": {},
   "source": [
    "### Plotting with Pandas "
   ]
  },
  {
   "cell_type": "markdown",
   "metadata": {},
   "source": [
    "Pandas also has plotting functions directly integrated. These are basically shortcuts to matplotlib"
   ]
  },
  {
   "cell_type": "code",
   "execution_count": null,
   "metadata": {},
   "outputs": [],
   "source": [
    "import pandas as pd\n",
    "\n",
    "df = pd.read_csv (\"data/adult.csv\", na_values=\"?\")\n",
    "h = df.head(100)\n",
    "h"
   ]
  },
  {
   "cell_type": "markdown",
   "metadata": {},
   "source": [
    "Let us get the number of males and females"
   ]
  },
  {
   "cell_type": "code",
   "execution_count": null,
   "metadata": {},
   "outputs": [],
   "source": [
    "df.sex.value_counts()"
   ]
  },
  {
   "cell_type": "markdown",
   "metadata": {},
   "source": [
    "Now lets try to use Pandas plotting functionality. Its call plot(). \n",
    "We can specify different \"kind\" in plot() -- ‘line’ : line plot (default); ‘bar’ : vertical bar plot; ‘barh’ : horizontal bar plot; \n",
    "‘hist’ : histogram; ‘pie’ : pie plot; ‘scatter’ : scatter plot\n",
    "\n",
    "\n",
    "Lets start by creating bar plot for the number of males and females."
   ]
  },
  {
   "cell_type": "markdown",
   "metadata": {},
   "source": [
    "## Bar"
   ]
  },
  {
   "cell_type": "code",
   "execution_count": null,
   "metadata": {},
   "outputs": [],
   "source": [
    "df.sex.value_counts().plot(kind=\"bar\")"
   ]
  },
  {
   "cell_type": "markdown",
   "metadata": {},
   "source": [
    "What if we want to plot the densities instead of counts."
   ]
  },
  {
   "cell_type": "code",
   "execution_count": null,
   "metadata": {},
   "outputs": [],
   "source": [
    "(df.sex.value_counts() / len(df)).plot(kind=\"bar\")"
   ]
  },
  {
   "cell_type": "markdown",
   "metadata": {},
   "source": [
    "## Histogram\n",
    "\n",
    "Now lets try to plot the histogram of the ages."
   ]
  },
  {
   "cell_type": "code",
   "execution_count": null,
   "metadata": {},
   "outputs": [],
   "source": [
    "df[\"age\"].hist(bins=[20,25,30,35,40,50])"
   ]
  },
  {
   "cell_type": "code",
   "execution_count": null,
   "metadata": {},
   "outputs": [],
   "source": [
    "# since its a shortcut to matplotlib, we can just add matplotlib parameters\n",
    "df[\"age\"].hist(bins=[20, 25,30,35,40,50], rwidth=0.5, color=\"red\")"
   ]
  },
  {
   "cell_type": "markdown",
   "metadata": {},
   "source": [
    "## Scatter"
   ]
  },
  {
   "cell_type": "code",
   "execution_count": null,
   "metadata": {},
   "outputs": [],
   "source": [
    "h.plot(x=\"age\", y=\"hours-per-week\", kind=\"scatter\")"
   ]
  },
  {
   "cell_type": "markdown",
   "metadata": {},
   "source": [
    "# Seaborn"
   ]
  },
  {
   "cell_type": "markdown",
   "metadata": {},
   "source": [
    "Seaborn is another visualization library built on top of matplotlib and pandas. It offers new styles, simple creation of more standardized plots and easy acces from pandas\n"
   ]
  },
  {
   "cell_type": "code",
   "execution_count": null,
   "metadata": {},
   "outputs": [],
   "source": [
    "import seaborn as sns"
   ]
  },
  {
   "cell_type": "code",
   "execution_count": null,
   "metadata": {},
   "outputs": [],
   "source": [
    "sns.factorplot(x=\"sex\", y=\"age\", data=df)"
   ]
  },
  {
   "cell_type": "code",
   "execution_count": null,
   "metadata": {},
   "outputs": [],
   "source": [
    "sns.factorplot(x=\"race\", y=\"age\", hue=\"sex\", data=df, kind=\"bar\")"
   ]
  },
  {
   "cell_type": "code",
   "execution_count": null,
   "metadata": {},
   "outputs": [],
   "source": [
    "sns.factorplot(x=\"race\", y=\"age\", hue=\"sex\", data=df, kind=\"bar\",  aspect=3)"
   ]
  },
  {
   "cell_type": "code",
   "execution_count": null,
   "metadata": {},
   "outputs": [],
   "source": [
    "sns.regplot (\"age\", \"hours-per-week\", data=df.head(1000))"
   ]
  },
  {
   "cell_type": "code",
   "execution_count": null,
   "metadata": {},
   "outputs": [],
   "source": [
    "sns.distplot(df.age, bins=20)"
   ]
  },
  {
   "cell_type": "code",
   "execution_count": null,
   "metadata": {},
   "outputs": [],
   "source": [
    "c = df.corr()\n",
    "c"
   ]
  },
  {
   "cell_type": "code",
   "execution_count": null,
   "metadata": {},
   "outputs": [],
   "source": [
    "sns.heatmap(c)"
   ]
  },
  {
   "cell_type": "code",
   "execution_count": null,
   "metadata": {},
   "outputs": [],
   "source": [
    "plt.figure(figsize=(10,5))\n",
    "g = sns.lmplot(x=\"age\", y=\"hours-per-week\", hue=\"sex\",\n",
    "               truncate=True, size=5, data=h)"
   ]
  },
  {
   "cell_type": "code",
   "execution_count": null,
   "metadata": {},
   "outputs": [],
   "source": [
    "sns.jointplot(df.age, df[\"education-num\"], kind=\"kde\", color=\"#4CB391\")"
   ]
  },
  {
   "cell_type": "code",
   "execution_count": null,
   "metadata": {},
   "outputs": [],
   "source": [
    "sns.pairplot(data=df.sample(1000), hue=\"sex\")"
   ]
  },
  {
   "cell_type": "code",
   "execution_count": null,
   "metadata": {},
   "outputs": [],
   "source": [
    "f = plt.figure()\n",
    "plt.gca().plot(x,y)"
   ]
  },
  {
   "cell_type": "code",
   "execution_count": null,
   "metadata": {},
   "outputs": [],
   "source": [
    "f.suptitle(\"Hallo\")\n",
    "f"
   ]
  },
  {
   "cell_type": "markdown",
   "metadata": {
    "collapsed": true,
    "id": "qQhd6dM3DpuJ",
    "jupyter": {
     "outputs_hidden": true
    }
   },
   "source": [
    "## More material:"
   ]
  },
  {
   "cell_type": "markdown",
   "metadata": {
    "id": "0ZY7U1pxDpuJ"
   },
   "source": [
    "* The official pandas documentation: https://pandas.pydata.org/\n",
    "* A tutorial by Brandon Rhodes from PyCon 2015:\n",
    "https://www.youtube.com/watch?v=5JnMutdy6Fw\n",
    " with material and exercises\n",
    "https://github.com/brandon-rhodes/pycon-pandas-tutorial\n",
    "\n",
    "* Daniel Chan: Introduction to pandas: https://www.youtube.com/watch?v=dye7rDktJ2E"
   ]
  }
 ],
 "metadata": {
  "colab": {
   "provenance": []
  },
  "hide_input": false,
  "kernelspec": {
   "display_name": "Python 3 (ipykernel)",
   "language": "python",
   "name": "python3"
  },
  "language_info": {
   "codemirror_mode": {
    "name": "ipython",
    "version": 3
   },
   "file_extension": ".py",
   "mimetype": "text/x-python",
   "name": "python",
   "nbconvert_exporter": "python",
   "pygments_lexer": "ipython3",
   "version": "3.10.12"
  },
  "nav_menu": {},
  "toc": {
   "base_numbering": 1,
   "nav_menu": {},
   "number_sections": true,
   "sideBar": true,
   "skip_h1_title": false,
   "title_cell": "Table of Contents",
   "title_sidebar": "Contents",
   "toc_cell": true,
   "toc_position": {},
   "toc_section_display": "block",
   "toc_window_display": false
  },
  "varInspector": {
   "cols": {
    "lenName": 16,
    "lenType": 16,
    "lenVar": 40
   },
   "kernels_config": {
    "python": {
     "delete_cmd_postfix": "",
     "delete_cmd_prefix": "del ",
     "library": "var_list.py",
     "varRefreshCmd": "print(var_dic_list())"
    },
    "r": {
     "delete_cmd_postfix": ") ",
     "delete_cmd_prefix": "rm(",
     "library": "var_list.r",
     "varRefreshCmd": "cat(var_dic_list()) "
    }
   },
   "types_to_exclude": [
    "module",
    "function",
    "builtin_function_or_method",
    "instance",
    "_Feature"
   ],
   "window_display": false
  }
 },
 "nbformat": 4,
 "nbformat_minor": 4
}
