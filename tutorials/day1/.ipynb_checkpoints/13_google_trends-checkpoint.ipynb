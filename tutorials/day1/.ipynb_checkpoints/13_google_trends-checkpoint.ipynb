{
 "cells": [
  {
   "cell_type": "markdown",
   "id": "b8ec7e23",
   "metadata": {},
   "source": [
    "# Getting Google Trends Data Using Pytrends\n",
    "\n",
    "Pytrends is a Python library that allows you to easily access Google Trends data. Google Trends provides insights into what people are searching for on Google. Pytrends simplifies the process of fetching and analyzing this data programmatically. In this tutorial, we will walk through the installation process and demonstrate how to use Pytrends to retrieve and visualize Google Trends data."
   ]
  },
  {
   "cell_type": "markdown",
   "id": "54806eba",
   "metadata": {},
   "source": [
    "## 1. Installation\n",
    "\n",
    "First, make sure you have Python installed on your system. You can download and install Python from [python.org](https://www.python.org/downloads/).\n",
    "\n",
    "You can install Pytrends using pip, the Python package manager:"
   ]
  },
  {
   "cell_type": "code",
   "execution_count": 1,
   "id": "9a5c486d-d60e-462d-a6a3-cd6e10784b65",
   "metadata": {},
   "outputs": [
    {
     "name": "stdout",
     "output_type": "stream",
     "text": [
      "Python 3.10.12\n"
     ]
    }
   ],
   "source": [
    "! python3 --version"
   ]
  },
  {
   "cell_type": "code",
   "execution_count": 3,
   "id": "0d63179e",
   "metadata": {
    "scrolled": true
   },
   "outputs": [
    {
     "name": "stdout",
     "output_type": "stream",
     "text": [
      "Defaulting to user installation because normal site-packages is not writeable\n",
      "Looking in indexes: https://pypi.org/simple, https://packagecloud.io/github/git-lfs/pypi/simple\n",
      "Requirement already satisfied: pytrends in /home/sukayna/.local/lib/python3.12/site-packages (4.9.2)\n",
      "Requirement already satisfied: requests>=2.0 in /usr/lib/python3/dist-packages (from pytrends) (2.25.1)\n",
      "Requirement already satisfied: pandas>=0.25 in /home/sukayna/.local/lib/python3.12/site-packages (from pytrends) (2.2.1)\n",
      "Requirement already satisfied: lxml in /usr/lib/python3/dist-packages (from pytrends) (4.8.0)\n",
      "Requirement already satisfied: numpy<2,>=1.26.0 in /home/sukayna/.local/lib/python3.12/site-packages (from pandas>=0.25->pytrends) (1.26.4)\n",
      "Requirement already satisfied: python-dateutil>=2.8.2 in /home/sukayna/.local/lib/python3.12/site-packages (from pandas>=0.25->pytrends) (2.8.2)\n",
      "Requirement already satisfied: pytz>=2020.1 in /usr/lib/python3/dist-packages (from pandas>=0.25->pytrends) (2022.1)\n",
      "Requirement already satisfied: tzdata>=2022.7 in /home/sukayna/.local/lib/python3.12/site-packages (from pandas>=0.25->pytrends) (2024.1)\n",
      "Requirement already satisfied: six>=1.5 in /usr/lib/python3/dist-packages (from python-dateutil>=2.8.2->pandas>=0.25->pytrends) (1.16.0)\n"
     ]
    }
   ],
   "source": [
    "!pip install pytrends\n",
    "# !pip install pytrends --upgrade"
   ]
  },
  {
   "cell_type": "markdown",
   "id": "1d1d965f",
   "metadata": {},
   "source": [
    "Once Pytrends is installed, you can import it into your Python script or interactive session:"
   ]
  },
  {
   "cell_type": "code",
   "execution_count": 4,
   "id": "3b1aab4a-ef1d-4bf3-8c60-158df6e4760e",
   "metadata": {},
   "outputs": [
    {
     "ename": "ModuleNotFoundError",
     "evalue": "No module named 'pytrends'",
     "output_type": "error",
     "traceback": [
      "\u001b[0;31m---------------------------------------------------------------------------\u001b[0m",
      "\u001b[0;31mModuleNotFoundError\u001b[0m                       Traceback (most recent call last)",
      "\u001b[0;32m/tmp/ipykernel_29749/2219242005.py\u001b[0m in \u001b[0;36m<module>\u001b[0;34m\u001b[0m\n\u001b[0;32m----> 1\u001b[0;31m \u001b[0;32mfrom\u001b[0m \u001b[0mpytrends\u001b[0m\u001b[0;34m.\u001b[0m\u001b[0mrequest\u001b[0m \u001b[0;32mimport\u001b[0m \u001b[0mTrendReq\u001b[0m\u001b[0;34m\u001b[0m\u001b[0;34m\u001b[0m\u001b[0m\n\u001b[0m",
      "\u001b[0;31mModuleNotFoundError\u001b[0m: No module named 'pytrends'"
     ]
    }
   ],
   "source": [
    "from pytrends.request import TrendReq"
   ]
  },
  {
   "cell_type": "code",
   "execution_count": 5,
   "id": "a17713f2",
   "metadata": {},
   "outputs": [
    {
     "ename": "ModuleNotFoundError",
     "evalue": "No module named 'pytrends'",
     "output_type": "error",
     "traceback": [
      "\u001b[0;31m---------------------------------------------------------------------------\u001b[0m",
      "\u001b[0;31mModuleNotFoundError\u001b[0m                       Traceback (most recent call last)",
      "\u001b[0;32m/tmp/ipykernel_29749/4085083225.py\u001b[0m in \u001b[0;36m<module>\u001b[0;34m\u001b[0m\n\u001b[0;32m----> 1\u001b[0;31m \u001b[0;32mimport\u001b[0m \u001b[0mpytrends\u001b[0m\u001b[0;34m\u001b[0m\u001b[0;34m\u001b[0m\u001b[0m\n\u001b[0m\u001b[1;32m      2\u001b[0m \u001b[0;32mfrom\u001b[0m \u001b[0mpytrends\u001b[0m\u001b[0;34m.\u001b[0m\u001b[0mrequest\u001b[0m \u001b[0;32mimport\u001b[0m \u001b[0mTrendReq\u001b[0m\u001b[0;34m\u001b[0m\u001b[0;34m\u001b[0m\u001b[0m\n",
      "\u001b[0;31mModuleNotFoundError\u001b[0m: No module named 'pytrends'"
     ]
    }
   ],
   "source": [
    "import pytrends\n",
    "from pytrends.request import TrendReq"
   ]
  },
  {
   "cell_type": "markdown",
   "id": "db37f504",
   "metadata": {},
   "source": [
    "## 2. Retrieving Google Trends Data\n",
    "\n",
    "### Initializing Pytrends\n",
    "\n",
    "To start retrieving Google Trends data, create a `TrendReq` object:"
   ]
  },
  {
   "cell_type": "code",
   "execution_count": null,
   "id": "03409c7d",
   "metadata": {},
   "outputs": [],
   "source": [
    "pytrends = TrendReq()"
   ]
  },
  {
   "cell_type": "markdown",
   "id": "f688689b",
   "metadata": {},
   "source": [
    "### Searching for Keywords\n",
    "\n",
    "You can search for the popularity of specific keywords over time:"
   ]
  },
  {
   "cell_type": "code",
   "execution_count": null,
   "id": "5bd13fab",
   "metadata": {},
   "outputs": [],
   "source": [
    "keywords = [\"Python\", \"Data Science\", \"Machine Learning\"]\n",
    "pytrends.build_payload(keywords, timeframe='today 5-y')"
   ]
  },
  {
   "cell_type": "markdown",
   "id": "1ddbee8e",
   "metadata": {},
   "source": [
    "### Retrieving Interest Over Time\n",
    "\n",
    "You can retrieve the interest over time for the specified keywords:"
   ]
  },
  {
   "cell_type": "code",
   "execution_count": null,
   "id": "deafaf3f",
   "metadata": {},
   "outputs": [],
   "source": [
    "interest_over_time_df = pytrends.interest_over_time()\n",
    "print(interest_over_time_df.head())"
   ]
  },
  {
   "cell_type": "markdown",
   "id": "b76e0f0a",
   "metadata": {},
   "source": [
    "### Retrieving Related Queries\n",
    "\n",
    "You can also retrieve related queries for a specific keyword:"
   ]
  },
  {
   "cell_type": "code",
   "execution_count": null,
   "id": "7730b00e",
   "metadata": {},
   "outputs": [],
   "source": [
    "related_queries = pytrends.related_queries()\n",
    "print(related_queries)"
   ]
  },
  {
   "cell_type": "markdown",
   "id": "232b760c",
   "metadata": {},
   "source": [
    "## 3. Visualizing Trends Data\n",
    "\n",
    "### Using Matplotlib for Visualization\n",
    "\n",
    "You can visualize Google Trends data using popular plotting libraries like Matplotlib:"
   ]
  },
  {
   "cell_type": "code",
   "execution_count": null,
   "id": "daf15d5e",
   "metadata": {},
   "outputs": [],
   "source": [
    "import matplotlib.pyplot as plt\n",
    "\n",
    "plt.figure(figsize=(10, 5))\n",
    "interest_over_time_df.plot()\n",
    "plt.title('Interest Over Time')\n",
    "plt.xlabel('Date')\n",
    "plt.ylabel('Interest')\n",
    "plt.grid(True)\n",
    "plt.show()"
   ]
  },
  {
   "cell_type": "markdown",
   "id": "f1924869",
   "metadata": {},
   "source": [
    "## 4. Advanced Usage\n",
    "\n",
    "### Geographic Trends\n",
    "\n",
    "You can retrieve geographic trends for specific keywords:"
   ]
  },
  {
   "cell_type": "code",
   "execution_count": null,
   "id": "8b84161e",
   "metadata": {},
   "outputs": [],
   "source": [
    "pytrends.build_payload(keywords, geo='US')\n",
    "geo_interest = pytrends.interest_by_region()\n",
    "print(geo_interest)"
   ]
  },
  {
   "cell_type": "code",
   "execution_count": null,
   "id": "7f81cc48",
   "metadata": {},
   "outputs": [],
   "source": [
    "# let's try for Germany\n",
    "pytrends.build_payload(keywords, geo='DE')\n",
    "geo_interest = pytrends.interest_by_region()\n",
    "print(geo_interest)"
   ]
  },
  {
   "cell_type": "markdown",
   "id": "2f634e3c",
   "metadata": {},
   "source": [
    "### Category Trends\n",
    "\n",
    "You can retrieve trends for specific categories as well. Category refer to broad topical classifications like 'Music & Audio'. Here are all the categories: https://github.com/pat310/google-trends-api/wiki/Google-Trends-Categories"
   ]
  },
  {
   "cell_type": "code",
   "execution_count": null,
   "id": "37af911c",
   "metadata": {},
   "outputs": [],
   "source": [
    "pytrends.build_payload(keywords, cat=0) # 0 is for all\n",
    "category_interest = pytrends.interest_by_region()\n",
    "print(category_interest)"
   ]
  },
  {
   "cell_type": "code",
   "execution_count": null,
   "id": "dabfff43",
   "metadata": {},
   "outputs": [],
   "source": [
    "pytrends.build_payload(keywords, cat=231) # 231 is for 'Engineering & Technology'\n",
    "category_interest = pytrends.interest_by_region()\n",
    "print(category_interest)"
   ]
  },
  {
   "cell_type": "markdown",
   "id": "9cded775",
   "metadata": {},
   "source": [
    "### Real-time Trends\n",
    "\n",
    "You can retrieve real-time trends:"
   ]
  },
  {
   "cell_type": "code",
   "execution_count": null,
   "id": "400fec07",
   "metadata": {},
   "outputs": [],
   "source": [
    "pytrends.build_payload(keywords, timeframe='now 1-H')\n",
    "realtime_interest = pytrends.interest_over_time()\n",
    "print(realtime_interest)"
   ]
  },
  {
   "cell_type": "markdown",
   "id": "ce55e9b2",
   "metadata": {},
   "source": [
    "### Spatial Plot of the Trends"
   ]
  },
  {
   "cell_type": "code",
   "execution_count": null,
   "id": "71d41a31",
   "metadata": {},
   "outputs": [],
   "source": [
    "import plotly.express as px"
   ]
  },
  {
   "cell_type": "code",
   "execution_count": null,
   "id": "4d78bbc8",
   "metadata": {},
   "outputs": [],
   "source": [
    "keywords = ['barbie', 'oppenheimer']\n",
    "pytrends.build_payload(keywords, geo='US',\n",
    "                      timeframe='2023-07-01 2023-08-01',\n",
    "                      cat = 3 # 'Arts & Entertainment'\n",
    "                      ) \n",
    "geo_interest = pytrends.interest_by_region()\n",
    "print(geo_interest)"
   ]
  },
  {
   "cell_type": "code",
   "execution_count": null,
   "id": "b86d6734",
   "metadata": {},
   "outputs": [],
   "source": [
    "geo_interest['diff'] = geo_interest['barbie'] - geo_interest['oppenheimer']\n",
    "geo_interest = geo_interest.reset_index()\n",
    "geo_interest"
   ]
  },
  {
   "cell_type": "code",
   "execution_count": null,
   "id": "b50961b3",
   "metadata": {},
   "outputs": [],
   "source": [
    "# let's get the state abbreviations\n",
    "\n",
    "us_state_to_abbrev = {\n",
    "    \"Alabama\": \"AL\",\n",
    "    \"Alaska\": \"AK\",\n",
    "    \"Arizona\": \"AZ\",\n",
    "    \"Arkansas\": \"AR\",\n",
    "    \"California\": \"CA\",\n",
    "    \"Colorado\": \"CO\",\n",
    "    \"Connecticut\": \"CT\",\n",
    "    \"Delaware\": \"DE\",\n",
    "    \"Florida\": \"FL\",\n",
    "    \"Georgia\": \"GA\",\n",
    "    \"Hawaii\": \"HI\",\n",
    "    \"Idaho\": \"ID\",\n",
    "    \"Illinois\": \"IL\",\n",
    "    \"Indiana\": \"IN\",\n",
    "    \"Iowa\": \"IA\",\n",
    "    \"Kansas\": \"KS\",\n",
    "    \"Kentucky\": \"KY\",\n",
    "    \"Louisiana\": \"LA\",\n",
    "    \"Maine\": \"ME\",\n",
    "    \"Maryland\": \"MD\",\n",
    "    \"Massachusetts\": \"MA\",\n",
    "    \"Michigan\": \"MI\",\n",
    "    \"Minnesota\": \"MN\",\n",
    "    \"Mississippi\": \"MS\",\n",
    "    \"Missouri\": \"MO\",\n",
    "    \"Montana\": \"MT\",\n",
    "    \"Nebraska\": \"NE\",\n",
    "    \"Nevada\": \"NV\",\n",
    "    \"New Hampshire\": \"NH\",\n",
    "    \"New Jersey\": \"NJ\",\n",
    "    \"New Mexico\": \"NM\",\n",
    "    \"New York\": \"NY\",\n",
    "    \"North Carolina\": \"NC\",\n",
    "    \"North Dakota\": \"ND\",\n",
    "    \"Ohio\": \"OH\",\n",
    "    \"Oklahoma\": \"OK\",\n",
    "    \"Oregon\": \"OR\",\n",
    "    \"Pennsylvania\": \"PA\",\n",
    "    \"Rhode Island\": \"RI\",\n",
    "    \"South Carolina\": \"SC\",\n",
    "    \"South Dakota\": \"SD\",\n",
    "    \"Tennessee\": \"TN\",\n",
    "    \"Texas\": \"TX\",\n",
    "    \"Utah\": \"UT\",\n",
    "    \"Vermont\": \"VT\",\n",
    "    \"Virginia\": \"VA\",\n",
    "    \"Washington\": \"WA\",\n",
    "    \"West Virginia\": \"WV\",\n",
    "    \"Wisconsin\": \"WI\",\n",
    "    \"Wyoming\": \"WY\",\n",
    "    \"District of Columbia\": \"DC\",\n",
    "    \"American Samoa\": \"AS\",\n",
    "    \"Guam\": \"GU\",\n",
    "    \"Northern Mariana Islands\": \"MP\",\n",
    "    \"Puerto Rico\": \"PR\",\n",
    "    \"United States Minor Outlying Islands\": \"UM\",\n",
    "    \"U.S. Virgin Islands\": \"VI\",\n",
    "}\n",
    "    \n",
    "geo_interest['state_code'] = [us_state_to_abbrev[i] for i in geo_interest['geoName']]"
   ]
  },
  {
   "cell_type": "code",
   "execution_count": null,
   "id": "e659826f",
   "metadata": {},
   "outputs": [],
   "source": [
    "geo_interest"
   ]
  },
  {
   "cell_type": "code",
   "execution_count": null,
   "id": "ff5be06f",
   "metadata": {},
   "outputs": [],
   "source": [
    "fig = px.choropleth(geo_interest,\n",
    "                    locations='state_code',\n",
    "                    color='diff',\n",
    "                    color_continuous_scale='spectral_r',\n",
    "                    hover_name='state_code',\n",
    "                    locationmode='USA-states',\n",
    "                    scope='usa')\n",
    "fig.add_scattergeo(\n",
    "    locations=geo_interest['state_code'],\n",
    "    locationmode=\"USA-states\", \n",
    "    text=geo_interest['state_code'],\n",
    "    mode='text',\n",
    ")\n",
    "fig.update_layout(\n",
    "    title_x = 0.5,\n",
    "    title_y = 0.95,\n",
    "    title_text='Preference for Barbie over Oppenheimer by US States',\n",
    "    margin=dict(t=10, b=0, r=0, l=0),  # Set b (bottom) margin to 0\n",
    "    autosize=True,\n",
    "    # width=1300,\n",
    "    # height=700,\n",
    ")\n",
    "\n",
    "fig.show()\n",
    "fig.write_image('barbenheimer_interest.pdf')"
   ]
  },
  {
   "cell_type": "code",
   "execution_count": null,
   "id": "19aa8118",
   "metadata": {},
   "outputs": [],
   "source": []
  },
  {
   "cell_type": "code",
   "execution_count": null,
   "id": "e963b77c",
   "metadata": {},
   "outputs": [],
   "source": []
  }
 ],
 "metadata": {
  "kernelspec": {
   "display_name": "Python 3 (ipykernel)",
   "language": "python",
   "name": "python3"
  },
  "language_info": {
   "codemirror_mode": {
    "name": "ipython",
    "version": 3
   },
   "file_extension": ".py",
   "mimetype": "text/x-python",
   "name": "python",
   "nbconvert_exporter": "python",
   "pygments_lexer": "ipython3",
   "version": "3.10.12"
  }
 },
 "nbformat": 4,
 "nbformat_minor": 5
}
